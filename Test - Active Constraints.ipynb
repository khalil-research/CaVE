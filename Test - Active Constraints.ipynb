{
 "cells": [
  {
   "cell_type": "code",
   "execution_count": 1,
   "id": "04db6c07",
   "metadata": {},
   "outputs": [],
   "source": [
    "import gurobipy as gp\n",
    "from gurobipy import GRB"
   ]
  },
  {
   "cell_type": "markdown",
   "id": "64ec7650",
   "metadata": {},
   "source": [
    "## Original Binary Integer Programing"
   ]
  },
  {
   "cell_type": "code",
   "execution_count": 2,
   "id": "6b6f4260",
   "metadata": {},
   "outputs": [
    {
     "name": "stdout",
     "output_type": "stream",
     "text": [
      "Set parameter Username\n",
      "Academic license - for non-commercial use only - expires 2023-07-09\n"
     ]
    }
   ],
   "source": [
    "# model\n",
    "m = gp.Model(\"example\")\n",
    "# vars\n",
    "x = m.addVars([1,2], name=\"x\", vtype=GRB.BINARY)\n",
    "# constr\n",
    "m.addConstr(2 * x[1] + 2 * x[2] <= 3, name=\"r1\")\n",
    "# sense\n",
    "m.modelSense = GRB.MAXIMIZE\n",
    "# update\n",
    "m.update()"
   ]
  },
  {
   "cell_type": "code",
   "execution_count": 3,
   "id": "ffdbc99e",
   "metadata": {},
   "outputs": [
    {
     "name": "stdout",
     "output_type": "stream",
     "text": [
      "Gurobi Optimizer version 9.5.0 build v9.5.0rc5 (win64)\n",
      "Thread count: 8 physical cores, 16 logical processors, using up to 16 threads\n",
      "Optimize a model with 1 rows, 2 columns and 2 nonzeros\n",
      "Model fingerprint: 0xb4999a09\n",
      "Variable types: 0 continuous, 2 integer (2 binary)\n",
      "Coefficient statistics:\n",
      "  Matrix range     [2e+00, 2e+00]\n",
      "  Objective range  [1e+00, 2e+00]\n",
      "  Bounds range     [1e+00, 1e+00]\n",
      "  RHS range        [3e+00, 3e+00]\n",
      "Found heuristic solution: objective 2.0000000\n",
      "Presolve removed 1 rows and 2 columns\n",
      "Presolve time: 0.00s\n",
      "Presolve: All rows and columns removed\n",
      "\n",
      "Explored 0 nodes (0 simplex iterations) in 0.00 seconds (0.00 work units)\n",
      "Thread count was 1 (of 16 available processors)\n",
      "\n",
      "Solution count 1: 2 \n",
      "\n",
      "Optimal solution found (tolerance 1.00e-04)\n",
      "Best objective 2.000000000000e+00, best bound 2.000000000000e+00, gap 0.0000%\n",
      "\n",
      "Solution:\n",
      "x1: 1.00, x2: 0.00\n",
      "\n",
      "Slack:\n"
     ]
    }
   ],
   "source": [
    "# obj\n",
    "m.setObjective(2*x[1]+x[2])\n",
    "# solve\n",
    "m.optimize()\n",
    "# sol\n",
    "print(\"\\nSolution:\")\n",
    "print(\"x1: {:.2f}, x2: {:.2f}\".format(x[1].x, x[2].x))\n",
    "# slack\n",
    "print(\"\\nSlack:\")\n",
    "for constr in m.getConstrs():\n",
    "    if abs(constr.Slack) < 1e-5:\n",
    "        print(constr.ConstrName, \"is active.\")\n",
    "        print(m.getRow(constr))"
   ]
  },
  {
   "cell_type": "code",
   "execution_count": 4,
   "id": "b8daf76a",
   "metadata": {},
   "outputs": [
    {
     "name": "stdout",
     "output_type": "stream",
     "text": [
      "Gurobi Optimizer version 9.5.0 build v9.5.0rc5 (win64)\n",
      "Thread count: 8 physical cores, 16 logical processors, using up to 16 threads\n",
      "Optimize a model with 1 rows, 2 columns and 2 nonzeros\n",
      "Model fingerprint: 0xad8e7a62\n",
      "Variable types: 0 continuous, 2 integer (2 binary)\n",
      "Coefficient statistics:\n",
      "  Matrix range     [2e+00, 2e+00]\n",
      "  Objective range  [1e+00, 1e+00]\n",
      "  Bounds range     [1e+00, 1e+00]\n",
      "  RHS range        [3e+00, 3e+00]\n",
      "\n",
      "Loaded MIP start from previous solve with objective -1\n",
      "\n",
      "Presolve removed 1 rows and 2 columns\n",
      "Presolve time: 0.00s\n",
      "Presolve: All rows and columns removed\n",
      "\n",
      "Explored 0 nodes (0 simplex iterations) in 0.00 seconds (0.00 work units)\n",
      "Thread count was 1 (of 16 available processors)\n",
      "\n",
      "Solution count 2: 1 -1 \n",
      "\n",
      "Optimal solution found (tolerance 1.00e-04)\n",
      "Best objective 1.000000000000e+00, best bound 1.000000000000e+00, gap 0.0000%\n",
      "\n",
      "Solution:\n",
      "x1: 0.00, x2: 1.00\n",
      "\n",
      "Slack:\n"
     ]
    }
   ],
   "source": [
    "# obj\n",
    "m.setObjective(-x[1]+x[2])\n",
    "# solve\n",
    "m.optimize()\n",
    "# sol\n",
    "print(\"\\nSolution:\")\n",
    "print(\"x1: {:.2f}, x2: {:.2f}\".format(x[1].x, x[2].x))\n",
    "# slack\n",
    "print(\"\\nSlack:\")\n",
    "for constr in m.getConstrs():\n",
    "    if abs(constr.Slack) < 1e-5:\n",
    "        print(constr.ConstrName, \"is active.\")\n",
    "        print(m.getRow(constr))"
   ]
  },
  {
   "cell_type": "markdown",
   "id": "85738531",
   "metadata": {},
   "source": [
    "## Linear Relaxation"
   ]
  },
  {
   "cell_type": "code",
   "execution_count": 5,
   "id": "d8430acf",
   "metadata": {},
   "outputs": [],
   "source": [
    "# relax\n",
    "r = m.relax()\n",
    "xr = {1:r.getVars()[0], 2:r.getVars()[1]}"
   ]
  },
  {
   "cell_type": "code",
   "execution_count": 6,
   "id": "695dc64a",
   "metadata": {},
   "outputs": [
    {
     "name": "stdout",
     "output_type": "stream",
     "text": [
      "Gurobi Optimizer version 9.5.0 build v9.5.0rc5 (win64)\n",
      "Thread count: 8 physical cores, 16 logical processors, using up to 16 threads\n",
      "Optimize a model with 1 rows, 2 columns and 2 nonzeros\n",
      "Model fingerprint: 0xb49a0e69\n",
      "Coefficient statistics:\n",
      "  Matrix range     [2e+00, 2e+00]\n",
      "  Objective range  [1e+00, 2e+00]\n",
      "  Bounds range     [1e+00, 1e+00]\n",
      "  RHS range        [3e+00, 3e+00]\n",
      "Presolve time: 0.00s\n",
      "Presolved: 1 rows, 2 columns, 2 nonzeros\n",
      "\n",
      "Iteration    Objective       Primal Inf.    Dual Inf.      Time\n",
      "       0    3.0000000e+00   5.000000e-01   0.000000e+00      0s\n",
      "       1    2.5000000e+00   0.000000e+00   0.000000e+00      0s\n",
      "\n",
      "Solved in 1 iterations and 0.00 seconds (0.00 work units)\n",
      "Optimal objective  2.500000000e+00\n",
      "\n",
      "Solution:\n",
      "x1: 1.00, x2: 0.50\n",
      "\n",
      "Slack:\n",
      "r1 is active.\n",
      "<gurobi.LinExpr: 2.0 x[1] + 2.0 x[2]>\n"
     ]
    }
   ],
   "source": [
    "# obj\n",
    "r.setObjective(2*xr[1]+xr[2])\n",
    "# solve\n",
    "r.optimize()\n",
    "# sol\n",
    "print(\"\\nSolution:\")\n",
    "print(\"x1: {:.2f}, x2: {:.2f}\".format(xr[1].x, xr[2].x))\n",
    "# slack\n",
    "print(\"\\nSlack:\")\n",
    "for constr in r.getConstrs():\n",
    "    if abs(constr.Slack) < 1e-5:\n",
    "        print(constr.ConstrName, \"is active.\")\n",
    "        print(r.getRow(constr))"
   ]
  },
  {
   "cell_type": "code",
   "execution_count": 7,
   "id": "06a26704",
   "metadata": {},
   "outputs": [
    {
     "name": "stdout",
     "output_type": "stream",
     "text": [
      "Gurobi Optimizer version 9.5.0 build v9.5.0rc5 (win64)\n",
      "Thread count: 8 physical cores, 16 logical processors, using up to 16 threads\n",
      "Optimize a model with 1 rows, 2 columns and 2 nonzeros\n",
      "Coefficient statistics:\n",
      "  Matrix range     [2e+00, 2e+00]\n",
      "  Objective range  [1e+00, 1e+00]\n",
      "  Bounds range     [1e+00, 1e+00]\n",
      "  RHS range        [3e+00, 3e+00]\n",
      "Iteration    Objective       Primal Inf.    Dual Inf.      Time\n",
      "       0    1.5000000e+00   5.000000e-01   0.000000e+00      0s\n",
      "       1    1.0000000e+00   0.000000e+00   0.000000e+00      0s\n",
      "\n",
      "Solved in 1 iterations and 0.00 seconds (0.00 work units)\n",
      "Optimal objective  1.000000000e+00\n",
      "\n",
      "Solution:\n",
      "x1: 0.00, x2: 1.00\n",
      "\n",
      "Slack:\n"
     ]
    }
   ],
   "source": [
    "# obj\n",
    "r.setObjective(-xr[1]+xr[2])\n",
    "# solve\n",
    "r.optimize()\n",
    "# sol\n",
    "print(\"\\nSolution:\")\n",
    "print(\"x1: {:.2f}, x2: {:.2f}\".format(xr[1].x, xr[2].x))\n",
    "# slack\n",
    "print(\"\\nSlack:\")\n",
    "for constr in r.getConstrs():\n",
    "    if abs(constr.Slack) < 1e-5:\n",
    "        print(constr.ConstrName, \"is active.\")\n",
    "        print(r.getRow(constr))"
   ]
  },
  {
   "cell_type": "markdown",
   "id": "920a5d82",
   "metadata": {},
   "source": [
    "## Binary Integer Programing with Bound Constraints"
   ]
  },
  {
   "cell_type": "code",
   "execution_count": 8,
   "id": "f7d29f57",
   "metadata": {},
   "outputs": [],
   "source": [
    "# model\n",
    "m = gp.Model(\"example\")\n",
    "# vars\n",
    "x = m.addVars([1,2], name=\"x\", vtype=GRB.BINARY)\n",
    "# constr\n",
    "m.addConstr(2 * x[1] + 2 * x[2] <= 3, name=\"r1\")\n",
    "m.addConstr(x[1] <= 1, name=\"b1\")\n",
    "m.addConstr(x[2] <= 1, name=\"b2\")\n",
    "m.addConstr(-x[1] <= 0, name=\"b3\")\n",
    "m.addConstr(-x[2] <= 0, name=\"b4\")\n",
    "# sense\n",
    "m.modelSense = GRB.MAXIMIZE\n",
    "# update\n",
    "m.update()"
   ]
  },
  {
   "cell_type": "code",
   "execution_count": 9,
   "id": "2f89345f",
   "metadata": {},
   "outputs": [
    {
     "name": "stdout",
     "output_type": "stream",
     "text": [
      "Gurobi Optimizer version 9.5.0 build v9.5.0rc5 (win64)\n",
      "Thread count: 8 physical cores, 16 logical processors, using up to 16 threads\n",
      "Optimize a model with 5 rows, 2 columns and 6 nonzeros\n",
      "Model fingerprint: 0xf10e969a\n",
      "Variable types: 0 continuous, 2 integer (2 binary)\n",
      "Coefficient statistics:\n",
      "  Matrix range     [1e+00, 2e+00]\n",
      "  Objective range  [1e+00, 2e+00]\n",
      "  Bounds range     [1e+00, 1e+00]\n",
      "  RHS range        [1e+00, 3e+00]\n",
      "Found heuristic solution: objective 2.0000000\n",
      "Presolve removed 5 rows and 2 columns\n",
      "Presolve time: 0.00s\n",
      "Presolve: All rows and columns removed\n",
      "\n",
      "Explored 0 nodes (0 simplex iterations) in 0.00 seconds (0.00 work units)\n",
      "Thread count was 1 (of 16 available processors)\n",
      "\n",
      "Solution count 1: 2 \n",
      "\n",
      "Optimal solution found (tolerance 1.00e-04)\n",
      "Best objective 2.000000000000e+00, best bound 2.000000000000e+00, gap 0.0000%\n",
      "\n",
      "Solution:\n",
      "x1: 1.00, x2: 0.00\n",
      "\n",
      "Slack:\n",
      "b1 is active.\n",
      "<gurobi.LinExpr: x[1]>\n",
      "b4 is active.\n",
      "<gurobi.LinExpr: -1.0 x[2]>\n"
     ]
    }
   ],
   "source": [
    "# obj\n",
    "m.setObjective(2*x[1]+x[2])\n",
    "# solve\n",
    "m.optimize()\n",
    "# sol\n",
    "print(\"\\nSolution:\")\n",
    "print(\"x1: {:.2f}, x2: {:.2f}\".format(x[1].x, x[2].x))\n",
    "# slack\n",
    "print(\"\\nSlack:\")\n",
    "for constr in m.getConstrs():\n",
    "    if abs(constr.Slack) < 1e-5:\n",
    "        print(constr.ConstrName, \"is active.\")\n",
    "        print(m.getRow(constr))"
   ]
  },
  {
   "cell_type": "code",
   "execution_count": 10,
   "id": "02151631",
   "metadata": {},
   "outputs": [
    {
     "name": "stdout",
     "output_type": "stream",
     "text": [
      "Gurobi Optimizer version 9.5.0 build v9.5.0rc5 (win64)\n",
      "Thread count: 8 physical cores, 16 logical processors, using up to 16 threads\n",
      "Optimize a model with 5 rows, 2 columns and 6 nonzeros\n",
      "Model fingerprint: 0xf41c47bb\n",
      "Variable types: 0 continuous, 2 integer (2 binary)\n",
      "Coefficient statistics:\n",
      "  Matrix range     [1e+00, 2e+00]\n",
      "  Objective range  [1e+00, 1e+00]\n",
      "  Bounds range     [1e+00, 1e+00]\n",
      "  RHS range        [1e+00, 3e+00]\n",
      "\n",
      "Loaded MIP start from previous solve with objective -1\n",
      "\n",
      "Presolve removed 5 rows and 2 columns\n",
      "Presolve time: 0.00s\n",
      "Presolve: All rows and columns removed\n",
      "\n",
      "Explored 0 nodes (0 simplex iterations) in 0.00 seconds (0.00 work units)\n",
      "Thread count was 1 (of 16 available processors)\n",
      "\n",
      "Solution count 2: 1 -1 \n",
      "\n",
      "Optimal solution found (tolerance 1.00e-04)\n",
      "Best objective 1.000000000000e+00, best bound 1.000000000000e+00, gap 0.0000%\n",
      "\n",
      "Solution:\n",
      "x1: 0.00, x2: 1.00\n",
      "\n",
      "Slack:\n",
      "b2 is active.\n",
      "<gurobi.LinExpr: x[2]>\n",
      "b3 is active.\n",
      "<gurobi.LinExpr: -1.0 x[1]>\n"
     ]
    }
   ],
   "source": [
    "# obj\n",
    "m.setObjective(-x[1]+x[2])\n",
    "# solve\n",
    "m.optimize()\n",
    "# sol\n",
    "print(\"\\nSolution:\")\n",
    "print(\"x1: {:.2f}, x2: {:.2f}\".format(x[1].x, x[2].x))\n",
    "# slack\n",
    "print(\"\\nSlack:\")\n",
    "for constr in m.getConstrs():\n",
    "    if abs(constr.Slack) < 1e-5:\n",
    "        print(constr.ConstrName, \"is active.\")\n",
    "        print(m.getRow(constr))"
   ]
  },
  {
   "cell_type": "markdown",
   "id": "9dd97a4d",
   "metadata": {},
   "source": [
    "## Relaxation with Bound Constraints "
   ]
  },
  {
   "cell_type": "code",
   "execution_count": 11,
   "id": "1e201503",
   "metadata": {},
   "outputs": [],
   "source": [
    "# relax\n",
    "r = m.relax()\n",
    "xr = {1:r.getVars()[0], 2:r.getVars()[1]}"
   ]
  },
  {
   "cell_type": "code",
   "execution_count": 12,
   "id": "873b1580",
   "metadata": {},
   "outputs": [
    {
     "name": "stdout",
     "output_type": "stream",
     "text": [
      "Gurobi Optimizer version 9.5.0 build v9.5.0rc5 (win64)\n",
      "Thread count: 8 physical cores, 16 logical processors, using up to 16 threads\n",
      "Optimize a model with 5 rows, 2 columns and 6 nonzeros\n",
      "Model fingerprint: 0xf10f0afa\n",
      "Coefficient statistics:\n",
      "  Matrix range     [1e+00, 2e+00]\n",
      "  Objective range  [1e+00, 2e+00]\n",
      "  Bounds range     [1e+00, 1e+00]\n",
      "  RHS range        [1e+00, 3e+00]\n",
      "Presolve removed 4 rows and 0 columns\n",
      "Presolve time: 0.00s\n",
      "Presolved: 1 rows, 2 columns, 2 nonzeros\n",
      "\n",
      "Iteration    Objective       Primal Inf.    Dual Inf.      Time\n",
      "       0    3.0000000e+00   5.000000e-01   0.000000e+00      0s\n",
      "       1    2.5000000e+00   0.000000e+00   0.000000e+00      0s\n",
      "\n",
      "Solved in 1 iterations and 0.01 seconds (0.00 work units)\n",
      "Optimal objective  2.500000000e+00\n",
      "\n",
      "Solution:\n",
      "x1: 1.00, x2: 0.50\n",
      "\n",
      "Slack:\n",
      "r1 is active.\n",
      "<gurobi.LinExpr: 2.0 x[1] + 2.0 x[2]>\n",
      "b1 is active.\n",
      "<gurobi.LinExpr: x[1]>\n"
     ]
    }
   ],
   "source": [
    "# obj\n",
    "r.setObjective(2*xr[1]+xr[2])\n",
    "# solve\n",
    "r.optimize()\n",
    "# sol\n",
    "print(\"\\nSolution:\")\n",
    "print(\"x1: {:.2f}, x2: {:.2f}\".format(xr[1].x, xr[2].x))\n",
    "# slack\n",
    "print(\"\\nSlack:\")\n",
    "for constr in r.getConstrs():\n",
    "    if abs(constr.Slack) < 1e-5:\n",
    "        print(constr.ConstrName, \"is active.\")\n",
    "        print(r.getRow(constr))"
   ]
  },
  {
   "cell_type": "code",
   "execution_count": 13,
   "id": "15266c43",
   "metadata": {},
   "outputs": [
    {
     "name": "stdout",
     "output_type": "stream",
     "text": [
      "Gurobi Optimizer version 9.5.0 build v9.5.0rc5 (win64)\n",
      "Thread count: 8 physical cores, 16 logical processors, using up to 16 threads\n",
      "Optimize a model with 5 rows, 2 columns and 6 nonzeros\n",
      "Coefficient statistics:\n",
      "  Matrix range     [1e+00, 2e+00]\n",
      "  Objective range  [1e+00, 1e+00]\n",
      "  Bounds range     [1e+00, 1e+00]\n",
      "  RHS range        [1e+00, 3e+00]\n",
      "Iteration    Objective       Primal Inf.    Dual Inf.      Time\n",
      "       0    1.5000000e+00   1.000000e+00   0.000000e+00      0s\n",
      "       1    1.0000000e+00   0.000000e+00   0.000000e+00      0s\n",
      "\n",
      "Solved in 1 iterations and 0.00 seconds (0.00 work units)\n",
      "Optimal objective  1.000000000e+00\n",
      "\n",
      "Solution:\n",
      "x1: 0.00, x2: 1.00\n",
      "\n",
      "Slack:\n",
      "b2 is active.\n",
      "<gurobi.LinExpr: x[2]>\n",
      "b3 is active.\n",
      "<gurobi.LinExpr: -1.0 x[1]>\n"
     ]
    }
   ],
   "source": [
    "# obj\n",
    "r.setObjective(-xr[1]+xr[2])\n",
    "# solve\n",
    "r.optimize()\n",
    "# sol\n",
    "print(\"\\nSolution:\")\n",
    "print(\"x1: {:.2f}, x2: {:.2f}\".format(xr[1].x, xr[2].x))\n",
    "# slack\n",
    "print(\"\\nSlack:\")\n",
    "for constr in r.getConstrs():\n",
    "    if abs(constr.Slack) < 1e-5:\n",
    "        print(constr.ConstrName, \"is active.\")\n",
    "        print(r.getRow(constr))"
   ]
  },
  {
   "cell_type": "code",
   "execution_count": null,
   "id": "6801a503",
   "metadata": {},
   "outputs": [],
   "source": []
  }
 ],
 "metadata": {
  "kernelspec": {
   "display_name": "Python 3 (ipykernel)",
   "language": "python",
   "name": "python3"
  },
  "language_info": {
   "codemirror_mode": {
    "name": "ipython",
    "version": 3
   },
   "file_extension": ".py",
   "mimetype": "text/x-python",
   "name": "python",
   "nbconvert_exporter": "python",
   "pygments_lexer": "ipython3",
   "version": "3.9.13"
  }
 },
 "nbformat": 4,
 "nbformat_minor": 5
}
