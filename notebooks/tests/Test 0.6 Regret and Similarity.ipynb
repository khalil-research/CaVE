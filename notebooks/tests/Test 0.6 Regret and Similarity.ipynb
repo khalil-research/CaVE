{
 "cells": [
  {
   "cell_type": "code",
   "execution_count": 1,
   "id": "2c2f68be-cb29-4a06-a869-7f601bdff72f",
   "metadata": {},
   "outputs": [
    {
     "name": "stdout",
     "output_type": "stream",
     "text": [
      "Auto-Sklearn cannot be imported.\n"
     ]
    },
    {
     "data": {
      "text/plain": [
       "<torch._C.Generator at 0x1f406de8b10>"
      ]
     },
     "execution_count": 1,
     "metadata": {},
     "output_type": "execute_result"
    }
   ],
   "source": [
    "import numpy as np\n",
    "import torch\n",
    "import pyepo\n",
    "from tqdm import tqdm\n",
    "\n",
    "# random seed\n",
    "np.random.seed(42)\n",
    "torch.manual_seed(42)"
   ]
  },
  {
   "cell_type": "markdown",
   "id": "7c26b860-d9b7-410f-96ec-5d93f11a09dd",
   "metadata": {},
   "source": [
    "### Data Set and Optimization Solver"
   ]
  },
  {
   "cell_type": "code",
   "execution_count": 2,
   "id": "9a8c2a81-a305-4974-ba09-e0c699198494",
   "metadata": {},
   "outputs": [],
   "source": [
    "# generate data\n",
    "num_node = 20 # node size\n",
    "num_feat = 10 # size of feature\n",
    "deg = 4 # polynomial degree\n",
    "e = 0.5 # noise width\n",
    "feats, costs = pyepo.data.tsp.genData(1, num_feat, num_node, deg, e, seed=42)"
   ]
  },
  {
   "cell_type": "code",
   "execution_count": 3,
   "id": "84a7ac7d-ef1f-4fe1-9851-8dc7a1b24ca9",
   "metadata": {},
   "outputs": [
    {
     "name": "stdout",
     "output_type": "stream",
     "text": [
      "Set parameter Username\n",
      "Academic license - for non-commercial use only - expires 2024-12-25\n",
      "Obj: 57.8622\n",
      "0 -> 16 -> 9 -> 18 -> 13 -> 6 -> 19 -> 1 -> 12 -> 4 -> 10 -> 14 -> 7 -> 2 -> 11 -> 15 -> 8 -> 5 -> 3 -> 17 -> 0\n"
     ]
    }
   ],
   "source": [
    "from src.model import tspDFJModel\n",
    "# set solver\n",
    "optmodel = tspDFJModel(num_node)\n",
    "# test\n",
    "optmodel.setObj(costs[0])\n",
    "sol, obj = optmodel.solve()\n",
    "print(\"Obj: {}\".format(obj))\n",
    "tour = optmodel.getTour(sol)\n",
    "print(\" -> \".join(map(str, tour)))"
   ]
  },
  {
   "cell_type": "code",
   "execution_count": 4,
   "id": "6c3cbddd-79dd-4c4d-8888-548a2ec51012",
   "metadata": {},
   "outputs": [
    {
     "name": "stdout",
     "output_type": "stream",
     "text": [
      "Optimizing for optDataset...\n"
     ]
    },
    {
     "name": "stderr",
     "output_type": "stream",
     "text": [
      "100%|████████████████████████████████████████████████████████████████████████████████████| 1/1 [00:00<00:00, 50.59it/s]\n"
     ]
    }
   ],
   "source": [
    "# get training and test data set without costs\n",
    "from src.dataset import optDatasetConstrs\n",
    "dataset = optDatasetConstrs(optmodel, feats, costs)"
   ]
  },
  {
   "cell_type": "code",
   "execution_count": 5,
   "id": "2a832a28-67df-43b5-91e6-83cfad51e645",
   "metadata": {},
   "outputs": [
    {
     "data": {
      "text/plain": [
       "array([[ 5.8753,  7.8404,  7.4272,  7.0813,  5.1441,  7.9003,  7.2352,\n",
       "         3.1088,  5.1269,  2.4498,  5.5558,  7.7655,  4.1793,  3.0338,\n",
       "         3.0239,  2.7397,  3.312 ,  6.6606,  6.3979,  5.6257,  5.1354,\n",
       "         4.387 ,  5.6231,  4.1189,  7.1747,  4.8241,  5.7639,  3.5426,\n",
       "         7.6879,  4.3627,  9.2138,  4.509 ,  6.2074,  4.7194,  4.4739,\n",
       "         4.9711,  4.0736,  4.4184,  5.9769,  6.8784,  4.0562,  3.1942,\n",
       "         3.912 ,  4.7946,  4.6694,  3.3904,  4.4691,  6.6728,  4.9021,\n",
       "         4.8202,  4.7904,  4.1542,  6.3754,  5.0024,  4.0346,  2.7751,\n",
       "         5.2422,  5.8654,  4.5791,  5.4808,  7.3487,  4.8796,  6.841 ,\n",
       "        10.7978,  7.4326,  3.4312,  3.6407,  2.9029,  5.7983,  6.1954,\n",
       "         5.5613,  7.649 ,  5.2278,  3.21  ,  4.0398,  2.5317,  5.1181,\n",
       "         2.622 ,  5.0782,  3.3927,  3.2186,  5.4817,  4.2928,  3.1111,\n",
       "         4.7631, 10.5514,  6.127 ,  3.3356,  3.9412,  3.4881,  5.9442,\n",
       "         7.1448,  5.3683,  4.9462,  3.8718,  4.2364,  8.9521,  8.0089,\n",
       "         6.7631,  6.958 ,  4.3637,  6.3198,  4.612 ,  3.7247,  5.1277,\n",
       "         3.3023,  2.9342,  9.8604,  5.0579,  8.1457,  3.9652,  2.4827,\n",
       "         4.048 ,  3.2211,  5.6618,  6.2035,  5.877 ,  5.6786,  2.9783,\n",
       "         7.5409,  3.0358,  6.6901,  2.0682,  7.9118,  7.8402,  5.2852,\n",
       "         3.2325,  3.5393,  5.4637,  5.6602,  1.6728,  3.6164,  6.9517,\n",
       "         7.8093,  3.232 ,  4.4591,  4.8773,  3.5725,  3.9846,  3.2135,\n",
       "         4.1894,  2.3182,  7.6721,  1.8898,  3.8758,  9.5639,  7.1734,\n",
       "         3.8474,  2.2847,  1.8028,  3.9502,  5.5316,  8.7181,  3.6071,\n",
       "         4.865 ,  3.9715,  9.793 ,  3.1096,  7.0891,  4.7754,  5.8625,\n",
       "         5.3333,  5.0695,  3.7618,  6.1276,  6.1047,  5.3311,  7.1939,\n",
       "         5.343 ,  6.7164,  4.5057,  3.4924,  7.91  ,  2.5839,  4.3805,\n",
       "         2.8565,  3.6531,  8.1147,  4.3735,  7.4584,  5.8015,  7.8754,\n",
       "         4.4354,  5.7821, 11.9793,  6.3823,  3.9559, 11.6672,  6.5668,\n",
       "         3.7972]])"
      ]
     },
     "execution_count": 5,
     "metadata": {},
     "output_type": "execute_result"
    }
   ],
   "source": [
    "costs"
   ]
  },
  {
   "cell_type": "code",
   "execution_count": 6,
   "id": "74d61f16-abc7-4e22-8cdc-edbf582a6585",
   "metadata": {},
   "outputs": [],
   "source": [
    "# random perturbation\n",
    "costs = np.maximum(0, costs + np.random.normal(0, 1, (10000, costs.shape[1])))"
   ]
  },
  {
   "cell_type": "markdown",
   "id": "c3ea52e2-4fec-4409-b9b8-fe5808c2268c",
   "metadata": {},
   "source": [
    "## Calculation"
   ]
  },
  {
   "cell_type": "code",
   "execution_count": 7,
   "id": "2f93d2f1-9216-40a5-bdeb-dc96c26c2b89",
   "metadata": {},
   "outputs": [],
   "source": [
    "# original cost\n",
    "c = dataset.costs[0]\n",
    "# optimal solution\n",
    "w = dataset.sols[0]\n",
    "# binding constraints\n",
    "bctr = dataset.ctrs[0]"
   ]
  },
  {
   "cell_type": "code",
   "execution_count": 8,
   "id": "6a3df6b9-1357-4249-a6b9-a9b521e91e53",
   "metadata": {},
   "outputs": [
    {
     "name": "stdout",
     "output_type": "stream",
     "text": [
      "Num of cores: 1\n"
     ]
    }
   ],
   "source": [
    "from src.cave import exactConeAlignedCosine\n",
    "# init loss\n",
    "ca_cos = exactConeAlignedCosine(optmodel, solver=\"clarabel\", processes=1)"
   ]
  },
  {
   "cell_type": "code",
   "execution_count": null,
   "id": "a7a6606e-c639-4c09-9dac-6b34c8bf6f68",
   "metadata": {},
   "outputs": [
    {
     "name": "stderr",
     "output_type": "stream",
     "text": [
      " 92%|██████████████████████████████████████████████████████████████████████▉      | 9205/10000 [04:03<00:21, 37.23it/s]"
     ]
    }
   ],
   "source": [
    "regrets = []\n",
    "cos_sims = []\n",
    "for cp in tqdm(costs):\n",
    "    # get regret\n",
    "    optmodel.setObj(cp)\n",
    "    sol, _ = optmodel.solve()\n",
    "    regret = ((sol - w) @ c) / (w @ c)\n",
    "    regrets.append(regret)\n",
    "    # get similarity\n",
    "    cos_sim = - ca_cos(torch.tensor(cp).unsqueeze(0), torch.tensor(bctr).unsqueeze(0)).item()\n",
    "    cos_sims.append(cos_sim)\n",
    "regrets = np.array(regrets)\n",
    "cos_sims = np.array(cos_sims)"
   ]
  },
  {
   "cell_type": "markdown",
   "id": "1624c212-5c4b-4bbe-a1c7-6d3438d4eb60",
   "metadata": {},
   "source": [
    "## Visualization"
   ]
  },
  {
   "cell_type": "code",
   "execution_count": null,
   "id": "e37a6ba1-b927-498f-bf73-0a093eb14c85",
   "metadata": {},
   "outputs": [],
   "source": [
    "from matplotlib import pyplot as plt\n",
    "# set fig\n",
    "fig = plt.figure(figsize=(16,8))\n",
    "plt.scatter(regrets, cos_sims, alpha=0.2, s=50, edgecolors=\"none\")\n",
    "plt.xlabel(\"Relative Regret\", fontsize=38)\n",
    "plt.ylabel(\"Cosine Similarity\", fontsize=38)\n",
    "plt.xticks(fontsize=28)\n",
    "plt.yticks(fontsize=28)\n",
    "# title\n",
    "plt.title(\"Regret v.s. Cosine Similarity\", fontsize=38)\n",
    "# save\n",
    "plt.savefig(\"./images/regret_and_similarity.pdf\")"
   ]
  },
  {
   "cell_type": "markdown",
   "id": "453cc3e9-2022-4036-b799-18cacc6e3151",
   "metadata": {},
   "source": [
    "## Pearson’s R"
   ]
  },
  {
   "cell_type": "code",
   "execution_count": null,
   "id": "10ff2937-3529-41e8-b6d6-b7fd73e82e88",
   "metadata": {},
   "outputs": [],
   "source": [
    "from scipy.stats import pearsonr"
   ]
  },
  {
   "cell_type": "code",
   "execution_count": null,
   "id": "1ddf5992-4b89-4f9a-b9e1-b0f869672ebb",
   "metadata": {},
   "outputs": [],
   "source": [
    "# calculate the coefficient of determination (R^2)\n",
    "res = pearsonr(regrets, cos_sims, alternative=\"less\")\n",
    "print(\"Pearson’s R: {:.2f}\".format(res.statistic))\n",
    "print(\"P Value: {}\".format(res.pvalue))"
   ]
  },
  {
   "cell_type": "markdown",
   "id": "1c660d07-71f5-4a56-8948-93f677aa6255",
   "metadata": {},
   "source": [
    "### Log Regret"
   ]
  },
  {
   "cell_type": "code",
   "execution_count": null,
   "id": "908ebf3a-b28d-46c9-bbe8-b19562e44521",
   "metadata": {},
   "outputs": [],
   "source": [
    "# calculate the coefficient of determination (R^2)\n",
    "res = pearsonr(np.log(regrets[regrets > 1e-5]), cos_sims[regrets > 1e-5], alternative=\"less\")\n",
    "print(\"Pearson’s R: {:.2f}\".format(res.statistic))\n",
    "print(\"P Value: {}\".format(res.pvalue))"
   ]
  },
  {
   "cell_type": "markdown",
   "id": "59f666ce-2b2c-450e-b828-5b6be4aefc3b",
   "metadata": {},
   "source": [
    "### Log Similarity"
   ]
  },
  {
   "cell_type": "code",
   "execution_count": null,
   "id": "2ebb27e2-62a9-4a05-a3ba-9da0d217fbbb",
   "metadata": {},
   "outputs": [],
   "source": [
    "# calculate the coefficient of determination (R^2)\n",
    "res = pearsonr(regrets, np.log(cos_sims), alternative=\"less\")\n",
    "print(\"Pearson’s R: {:.2f}\".format(res.statistic))\n",
    "print(\"P Value: {}\".format(res.pvalue))"
   ]
  },
  {
   "cell_type": "code",
   "execution_count": null,
   "id": "410da9b9-0980-47ca-889a-84a533e58c2e",
   "metadata": {},
   "outputs": [],
   "source": []
  }
 ],
 "metadata": {
  "kernelspec": {
   "display_name": "Python 3 (ipykernel)",
   "language": "python",
   "name": "python3"
  },
  "language_info": {
   "codemirror_mode": {
    "name": "ipython",
    "version": 3
   },
   "file_extension": ".py",
   "mimetype": "text/x-python",
   "name": "python",
   "nbconvert_exporter": "python",
   "pygments_lexer": "ipython3",
   "version": "3.11.5"
  }
 },
 "nbformat": 4,
 "nbformat_minor": 5
}
