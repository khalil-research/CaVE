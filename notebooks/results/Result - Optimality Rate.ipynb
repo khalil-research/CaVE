{
 "cells": [
  {
   "cell_type": "code",
   "execution_count": 1,
   "id": "8dc8d569-fd46-41a9-927e-2dd07a54b432",
   "metadata": {},
   "outputs": [],
   "source": [
    "import os\n",
    "import pandas as pd\n",
    "import numpy as np\n",
    "\n",
    "def getTable(prob_name, poly_deg):\n",
    "    # methods\n",
    "    methods = [\"2s\", \"cave\", \"cave+\", \"caveh\", \"spo+\", \"pfyl\", \"nce\"]\n",
    "    # relaxation\n",
    "    if prob_name[:3] == \"tsp\" or prob_name[:3] == \"vrp\":\n",
    "        methods = [\"2s\", \"cave\", \"cave+\", \"caveh\", \"spo+\", \"spo+_rel\", \"pfyl\", \"pfyl_rel\", \"nce\"]\n",
    "    # init df\n",
    "    summary_df = pd.DataFrame(columns=[\"Method\", \"Avg Optimality Rate\"])\n",
    "    for method in methods:\n",
    "        optimality = []\n",
    "        for i in range(10):\n",
    "            # get path\n",
    "            res_dir = \"./res/{}/n1000deg{}\".format(prob_name, poly_deg)\n",
    "            res_path = res_dir + \"/{}_{}.csv\".format(method, i)\n",
    "            # check if file exists\n",
    "            if not os.path.exists(res_path):\n",
    "                continue\n",
    "            else:\n",
    "                # load csv\n",
    "                df = pd.read_csv(res_path)\n",
    "                # get optimality rate\n",
    "                optimality.append((df[\"Regret\"] < 1e-5).mean())\n",
    "        # get row\n",
    "        row = {\"Method\":[method], \"Avg Optimality Rate\":[np.mean(optimality)]}\n",
    "        # add to df\n",
    "        if summary_df.empty:\n",
    "            summary_df = pd.DataFrame(row)\n",
    "        else:\n",
    "            summary_df = pd.concat([summary_df, pd.DataFrame(row)], ignore_index=True)\n",
    "    # save table\n",
    "    summary_df.to_csv(\"./res/opt_{}_deg{}.csv\".format(prob_name, poly_deg))\n",
    "    # 2 decimal\n",
    "    summary_df = summary_df.round(2)\n",
    "    return summary_df"
   ]
  },
  {
   "cell_type": "markdown",
   "id": "40cd96ef-186c-4a6b-b719-3eecf4ca331f",
   "metadata": {},
   "source": [
    "## SP5"
   ]
  },
  {
   "cell_type": "markdown",
   "id": "d14a133e-5082-4b6d-8fa7-a5110010f10d",
   "metadata": {},
   "source": [
    "### Poly-Degree 4"
   ]
  },
  {
   "cell_type": "code",
   "execution_count": 2,
   "id": "af01bcd3-cf27-4654-b0f9-1c77e9c5f075",
   "metadata": {},
   "outputs": [
    {
     "name": "stdout",
     "output_type": "stream",
     "text": [
      "  Method  Avg Optimality Rate\n",
      "0     2s                 0.36\n",
      "1   cave                 0.32\n",
      "2  cave+                 0.37\n",
      "3  caveh                 0.36\n",
      "4   spo+                 0.38\n",
      "5   pfyl                 0.38\n",
      "6    nce                 0.30\n"
     ]
    }
   ],
   "source": [
    "df = getTable(prob_name=\"sp5\", poly_deg=4)\n",
    "print(df)"
   ]
  },
  {
   "cell_type": "markdown",
   "id": "1f35c0af-33e3-44cd-a21e-abcefc3339f5",
   "metadata": {},
   "source": [
    "### Poly-Degree 6"
   ]
  },
  {
   "cell_type": "code",
   "execution_count": 3,
   "id": "eae209a5-953a-426c-b6a5-ac85b70ff3a5",
   "metadata": {},
   "outputs": [
    {
     "name": "stdout",
     "output_type": "stream",
     "text": [
      "  Method  Avg Optimality Rate\n",
      "0     2s                 0.37\n",
      "1   cave                 0.42\n",
      "2  cave+                 0.45\n",
      "3  caveh                 0.45\n",
      "4   spo+                 0.47\n",
      "5   pfyl                 0.47\n",
      "6    nce                 0.36\n"
     ]
    }
   ],
   "source": [
    "df = getTable(prob_name=\"sp5\", poly_deg=6)\n",
    "print(df)"
   ]
  },
  {
   "cell_type": "markdown",
   "id": "42753296-45a4-40ad-beda-12cf7294e536",
   "metadata": {},
   "source": [
    "## TSP20"
   ]
  },
  {
   "cell_type": "markdown",
   "id": "def8c2bc-3b1b-46b1-96a0-cf12b955655d",
   "metadata": {},
   "source": [
    "### Poly-Degree 4"
   ]
  },
  {
   "cell_type": "code",
   "execution_count": 4,
   "id": "7576314f-c36f-4f94-8c78-83aad2f5eb30",
   "metadata": {},
   "outputs": [
    {
     "name": "stdout",
     "output_type": "stream",
     "text": [
      "     Method  Avg Optimality Rate\n",
      "0        2s                 0.00\n",
      "1      cave                 0.02\n",
      "2     cave+                 0.04\n",
      "3     caveh                 0.03\n",
      "4      spo+                 0.03\n",
      "5  spo+_rel                 0.02\n",
      "6      pfyl                 0.03\n",
      "7  pfyl_rel                 0.01\n",
      "8       nce                 0.00\n"
     ]
    }
   ],
   "source": [
    "df = getTable(prob_name=\"tsp20\", poly_deg=4)\n",
    "print(df)"
   ]
  },
  {
   "cell_type": "markdown",
   "id": "a267b24b-d37d-4892-b30f-deb15a4e06b4",
   "metadata": {},
   "source": [
    "### Poly-Degree 6"
   ]
  },
  {
   "cell_type": "code",
   "execution_count": 5,
   "id": "af49e583-a066-487c-bd4a-356cfd0fa198",
   "metadata": {},
   "outputs": [
    {
     "name": "stdout",
     "output_type": "stream",
     "text": [
      "     Method  Avg Optimality Rate\n",
      "0        2s                 0.00\n",
      "1      cave                 0.03\n",
      "2     cave+                 0.04\n",
      "3     caveh                 0.03\n",
      "4      spo+                 0.03\n",
      "5  spo+_rel                 0.01\n",
      "6      pfyl                 0.04\n",
      "7  pfyl_rel                 0.01\n",
      "8       nce                 0.00\n"
     ]
    }
   ],
   "source": [
    "df = getTable(prob_name=\"tsp20\", poly_deg=6)\n",
    "print(df)"
   ]
  },
  {
   "cell_type": "markdown",
   "id": "7b0c3fad-bc04-4260-a2f6-15fff6c0d718",
   "metadata": {},
   "source": [
    "## TSP50"
   ]
  },
  {
   "cell_type": "markdown",
   "id": "7a170144-799d-42aa-8bf1-0ec25e346baf",
   "metadata": {},
   "source": [
    "### Poly-Degree 4"
   ]
  },
  {
   "cell_type": "code",
   "execution_count": 6,
   "id": "671eee9d-e2f3-4307-8452-dbcf0a494fd6",
   "metadata": {},
   "outputs": [
    {
     "name": "stdout",
     "output_type": "stream",
     "text": [
      "     Method  Avg Optimality Rate\n",
      "0        2s                  0.0\n",
      "1      cave                  0.0\n",
      "2     cave+                  0.0\n",
      "3     caveh                  0.0\n",
      "4      spo+                  0.0\n",
      "5  spo+_rel                  0.0\n",
      "6      pfyl                  0.0\n",
      "7  pfyl_rel                  0.0\n",
      "8       nce                  0.0\n"
     ]
    }
   ],
   "source": [
    "df = getTable(prob_name=\"tsp50\", poly_deg=4)\n",
    "print(df)"
   ]
  },
  {
   "cell_type": "markdown",
   "id": "deb5851f-c813-46e9-93f6-b0e4117d6a25",
   "metadata": {},
   "source": [
    "### Poly-Degree 6"
   ]
  },
  {
   "cell_type": "code",
   "execution_count": 7,
   "id": "7d903c57-48ff-4c05-8c8b-a8ec7c23ecc1",
   "metadata": {},
   "outputs": [
    {
     "name": "stdout",
     "output_type": "stream",
     "text": [
      "     Method  Avg Optimality Rate\n",
      "0        2s                  0.0\n",
      "1      cave                  0.0\n",
      "2     cave+                  0.0\n",
      "3     caveh                  0.0\n",
      "4      spo+                  0.0\n",
      "5  spo+_rel                  0.0\n",
      "6      pfyl                  0.0\n",
      "7  pfyl_rel                  0.0\n",
      "8       nce                  0.0\n"
     ]
    }
   ],
   "source": [
    "df = getTable(prob_name=\"tsp50\", poly_deg=6)\n",
    "print(df)"
   ]
  },
  {
   "cell_type": "markdown",
   "id": "d114ecdb-cd09-4e8f-b744-0e8ce8608d00",
   "metadata": {},
   "source": [
    "## VRP20"
   ]
  },
  {
   "cell_type": "markdown",
   "id": "b43d601d-1b36-48ff-aa9b-737aeb17ee85",
   "metadata": {},
   "source": [
    "### Poly-Degree 4"
   ]
  },
  {
   "cell_type": "code",
   "execution_count": 8,
   "id": "d315cb40-dbdd-4355-8a75-1b0f4d3c84d9",
   "metadata": {},
   "outputs": [
    {
     "name": "stdout",
     "output_type": "stream",
     "text": [
      "     Method  Avg Optimality Rate\n",
      "0        2s                 0.00\n",
      "1      cave                 0.01\n",
      "2     cave+                 0.02\n",
      "3     caveh                 0.01\n",
      "4      spo+                 0.03\n",
      "5  spo+_rel                 0.01\n",
      "6      pfyl                 0.02\n",
      "7  pfyl_rel                 0.00\n",
      "8       nce                 0.00\n"
     ]
    }
   ],
   "source": [
    "df = getTable(prob_name=\"vrp20\", poly_deg=4)\n",
    "print(df)"
   ]
  },
  {
   "cell_type": "markdown",
   "id": "00ded80a-b74e-481a-ba82-64f729a2d4a9",
   "metadata": {},
   "source": [
    "### Poly-Degree 6"
   ]
  },
  {
   "cell_type": "code",
   "execution_count": 9,
   "id": "609e3ce9-ccfc-45b1-909a-5525376f7469",
   "metadata": {},
   "outputs": [
    {
     "name": "stdout",
     "output_type": "stream",
     "text": [
      "     Method  Avg Optimality Rate\n",
      "0        2s                 0.00\n",
      "1      cave                 0.02\n",
      "2     cave+                 0.03\n",
      "3     caveh                 0.02\n",
      "4      spo+                 0.02\n",
      "5  spo+_rel                 0.01\n",
      "6      pfyl                 0.03\n",
      "7  pfyl_rel                 0.01\n",
      "8       nce                 0.00\n"
     ]
    }
   ],
   "source": [
    "df = getTable(prob_name=\"vrp20\", poly_deg=6)\n",
    "print(df)"
   ]
  },
  {
   "cell_type": "code",
   "execution_count": null,
   "id": "795fbaea-b870-4472-92e3-f3f9b1c7dd4f",
   "metadata": {},
   "outputs": [],
   "source": []
  }
 ],
 "metadata": {
  "kernelspec": {
   "display_name": "Python 3 (ipykernel)",
   "language": "python",
   "name": "python3"
  },
  "language_info": {
   "codemirror_mode": {
    "name": "ipython",
    "version": 3
   },
   "file_extension": ".py",
   "mimetype": "text/x-python",
   "name": "python",
   "nbconvert_exporter": "python",
   "pygments_lexer": "ipython3",
   "version": "3.11.5"
  }
 },
 "nbformat": 4,
 "nbformat_minor": 5
}
