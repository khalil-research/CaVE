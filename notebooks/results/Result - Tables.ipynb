{
 "cells": [
  {
   "cell_type": "code",
   "execution_count": 1,
   "id": "de2fc48a",
   "metadata": {},
   "outputs": [],
   "source": [
    "import os\n",
    "import pandas as pd\n",
    "\n",
    "def getTable(prob_name, poly_deg):\n",
    "    # methods\n",
    "    methods = [\"2s\", \"cave\", \"cave+\", \"caveh\", \"spo+\", \"pfyl\", \"nce\"]\n",
    "    # relaxation\n",
    "    if prob_name[:3] == \"tsp\" or prob_name[:3] == \"vrp\":\n",
    "        methods = [\"2s\", \"cave\", \"cave+\", \"caveh\", \"spo+\", \"spo+_rel\", \"pfyl\", \"pfyl_rel\", \"nce\"]\n",
    "    # init df\n",
    "    summary_df = pd.DataFrame(columns=[\"Method\", \"Avg Train Time\", \"Avg Test Time\", \"Avg Test Regret\"])\n",
    "    for method in methods:\n",
    "        # get path\n",
    "        res_dir = \"./res/{}/n1000deg{}\".format(prob_name, poly_deg)\n",
    "        res_path = res_dir + \"/{}.csv\".format(method)\n",
    "        # check if file exists\n",
    "        if not os.path.exists(res_path):\n",
    "            continue\n",
    "        else:\n",
    "            # load csv\n",
    "            df = pd.read_csv(res_path)\n",
    "            # get average\n",
    "            train_elapsed_avg = df[\"Train Elapsed\"].mean()\n",
    "            train_elapsed_std = df[\"Train Elapsed\"].std()\n",
    "            test_elapsed_avg = df[\"Test Elapsed\"].mean()\n",
    "            test_elapsed_std = df[\"Test Elapsed\"].std()\n",
    "            test_regret_avg = df[\"Test Regret\"].mean() * 100\n",
    "            test_regret_std = df[\"Test Regret\"].std() * 100\n",
    "            row = {\"Method\": [method], \n",
    "                   \"Avg Test Regret\": [test_regret_avg],\n",
    "                   \"Std Test Regret\": [test_regret_std],\n",
    "                   \"Avg Train Time\": [train_elapsed_avg], \n",
    "                   \"Std Train Time\": [train_elapsed_std], \n",
    "                   #\"Avg Test Time\": [test_elapsed_avg], \n",
    "                   #\"Std Test Time\": [test_elapsed_std]\n",
    "                  }\n",
    "            # check if has node counts\n",
    "            #if \"Test Nodes Count\" in df.columns:\n",
    "            #    test_nodes_count_avg = df[\"Test Nodes Count\"].mean()\n",
    "            #    row[\"B&B Nodes Count\"] = test_nodes_count_avg\n",
    "            #    test_nodes_count_std = df[\"Test Nodes Count\"].std()\n",
    "            #    row[\"Std B&B Nodes Count\"] = test_nodes_count_std\n",
    "        # add to df\n",
    "        if summary_df.empty:\n",
    "            summary_df = pd.DataFrame(row)\n",
    "        else:\n",
    "            summary_df = pd.concat([summary_df, pd.DataFrame(row)], ignore_index=True)\n",
    "    # save table\n",
    "    summary_df.to_csv(\"./res/{}_deg{}.csv\".format(prob_name, poly_deg))\n",
    "    # 2 decimal\n",
    "    summary_df = summary_df.round(2)\n",
    "    return summary_df"
   ]
  },
  {
   "cell_type": "markdown",
   "id": "b01550ef",
   "metadata": {},
   "source": [
    "## SP5 "
   ]
  },
  {
   "cell_type": "markdown",
   "id": "8d01c9ff",
   "metadata": {},
   "source": [
    "### Poly-Degree 4 "
   ]
  },
  {
   "cell_type": "code",
   "execution_count": 2,
   "id": "9c708247",
   "metadata": {},
   "outputs": [
    {
     "name": "stdout",
     "output_type": "stream",
     "text": [
      "  Method  Avg Test Regret  Std Test Regret  Avg Train Time  Std Train Time\n",
      "0     2s             8.82             1.15            1.52            0.14\n",
      "1   cave            10.73             1.54            4.64            0.09\n",
      "2  cave+             8.39             0.95            4.89            0.12\n",
      "3  caveh             8.35             0.88            2.57            0.19\n",
      "4   spo+             7.79             1.00           17.64            0.12\n",
      "5   pfyl             7.68             0.99           18.52            0.31\n",
      "6    nce            11.34             1.11            4.50            0.48\n"
     ]
    }
   ],
   "source": [
    "df = getTable(prob_name=\"sp5\", poly_deg=4)\n",
    "print(df)"
   ]
  },
  {
   "cell_type": "markdown",
   "id": "fa240bd9",
   "metadata": {},
   "source": [
    "### Poly-Degree 6"
   ]
  },
  {
   "cell_type": "code",
   "execution_count": 3,
   "id": "dcb8b249",
   "metadata": {},
   "outputs": [
    {
     "name": "stdout",
     "output_type": "stream",
     "text": [
      "  Method  Avg Test Regret  Std Test Regret  Avg Train Time  Std Train Time\n",
      "0     2s            12.58             2.14            1.38            0.13\n",
      "1   cave            11.30             1.30            3.52            0.11\n",
      "2  cave+             8.89             0.90            3.72            0.14\n",
      "3  caveh             8.84             1.00            2.39            0.19\n",
      "4   spo+             7.72             1.11           18.68            0.40\n",
      "5   pfyl             7.86             0.96           17.78            0.13\n",
      "6    nce            13.78             1.58            4.38            0.42\n"
     ]
    }
   ],
   "source": [
    "df = getTable(prob_name=\"sp5\", poly_deg=6)\n",
    "print(df)"
   ]
  },
  {
   "cell_type": "markdown",
   "id": "644a0f9c",
   "metadata": {},
   "source": [
    "## TSP20 "
   ]
  },
  {
   "cell_type": "markdown",
   "id": "1349a928",
   "metadata": {},
   "source": [
    "### Poly-Degree 4 "
   ]
  },
  {
   "cell_type": "code",
   "execution_count": 4,
   "id": "ba2d164e",
   "metadata": {},
   "outputs": [
    {
     "name": "stdout",
     "output_type": "stream",
     "text": [
      "     Method  Avg Test Regret  Std Test Regret  Avg Train Time  Std Train Time\n",
      "0        2s            12.12             0.89            1.52            0.10\n",
      "1      cave             7.35             0.40          113.56            3.16\n",
      "2     cave+             6.20             0.24          107.15            3.80\n",
      "3     caveh             7.69             0.33           27.06            2.17\n",
      "4      spo+             5.95             0.16          175.23            4.95\n",
      "5  spo+_rel             7.75             0.32           71.92            2.05\n",
      "6      pfyl             6.56             0.21          220.21           24.20\n",
      "7  pfyl_rel             9.15             0.50           77.25            0.60\n",
      "8       nce            12.21             0.88           25.92            4.23\n"
     ]
    }
   ],
   "source": [
    "df = getTable(prob_name=\"tsp20\", poly_deg=4)\n",
    "print(df)"
   ]
  },
  {
   "cell_type": "markdown",
   "id": "4f4b528a",
   "metadata": {},
   "source": [
    "### Poly-Degree 6 "
   ]
  },
  {
   "cell_type": "code",
   "execution_count": 5,
   "id": "20bf0541",
   "metadata": {},
   "outputs": [
    {
     "name": "stdout",
     "output_type": "stream",
     "text": [
      "     Method  Avg Test Regret  Std Test Regret  Avg Train Time  Std Train Time\n",
      "0        2s            21.32             1.81            1.53            0.19\n",
      "1      cave             8.01             0.45          158.66            9.65\n",
      "2     cave+             6.97             0.37          102.19           10.38\n",
      "3     caveh             9.52             0.64           30.17            2.62\n",
      "4      spo+             7.48             0.36          185.13            7.44\n",
      "5  spo+_rel             9.84             0.57           67.99            0.60\n",
      "6      pfyl             7.41             0.37          185.02            5.09\n",
      "7  pfyl_rel            11.22             0.90           53.32            3.74\n",
      "8       nce            14.85             1.01           25.48            3.66\n"
     ]
    }
   ],
   "source": [
    "df = getTable(prob_name=\"tsp20\", poly_deg=6)\n",
    "print(df)"
   ]
  },
  {
   "cell_type": "markdown",
   "id": "86596b15",
   "metadata": {},
   "source": [
    "### TSP50"
   ]
  },
  {
   "cell_type": "markdown",
   "id": "6147e321",
   "metadata": {},
   "source": [
    "### Poly-Degree 4 "
   ]
  },
  {
   "cell_type": "code",
   "execution_count": 6,
   "id": "e7bbd0c8",
   "metadata": {},
   "outputs": [
    {
     "name": "stdout",
     "output_type": "stream",
     "text": [
      "     Method  Avg Test Regret  Std Test Regret  Avg Train Time  Std Train Time\n",
      "0        2s            28.16             1.08            1.55            0.18\n",
      "1      cave            15.19             0.65          611.47           23.52\n",
      "2     cave+             7.69             0.22          518.07           51.89\n",
      "3     caveh             9.59             0.44          196.96           35.92\n",
      "4      spo+             7.57             0.20         1220.68           85.39\n",
      "5  spo+_rel            10.15             0.23          386.06            9.69\n",
      "6      pfyl             8.03             0.23         1328.99           28.87\n",
      "7  pfyl_rel            11.11             0.33          536.67            4.94\n",
      "8       nce            14.31             0.40          151.80           24.21\n"
     ]
    }
   ],
   "source": [
    "df = getTable(prob_name=\"tsp50\", poly_deg=4)\n",
    "print(df)"
   ]
  },
  {
   "cell_type": "markdown",
   "id": "422d62f4",
   "metadata": {},
   "source": [
    "### Poly-Degree 6 "
   ]
  },
  {
   "cell_type": "code",
   "execution_count": 7,
   "id": "ef5d98f2",
   "metadata": {},
   "outputs": [
    {
     "name": "stdout",
     "output_type": "stream",
     "text": [
      "     Method  Avg Test Regret  Std Test Regret  Avg Train Time  Std Train Time\n",
      "0        2s            52.61             2.36            1.16            0.13\n",
      "1      cave            23.21             2.41          502.71           16.03\n",
      "2     cave+             8.57             0.38          573.87           20.19\n",
      "3     caveh            11.28             0.80          253.93           27.67\n",
      "4      spo+            10.26             0.46         1191.29           42.63\n",
      "5  spo+_rel            13.14             0.46          636.99            3.04\n",
      "6      pfyl             9.00             0.52         1456.21           34.18\n",
      "7  pfyl_rel            13.38             0.58          510.37            3.46\n",
      "8       nce            17.12             0.48          155.95           24.46\n"
     ]
    }
   ],
   "source": [
    "df = getTable(prob_name=\"tsp50\", poly_deg=6)\n",
    "print(df)"
   ]
  },
  {
   "cell_type": "markdown",
   "id": "7e008165",
   "metadata": {},
   "source": [
    "## VRP20 "
   ]
  },
  {
   "cell_type": "markdown",
   "id": "e27a1caa",
   "metadata": {},
   "source": [
    "### Poly-Degree 4 "
   ]
  },
  {
   "cell_type": "code",
   "execution_count": 8,
   "id": "e5f3e196",
   "metadata": {},
   "outputs": [
    {
     "name": "stdout",
     "output_type": "stream",
     "text": [
      "     Method  Avg Test Regret  Std Test Regret  Avg Train Time  Std Train Time\n",
      "0        2s            10.10             0.64            1.65            0.48\n",
      "1      cave             9.26             1.56          213.56           42.36\n",
      "2     cave+             6.44             0.24          153.56           11.08\n",
      "3     caveh             7.92             0.52           44.52            6.27\n",
      "4      spo+             5.94             0.25         7020.11         1043.05\n",
      "5  spo+_rel             8.03             0.38           78.95            0.73\n",
      "6      pfyl             6.32             0.28         3773.31          288.84\n",
      "7  pfyl_rel            17.07             0.63           78.80            1.19\n",
      "8       nce            15.77             0.96          583.56          170.67\n"
     ]
    }
   ],
   "source": [
    "df = getTable(prob_name=\"vrp20\", poly_deg=4)\n",
    "print(df)"
   ]
  },
  {
   "cell_type": "markdown",
   "id": "4ee949a0",
   "metadata": {},
   "source": [
    "### Poly-Degree 6 "
   ]
  },
  {
   "cell_type": "code",
   "execution_count": 9,
   "id": "53479eae",
   "metadata": {},
   "outputs": [
    {
     "name": "stdout",
     "output_type": "stream",
     "text": [
      "     Method  Avg Test Regret  Std Test Regret  Avg Train Time  Std Train Time\n",
      "0        2s            19.50             1.22            1.54            0.25\n",
      "1      cave            11.64             0.25          208.95           12.90\n",
      "2     cave+             7.94             0.54          127.94           13.84\n",
      "3     caveh            11.44             1.14           51.83            8.78\n",
      "4      spo+             8.75             0.28         2204.83           99.86\n",
      "5  spo+_rel            15.73             0.39           78.74            3.82\n",
      "6      pfyl             8.09             0.57         6197.84          288.63\n",
      "7  pfyl_rel            19.19             1.66           81.80            0.86\n",
      "8       nce            18.96             1.01          470.20           84.46\n"
     ]
    }
   ],
   "source": [
    "df = getTable(prob_name=\"vrp20\", poly_deg=6)\n",
    "print(df)"
   ]
  },
  {
   "cell_type": "code",
   "execution_count": null,
   "id": "e5631ee7-dc1e-4836-bb07-248b56612d4b",
   "metadata": {},
   "outputs": [],
   "source": []
  }
 ],
 "metadata": {
  "kernelspec": {
   "display_name": "Python 3 (ipykernel)",
   "language": "python",
   "name": "python3"
  },
  "language_info": {
   "codemirror_mode": {
    "name": "ipython",
    "version": 3
   },
   "file_extension": ".py",
   "mimetype": "text/x-python",
   "name": "python",
   "nbconvert_exporter": "python",
   "pygments_lexer": "ipython3",
   "version": "3.11.5"
  }
 },
 "nbformat": 4,
 "nbformat_minor": 5
}
