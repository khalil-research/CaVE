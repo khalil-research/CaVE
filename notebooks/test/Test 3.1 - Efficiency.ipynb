{
 "cells": [
  {
   "cell_type": "code",
   "execution_count": 1,
   "id": "49b5424e",
   "metadata": {
    "colab": {
     "base_uri": "https://localhost:8080/"
    },
    "id": "49b5424e",
    "outputId": "7ccfabbc-196d-4963-d0af-901eff1e872b"
   },
   "outputs": [
    {
     "name": "stdout",
     "output_type": "stream",
     "text": [
      "Auto-Sklearn cannot be imported.\n"
     ]
    }
   ],
   "source": [
    "import numpy as np\n",
    "import torch\n",
    "import pyepo"
   ]
  },
  {
   "cell_type": "markdown",
   "id": "53e5be4e",
   "metadata": {
    "id": "53e5be4e"
   },
   "source": [
    "## Data Set and Optimization Solver"
   ]
  },
  {
   "cell_type": "code",
   "execution_count": 2,
   "id": "00e3bd4d",
   "metadata": {
    "id": "00e3bd4d"
   },
   "outputs": [],
   "source": [
    "# generate data\n",
    "num_node = 50 # node size\n",
    "num_data = 1000 # number of training data\n",
    "num_feat = 10 # size of feature\n",
    "deg = 4 # polynomial degree\n",
    "e = 0.5 # noise width\n",
    "feats, costs = pyepo.data.tsp.genData(num_data, num_feat, num_node, deg, e, seed=42)"
   ]
  },
  {
   "cell_type": "code",
   "execution_count": 3,
   "id": "6073c3f4",
   "metadata": {
    "colab": {
     "base_uri": "https://localhost:8080/"
    },
    "id": "6073c3f4",
    "outputId": "e5734002-11c7-44d6-a6ba-006b39d0d4e5",
    "scrolled": false
   },
   "outputs": [
    {
     "name": "stdout",
     "output_type": "stream",
     "text": [
      "Set parameter Username\n",
      "Academic license - for non-commercial use only - expires 2024-01-01\n",
      "Obj: 83.2908\n",
      "0 -> 5 -> 3 -> 41 -> 12 -> 20 -> 23 -> 49 -> 8 -> 22 -> 9 -> 24 -> 44 -> 14 -> 6 -> 19 -> 46 -> 39 -> 17 -> 37 -> 4 -> 32 -> 34 -> 45 -> 43 -> 26 -> 35 -> 33 -> 28 -> 38 -> 1 -> 40 -> 48 -> 29 -> 15 -> 10 -> 25 -> 30 -> 47 -> 11 -> 27 -> 2 -> 36 -> 18 -> 7 -> 13 -> 31 -> 42 -> 21 -> 16 -> 0\n"
     ]
    }
   ],
   "source": [
    "from model import tspDFJModel\n",
    "# set solver\n",
    "optmodel = tspDFJModel(num_node)\n",
    "# test\n",
    "optmodel.setObj(costs[0])\n",
    "sol, obj = optmodel.solve()\n",
    "print(\"Obj: {}\".format(obj))\n",
    "tour = optmodel.getTour(sol)\n",
    "print(\" -> \".join(map(str, tour)))"
   ]
  },
  {
   "cell_type": "code",
   "execution_count": 4,
   "id": "1c7df499",
   "metadata": {},
   "outputs": [
    {
     "name": "stdout",
     "output_type": "stream",
     "text": [
      "Optimizing for optDataset...\n"
     ]
    },
    {
     "name": "stderr",
     "output_type": "stream",
     "text": [
      "100%|██████████████████████████████████████████████████████████████████████████████| 1000/1000 [04:16<00:00,  3.89it/s]\n"
     ]
    }
   ],
   "source": [
    "from dataset import optDatasetConstrs\n",
    "dataset_train = optDatasetConstrs(optmodel, feats, costs=costs) # with binding constr"
   ]
  },
  {
   "cell_type": "code",
   "execution_count": 5,
   "id": "77111dd8",
   "metadata": {
    "id": "77111dd8"
   },
   "outputs": [],
   "source": [
    "# get data loader\n",
    "from torch.utils.data import DataLoader\n",
    "from dataset import collate_fn\n",
    "batch_size = 32\n",
    "loader_train = DataLoader(dataset_train, batch_size=batch_size, collate_fn=collate_fn, shuffle=True)"
   ]
  },
  {
   "cell_type": "markdown",
   "id": "c21a2da3",
   "metadata": {
    "id": "c21a2da3"
   },
   "source": [
    "## Prediction Model"
   ]
  },
  {
   "cell_type": "code",
   "execution_count": 6,
   "id": "49603cb7",
   "metadata": {
    "id": "49603cb7"
   },
   "outputs": [],
   "source": [
    "import torch\n",
    "from torch import nn\n",
    "\n",
    "# build linear model\n",
    "class LinearRegression(nn.Module):\n",
    "\n",
    "    def __init__(self):\n",
    "        super(LinearRegression, self).__init__()\n",
    "        self.linear = nn.Linear(num_feat, num_node*(num_node-1)//2)\n",
    "\n",
    "    def forward(self, x):\n",
    "        out = self.linear(x)\n",
    "        return out"
   ]
  },
  {
   "cell_type": "markdown",
   "id": "f71fb9a6",
   "metadata": {
    "id": "f71fb9a6"
   },
   "source": [
    "## Train"
   ]
  },
  {
   "cell_type": "code",
   "execution_count": 7,
   "id": "35a524b5",
   "metadata": {},
   "outputs": [],
   "source": [
    "lr = 5e-2\n",
    "num_epochs = 1"
   ]
  },
  {
   "cell_type": "code",
   "execution_count": 8,
   "id": "c86e509e",
   "metadata": {},
   "outputs": [],
   "source": [
    "import time\n",
    "from tqdm import tqdm\n",
    "\n",
    "def pipeline(reg, forward_func, loss_func, lr, num_epochs, loader_train, seed=42):\n",
    "    # set random seed\n",
    "    np.random.seed(42)\n",
    "    torch.manual_seed(42)\n",
    "    # set optimizer\n",
    "    optimizer = torch.optim.Adam(reg.parameters(), lr=lr)\n",
    "    # running time\n",
    "    elapsed = 0\n",
    "    for epoch in range(num_epochs):\n",
    "        # training\n",
    "        tbar = tqdm(loader_train)\n",
    "        tick = time.time()\n",
    "        for data in tbar:\n",
    "            # forward pass)\n",
    "            loss = forward_func(data, reg, loss_func)\n",
    "            # backward pass\n",
    "            optimizer.zero_grad()\n",
    "            loss.backward()\n",
    "            optimizer.step()\n",
    "            tbar.set_description(\"Loss: {:8.4f}\".format(loss.item()))\n",
    "        # record time\n",
    "        tock = time.time()\n",
    "        elapsed += tock - tick\n",
    "    time.sleep(1)\n",
    "    print(\"Evaluation:\")\n",
    "    print(\"Training Elapsed Time: {:.2f} Sec\".format(elapsed))\n",
    "\n",
    "def forwardCAVE(data, reg, loss_func):\n",
    "    # unzip data\n",
    "    x, _, _, t_ctr = data\n",
    "    # predict\n",
    "    cp = reg(x)\n",
    "    # loss\n",
    "    loss = loss_func(cp, t_ctr)\n",
    "    return loss"
   ]
  },
  {
   "cell_type": "markdown",
   "id": "7fa62d0e",
   "metadata": {},
   "source": [
    "### Loss "
   ]
  },
  {
   "cell_type": "code",
   "execution_count": 9,
   "id": "4799c1cb",
   "metadata": {},
   "outputs": [
    {
     "name": "stdout",
     "output_type": "stream",
     "text": [
      "(CVXPY) Nov 22 02:10:48 AM: Encountered unexpected exception importing solver OSQP:\n",
      "ImportError('DLL load failed while importing qdldl: The specified module could not be found.')\n"
     ]
    }
   ],
   "source": [
    "import gurobipy as gp\n",
    "from gurobipy import GRB\n",
    "import numpy as np\n",
    "import torch\n",
    "\n",
    "from func import abstractConeAlignedCosine\n",
    "\n",
    "class exactConeAlignedCosine(abstractConeAlignedCosine):\n",
    "    \"\"\"\n",
    "    A autograd module to align cone and vector with exact cosine similarity loss\n",
    "    \"\"\"\n",
    "    def __init__(self, optmodel, warmstart=True, conecheck=False):\n",
    "        \"\"\"\n",
    "        Args:\n",
    "            optmodel (optModel): an PyEPO optimization model\n",
    "            warmstart (bool): start QP with initial solutions or not\n",
    "            conecheck (bool): check if cost vector is in the cone or not\n",
    "        \"\"\"\n",
    "        super().__init__(optmodel)\n",
    "        self.warmstart = warmstart\n",
    "        self.conecheck = conecheck\n",
    "\n",
    "    def _getProjection(self, pred_cost, tight_ctrs):\n",
    "        \"\"\"\n",
    "        A method to get the projection of the vector onto the polar cone via solving a quadratic programming\n",
    "        \"\"\"\n",
    "        # get device\n",
    "        device = pred_cost.device\n",
    "        # to numpy\n",
    "        pred_cost = pred_cost.detach().cpu().numpy()\n",
    "        tight_ctrs = tight_ctrs.detach().cpu().numpy()\n",
    "        # init loss\n",
    "        proj = torch.empty(pred_cost.shape).to(device)\n",
    "        # calculate projection\n",
    "        for i, (cp, ctr) in enumerate(zip(pred_cost, tight_ctrs)):\n",
    "            proj[i] = self._solveQP(cp, ctr, self.warmstart, self.conecheck)\n",
    "        # normalize\n",
    "        proj = proj / proj.norm(dim=1, keepdim=True)\n",
    "        return proj\n",
    "\n",
    "    @staticmethod\n",
    "    def _solveQP(cp, ctr, warmstart, conecheck):\n",
    "        \"\"\"\n",
    "        A static method to solve quadratic programming.\n",
    "        \"\"\"\n",
    "        # drop pads\n",
    "        ctr = ctr[np.abs(ctr).sum(axis=1) > 1e-7]\n",
    "        # check if in the cone\n",
    "        if conecheck and _checkInCone(cp, ctr):\n",
    "            return torch.FloatTensor(cp.copy())\n",
    "        # ceate a model\n",
    "        m = gp.Model(\"projection\")\n",
    "        # turn off output\n",
    "        m.Params.outputFlag = 0\n",
    "        # numerical precision\n",
    "        m.Params.FeasibilityTol = 1e-3\n",
    "        m.Params.OptimalityTol = 1e-3\n",
    "        # focus on numeric problem\n",
    "        m.Params.NumericFocus = 3\n",
    "        # varibles\n",
    "        λ = m.addMVar(len(ctr), name=\"λ\")\n",
    "        # warm-start\n",
    "        if warmstart:\n",
    "            init_λ = np.zeros(len(ctr))\n",
    "            sign = ctr[-len(cp):].sum(axis=0)\n",
    "            init_λ[-len(cp):] = np.abs(cp) * (np.sign(cp) == np.sign(sign)) # hyperqudrants\n",
    "            λ.Start = init_λ\n",
    "        # objective function\n",
    "        obj = (cp - λ @ ctr) @ (cp - λ @ ctr)\n",
    "        m.setObjective(obj, GRB.MINIMIZE)\n",
    "        # solve\n",
    "        m.optimize()\n",
    "        # get solutions\n",
    "        p = np.array(λ.X) @ ctr\n",
    "        # normalize\n",
    "        p = torch.FloatTensor(p / np.linalg.norm(p))\n",
    "        return p\n",
    "    \n",
    "def _checkInCone(cp, ctr):\n",
    "    \"\"\"\n",
    "    Method to check if the given cost vector in the cone\n",
    "    \"\"\"\n",
    "    # ceate a model\n",
    "    m = gp.Model(\"Cone Combination\")\n",
    "    # turn off output\n",
    "    m.Params.outputFlag = 0\n",
    "    # numerical precision\n",
    "    m.Params.FeasibilityTol = 1e-3\n",
    "    m.Params.OptimalityTol = 1e-3\n",
    "    # varibles\n",
    "    λ = m.addMVar(len(ctr), name=\"λ\")\n",
    "    # constraints\n",
    "    m.addConstr(λ @ ctr == cp)\n",
    "    # objective function\n",
    "    m.setObjective(0, GRB.MINIMIZE)\n",
    "    # solve the model\n",
    "    m.optimize()\n",
    "    # return the status of the model\n",
    "    return m.status == GRB.OPTIMAL"
   ]
  },
  {
   "cell_type": "markdown",
   "id": "73337dfe",
   "metadata": {},
   "source": [
    "### Standard"
   ]
  },
  {
   "cell_type": "code",
   "execution_count": 10,
   "id": "d32b900a",
   "metadata": {},
   "outputs": [],
   "source": [
    "# init model\n",
    "reg = LinearRegression()"
   ]
  },
  {
   "cell_type": "code",
   "execution_count": 11,
   "id": "ed87271d",
   "metadata": {},
   "outputs": [],
   "source": [
    "# init loss\n",
    "ca_cos = exactConeAlignedCosine(optmodel, warmstart=False, conecheck=False)"
   ]
  },
  {
   "cell_type": "code",
   "execution_count": 12,
   "id": "a47b603b",
   "metadata": {},
   "outputs": [
    {
     "name": "stderr",
     "output_type": "stream",
     "text": [
      "Loss:  -0.9979: 100%|██████████████████████████████████████████████████████████████████| 32/32 [03:32<00:00,  6.65s/it]\n"
     ]
    },
    {
     "name": "stdout",
     "output_type": "stream",
     "text": [
      "Evaluation:\n",
      "Training Elapsed Time: 212.92 Sec\n"
     ]
    }
   ],
   "source": [
    "pipeline(reg, forwardCAVE, ca_cos, lr, num_epochs, loader_train)"
   ]
  },
  {
   "cell_type": "markdown",
   "id": "f7dee968",
   "metadata": {},
   "source": [
    "### Warm Starting "
   ]
  },
  {
   "cell_type": "code",
   "execution_count": 13,
   "id": "d17b0126",
   "metadata": {},
   "outputs": [],
   "source": [
    "# init model\n",
    "reg = LinearRegression()"
   ]
  },
  {
   "cell_type": "code",
   "execution_count": 14,
   "id": "b28a155f",
   "metadata": {},
   "outputs": [],
   "source": [
    "# init loss\n",
    "ca_cos = exactConeAlignedCosine(optmodel, warmstart=True, conecheck=False)"
   ]
  },
  {
   "cell_type": "code",
   "execution_count": 15,
   "id": "c7b6210b",
   "metadata": {},
   "outputs": [
    {
     "name": "stderr",
     "output_type": "stream",
     "text": [
      "Loss:  -0.9982: 100%|██████████████████████████████████████████████████████████████████| 32/32 [03:30<00:00,  6.57s/it]\n"
     ]
    },
    {
     "name": "stdout",
     "output_type": "stream",
     "text": [
      "Evaluation:\n",
      "Training Elapsed Time: 210.24 Sec\n"
     ]
    }
   ],
   "source": [
    "pipeline(reg, forwardCAVE, ca_cos, lr, num_epochs, loader_train)"
   ]
  },
  {
   "cell_type": "markdown",
   "id": "5d948b22",
   "metadata": {},
   "source": [
    "### Cone Check "
   ]
  },
  {
   "cell_type": "code",
   "execution_count": 16,
   "id": "54b10cda",
   "metadata": {},
   "outputs": [],
   "source": [
    "# init model\n",
    "reg = LinearRegression()"
   ]
  },
  {
   "cell_type": "code",
   "execution_count": 17,
   "id": "840ca477",
   "metadata": {},
   "outputs": [],
   "source": [
    "# init loss\n",
    "ca_cos = exactConeAlignedCosine(optmodel, warmstart=False, conecheck=True)"
   ]
  },
  {
   "cell_type": "code",
   "execution_count": 18,
   "id": "9ce57632",
   "metadata": {},
   "outputs": [
    {
     "name": "stderr",
     "output_type": "stream",
     "text": [
      "Loss:  -0.9982: 100%|██████████████████████████████████████████████████████████████████| 32/32 [03:57<00:00,  7.42s/it]\n"
     ]
    },
    {
     "name": "stdout",
     "output_type": "stream",
     "text": [
      "Evaluation:\n",
      "Training Elapsed Time: 237.42 Sec\n"
     ]
    }
   ],
   "source": [
    "pipeline(reg, forwardCAVE, ca_cos, lr, num_epochs, loader_train)"
   ]
  },
  {
   "cell_type": "code",
   "execution_count": null,
   "id": "921ac0e4",
   "metadata": {},
   "outputs": [],
   "source": []
  }
 ],
 "metadata": {
  "colab": {
   "provenance": []
  },
  "kernelspec": {
   "display_name": "Python 3 (ipykernel)",
   "language": "python",
   "name": "python3"
  },
  "language_info": {
   "codemirror_mode": {
    "name": "ipython",
    "version": 3
   },
   "file_extension": ".py",
   "mimetype": "text/x-python",
   "name": "python",
   "nbconvert_exporter": "python",
   "pygments_lexer": "ipython3",
   "version": "3.11.5"
  }
 },
 "nbformat": 4,
 "nbformat_minor": 5
}
