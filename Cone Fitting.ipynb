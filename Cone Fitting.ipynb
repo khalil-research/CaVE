{
 "cells": [
  {
   "cell_type": "markdown",
   "id": "53e5be4e",
   "metadata": {},
   "source": [
    "## Data Set and Optimization Solver"
   ]
  },
  {
   "cell_type": "code",
   "execution_count": 1,
   "id": "74959aac",
   "metadata": {},
   "outputs": [
    {
     "name": "stdout",
     "output_type": "stream",
     "text": [
      "Auto-Sklearn cannot be imported.\n"
     ]
    }
   ],
   "source": [
    "import pyepo"
   ]
  },
  {
   "cell_type": "code",
   "execution_count": 2,
   "id": "00e3bd4d",
   "metadata": {},
   "outputs": [],
   "source": [
    "# generate data\n",
    "grid = (2,2) # grid size\n",
    "num_data = 1000 # number of training data\n",
    "num_feat = 5 # size of feature\n",
    "deg = 4 # polynomial degree\n",
    "e = 0.5 # noise width\n",
    "feats, costs = pyepo.data.shortestpath.genData(num_data+1000, num_feat, grid, deg, e, seed=42)"
   ]
  },
  {
   "cell_type": "code",
   "execution_count": 3,
   "id": "6073c3f4",
   "metadata": {},
   "outputs": [
    {
     "name": "stdout",
     "output_type": "stream",
     "text": [
      "Set parameter Username\n",
      "Academic license - for non-commercial use only - expires 2024-01-01\n",
      "Obj: 0.5009689961416153\n",
      "(0, 2)\n",
      "(2, 3)\n"
     ]
    }
   ],
   "source": [
    "from pyepo.model.grb import shortestPathModel\n",
    "# set solver\n",
    "optmodel = shortestPathModel(grid)\n",
    "# test\n",
    "optmodel.setObj(costs[0])\n",
    "sol, obj = optmodel.solve()\n",
    "print(\"Obj: {}\".format(obj))\n",
    "for i, e in enumerate(optmodel.arcs):\n",
    "    if sol[i] > 1e-3:\n",
    "        print(e)"
   ]
  },
  {
   "cell_type": "code",
   "execution_count": 4,
   "id": "ac1e64dd",
   "metadata": {},
   "outputs": [
    {
     "name": "stdout",
     "output_type": "stream",
     "text": [
      "Optimizing for optDataset...\n"
     ]
    },
    {
     "name": "stderr",
     "output_type": "stream",
     "text": [
      "100%|████████████████████████████████████████████████████████████████████████████| 1000/1000 [00:00<00:00, 5431.76it/s]\n"
     ]
    },
    {
     "name": "stdout",
     "output_type": "stream",
     "text": [
      "Optimizing for optDataset...\n"
     ]
    },
    {
     "name": "stderr",
     "output_type": "stream",
     "text": [
      "100%|████████████████████████████████████████████████████████████████████████████| 1000/1000 [00:00<00:00, 5463.62it/s]\n"
     ]
    }
   ],
   "source": [
    "# split data\n",
    "from sklearn.model_selection import train_test_split\n",
    "x_train, x_test, c_train, c_test = train_test_split(feats, costs, test_size=1000, random_state=42)\n",
    "# get training and test data set\n",
    "dataset_train = pyepo.data.dataset.optDataset(optmodel, x_train, c_train)\n",
    "dataset_test = pyepo.data.dataset.optDataset(optmodel, x_test, c_test)"
   ]
  },
  {
   "cell_type": "code",
   "execution_count": 5,
   "id": "77111dd8",
   "metadata": {},
   "outputs": [],
   "source": [
    "# get data loader\n",
    "from torch.utils.data import DataLoader\n",
    "batch_size = 32\n",
    "loader_train = DataLoader(dataset_train, batch_size=batch_size, shuffle=True)\n",
    "loader_test = DataLoader(dataset_test, batch_size=batch_size, shuffle=False)"
   ]
  },
  {
   "cell_type": "markdown",
   "id": "c21a2da3",
   "metadata": {},
   "source": [
    "## Prediction Model"
   ]
  },
  {
   "cell_type": "code",
   "execution_count": 6,
   "id": "49603cb7",
   "metadata": {},
   "outputs": [],
   "source": [
    "import torch\n",
    "from torch import nn\n",
    "\n",
    "# build linear model\n",
    "class LinearRegression(nn.Module):\n",
    "    \n",
    "    def __init__(self):\n",
    "        super(LinearRegression, self).__init__()\n",
    "        self.linear = nn.Linear(num_feat, (grid[0]-1)*grid[1]+(grid[1]-1)*grid[0])\n",
    "    \n",
    "    def forward(self, x):\n",
    "        out = self.linear(x)\n",
    "        return out"
   ]
  },
  {
   "cell_type": "code",
   "execution_count": 7,
   "id": "8dd6a2e2",
   "metadata": {},
   "outputs": [],
   "source": [
    "# init model\n",
    "reg = LinearRegression()"
   ]
  },
  {
   "cell_type": "markdown",
   "id": "01672965",
   "metadata": {},
   "source": [
    "## Loss "
   ]
  },
  {
   "cell_type": "code",
   "execution_count": 8,
   "id": "0dfc7cac",
   "metadata": {},
   "outputs": [],
   "source": [
    "from torch.autograd import Function\n",
    "\n",
    "from pyepo import EPO"
   ]
  },
  {
   "cell_type": "code",
   "execution_count": 9,
   "id": "ece6cf5e",
   "metadata": {},
   "outputs": [],
   "source": [
    "class polarConeAngle(nn.Module):\n",
    "    \"\"\"\n",
    "    A autograd module for polar cone fitting loss with binary variables\n",
    "    \"\"\"\n",
    "    \n",
    "    def forward(self, pred_cost, true_sol):\n",
    "        \"\"\"\n",
    "        Forward pass\n",
    "        \"\"\"\n",
    "        loss = polarConeAngleFunc.apply(pred_cost, true_sol)\n",
    "        return loss\n",
    "    \n",
    "class polarConeAngleFunc(Function):\n",
    "    \"\"\"\n",
    "    A autograd function for polar cone fitting loss with binary variables\n",
    "    \"\"\"\n",
    "    \n",
    "    @staticmethod\n",
    "    def forward(ctx, pred_cost, true_sol):\n",
    "        loss = []\n",
    "        for i in range(len(pred_cost)):\n",
    "            # check if the vector in the cone\n",
    "            if optmodel.modelSense == EPO.MINIMIZE:\n",
    "                inside = torch.equal(pred_cost[i] <= 0, true_sol[i].type(torch.BoolTensor))\n",
    "            if optmodel.modelSense == EPO.MAXIMIZE:\n",
    "                inside = torch.equal(pred_cost[i] >= 0, true_sol[i].type(torch.BoolTensor))\n",
    "            # z\n",
    "            if inside:\n",
    "                loss.append(0)\n",
    "            else:\n",
    "                "
   ]
  },
  {
   "cell_type": "code",
   "execution_count": 10,
   "id": "67660513",
   "metadata": {},
   "outputs": [],
   "source": [
    "# init loss\n",
    "pca_loss = polarConeAngle()"
   ]
  },
  {
   "cell_type": "markdown",
   "id": "27cd2d6b",
   "metadata": {},
   "source": [
    "## Warning: Numerical Issue for Arcos"
   ]
  },
  {
   "cell_type": "code",
   "execution_count": 11,
   "id": "a00453bc",
   "metadata": {},
   "outputs": [
    {
     "data": {
      "text/plain": [
       "tensor([1.5708, 0.0000,    nan])"
      ]
     },
     "execution_count": 11,
     "metadata": {},
     "output_type": "execute_result"
    }
   ],
   "source": [
    "torch.acos(torch.tensor([0, 1, 1+1e8]))"
   ]
  },
  {
   "cell_type": "markdown",
   "id": "f71fb9a6",
   "metadata": {},
   "source": [
    "## Test "
   ]
  },
  {
   "cell_type": "code",
   "execution_count": 13,
   "id": "8c332205",
   "metadata": {},
   "outputs": [
    {
     "name": "stdout",
     "output_type": "stream",
     "text": [
      "[0.0, 1.0, 0.0, 1.0]\n",
      "tensor([0., 1., 0., 1.])\n",
      "[0.0, 1.0, 0.0, 1.0]\n",
      "tensor([0., 1., 0., 1.])\n",
      "[0.0, 1.0, 0.0, 1.0]\n",
      "tensor([0., 1., 0., 1.])\n",
      "[0.0, 1.0, 0.0, 1.0]\n",
      "tensor([0., 1., 0., 1.])\n",
      "[0.0, 1.0, 0.0, 1.0]\n",
      "tensor([0., 1., 0., 1.])\n",
      "[0.0, 1.0, 0.0, 1.0]\n",
      "tensor([0., 1., 0., 1.])\n",
      "[0.0, 1.0, 0.0, 1.0]\n",
      "tensor([0., 1., 0., 1.])\n",
      "[0.0, 1.0, 0.0, 1.0]\n",
      "tensor([0., 1., 0., 1.])\n"
     ]
    }
   ],
   "source": [
    "for data in loader_train:\n",
    "    x, c, w, z = data\n",
    "    # forward pass\n",
    "    cp = reg(x)\n",
    "    loss = pca_loss(cp, w)"
   ]
  },
  {
   "cell_type": "code",
   "execution_count": null,
   "id": "a43aab6e",
   "metadata": {},
   "outputs": [],
   "source": []
  }
 ],
 "metadata": {
  "kernelspec": {
   "display_name": "Python 3 (ipykernel)",
   "language": "python",
   "name": "python3"
  },
  "language_info": {
   "codemirror_mode": {
    "name": "ipython",
    "version": 3
   },
   "file_extension": ".py",
   "mimetype": "text/x-python",
   "name": "python",
   "nbconvert_exporter": "python",
   "pygments_lexer": "ipython3",
   "version": "3.9.15"
  }
 },
 "nbformat": 4,
 "nbformat_minor": 5
}
