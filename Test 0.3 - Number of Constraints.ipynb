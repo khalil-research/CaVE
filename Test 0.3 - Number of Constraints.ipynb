{
 "cells": [
  {
   "cell_type": "code",
   "execution_count": 1,
   "id": "e5e3e4e3",
   "metadata": {},
   "outputs": [
    {
     "name": "stdout",
     "output_type": "stream",
     "text": [
      "Auto-Sklearn cannot be imported.\n"
     ]
    },
    {
     "data": {
      "text/plain": [
       "<torch._C.Generator at 0x1b74e5f6e50>"
      ]
     },
     "execution_count": 1,
     "metadata": {},
     "output_type": "execute_result"
    }
   ],
   "source": [
    "import numpy as np\n",
    "import torch\n",
    "import pyepo\n",
    "\n",
    "# random seed\n",
    "np.random.seed(42)\n",
    "torch.manual_seed(42)"
   ]
  },
  {
   "cell_type": "markdown",
   "id": "567b8178",
   "metadata": {},
   "source": [
    "### Shortest Path "
   ]
  },
  {
   "cell_type": "code",
   "execution_count": 2,
   "id": "72c9c34c",
   "metadata": {},
   "outputs": [],
   "source": [
    "# generate data\n",
    "grid = (5,5) # grid size\n",
    "num_data = 10 # number of training data\n",
    "num_feat = 5 # size of feature\n",
    "deg = 4 # polynomial degree\n",
    "feats, costs = pyepo.data.shortestpath.genData(num_data, num_feat, grid, deg, seed=42)"
   ]
  },
  {
   "cell_type": "code",
   "execution_count": 3,
   "id": "bf356a09",
   "metadata": {},
   "outputs": [
    {
     "name": "stdout",
     "output_type": "stream",
     "text": [
      "Set parameter Username\n",
      "Academic license - for non-commercial use only - expires 2024-01-01\n"
     ]
    }
   ],
   "source": [
    "from pyepo.model.grb import shortestPathModel\n",
    "# set solver\n",
    "optmodel = shortestPathModel(grid)"
   ]
  },
  {
   "cell_type": "code",
   "execution_count": 4,
   "id": "33ebe7ca",
   "metadata": {},
   "outputs": [
    {
     "name": "stdout",
     "output_type": "stream",
     "text": [
      "Optimizing for optDataset...\n"
     ]
    },
    {
     "name": "stderr",
     "output_type": "stream",
     "text": [
      "100%|█████████████████████████████████████████████████████████████████████████████████| 10/10 [00:00<00:00, 434.29it/s]\n"
     ]
    }
   ],
   "source": [
    "from dataset import optDatasetConstrs\n",
    "dataset = optDatasetConstrs(optmodel, feats, costs=costs)"
   ]
  },
  {
   "cell_type": "code",
   "execution_count": 5,
   "id": "334f9573",
   "metadata": {},
   "outputs": [
    {
     "name": "stdout",
     "output_type": "stream",
     "text": [
      "Number of decision variables: 40\n",
      "Number of binding constrs: 90\n"
     ]
    }
   ],
   "source": [
    "print(\"Number of decision variables:\", dataset.ctrs[0].shape[1])\n",
    "print(\"Number of binding constrs:\", dataset.ctrs[0].shape[0])"
   ]
  },
  {
   "cell_type": "markdown",
   "id": "d82f22b4",
   "metadata": {},
   "source": [
    "### TSP "
   ]
  },
  {
   "cell_type": "code",
   "execution_count": 6,
   "id": "d2f09925",
   "metadata": {},
   "outputs": [],
   "source": [
    "# generate data\n",
    "num_node = 20 # node size\n",
    "num_data = 10 # number of training data\n",
    "num_feat = 10 # size of feature\n",
    "deg = 4 # polynomial degree\n",
    "feats, costs = pyepo.data.tsp.genData(num_data, num_feat, num_node, deg, seed=42)"
   ]
  },
  {
   "cell_type": "code",
   "execution_count": 7,
   "id": "6dad5af9",
   "metadata": {},
   "outputs": [],
   "source": [
    "from model import tspDFJModel\n",
    "# set solver\n",
    "optmodel = tspDFJModel(num_node)"
   ]
  },
  {
   "cell_type": "code",
   "execution_count": 8,
   "id": "205c2710",
   "metadata": {},
   "outputs": [
    {
     "name": "stdout",
     "output_type": "stream",
     "text": [
      "Optimizing for optDataset...\n"
     ]
    },
    {
     "name": "stderr",
     "output_type": "stream",
     "text": [
      "100%|██████████████████████████████████████████████████████████████████████████████████| 10/10 [00:00<00:00, 60.56it/s]\n"
     ]
    }
   ],
   "source": [
    "from dataset import optDatasetConstrs\n",
    "dataset = optDatasetConstrs(optmodel, feats, costs=costs)"
   ]
  },
  {
   "cell_type": "code",
   "execution_count": 9,
   "id": "72107375",
   "metadata": {},
   "outputs": [
    {
     "name": "stdout",
     "output_type": "stream",
     "text": [
      "Number of decision variables: 190\n",
      "Instance 0 Number of binding constrs: 230\n",
      "Instance 1 Number of binding constrs: 233\n",
      "Instance 2 Number of binding constrs: 231\n",
      "Instance 3 Number of binding constrs: 231\n",
      "Instance 4 Number of binding constrs: 230\n",
      "Instance 5 Number of binding constrs: 230\n",
      "Instance 6 Number of binding constrs: 230\n",
      "Instance 7 Number of binding constrs: 234\n",
      "Instance 8 Number of binding constrs: 231\n",
      "Instance 9 Number of binding constrs: 232\n"
     ]
    }
   ],
   "source": [
    "print(\"Number of decision variables:\", dataset.ctrs[0].shape[1])\n",
    "for i in range(num_data):\n",
    "    print(\"Instance\", i, \"Number of binding constrs:\", dataset.ctrs[i].shape[0])"
   ]
  },
  {
   "cell_type": "markdown",
   "id": "e8a356d8",
   "metadata": {},
   "source": [
    "### Large TSP"
   ]
  },
  {
   "cell_type": "code",
   "execution_count": 10,
   "id": "3c8287d1",
   "metadata": {},
   "outputs": [],
   "source": [
    "# generate data\n",
    "num_node = 50 # node size\n",
    "num_data = 10 # number of training data\n",
    "num_feat = 10 # size of feature\n",
    "deg = 4 # polynomial degree\n",
    "feats, costs = pyepo.data.tsp.genData(num_data, num_feat, num_node, deg, seed=42)"
   ]
  },
  {
   "cell_type": "code",
   "execution_count": 11,
   "id": "7b882049",
   "metadata": {},
   "outputs": [],
   "source": [
    "from model import tspDFJModel\n",
    "# set solver\n",
    "optmodel = tspDFJModel(num_node)"
   ]
  },
  {
   "cell_type": "code",
   "execution_count": 12,
   "id": "2e0aede4",
   "metadata": {},
   "outputs": [
    {
     "name": "stdout",
     "output_type": "stream",
     "text": [
      "Optimizing for optDataset...\n"
     ]
    },
    {
     "name": "stderr",
     "output_type": "stream",
     "text": [
      "100%|██████████████████████████████████████████████████████████████████████████████████| 10/10 [00:02<00:00,  3.92it/s]\n"
     ]
    }
   ],
   "source": [
    "from dataset import optDatasetConstrs\n",
    "dataset = optDatasetConstrs(optmodel, feats, costs=costs)"
   ]
  },
  {
   "cell_type": "code",
   "execution_count": 13,
   "id": "7a886513",
   "metadata": {},
   "outputs": [
    {
     "name": "stdout",
     "output_type": "stream",
     "text": [
      "Number of decision variables: 1225\n",
      "Instance 0 Number of binding constrs: 1329\n",
      "Instance 1 Number of binding constrs: 1326\n",
      "Instance 2 Number of binding constrs: 1329\n",
      "Instance 3 Number of binding constrs: 1326\n",
      "Instance 4 Number of binding constrs: 1332\n",
      "Instance 5 Number of binding constrs: 1325\n",
      "Instance 6 Number of binding constrs: 1326\n",
      "Instance 7 Number of binding constrs: 1325\n",
      "Instance 8 Number of binding constrs: 1327\n",
      "Instance 9 Number of binding constrs: 1328\n"
     ]
    }
   ],
   "source": [
    "print(\"Number of decision variables:\", dataset.ctrs[0].shape[1])\n",
    "for i in range(num_data):\n",
    "    print(\"Instance\", i, \"Number of binding constrs:\", dataset.ctrs[i].shape[0])"
   ]
  },
  {
   "cell_type": "markdown",
   "id": "760ad087",
   "metadata": {},
   "source": [
    "### Knapsack "
   ]
  },
  {
   "cell_type": "code",
   "execution_count": 14,
   "id": "82c097da",
   "metadata": {},
   "outputs": [],
   "source": [
    "# generate data for grid network (features and costs)\n",
    "num_data = 10 # number of data\n",
    "num_feat = 5 # size of feature\n",
    "num_item = 32 # number of items\n",
    "deg = 4 # polynomial degree\n",
    "dim = 2 # dimension of knapsack\n",
    "noise_width = 0.5 # noise half-width\n",
    "caps = [20] * dim # capacity\n",
    "weights, feats, costs = pyepo.data.knapsack.genData(num_data+100+1000, num_feat, num_item, \n",
    "                                                    deg=deg, dim=dim, noise_width=noise_width)"
   ]
  },
  {
   "cell_type": "code",
   "execution_count": 15,
   "id": "68732419",
   "metadata": {},
   "outputs": [],
   "source": [
    "from pyepo.model.grb import knapsackModel\n",
    "# set solver\n",
    "optmodel = knapsackModel(weights, caps)"
   ]
  },
  {
   "cell_type": "code",
   "execution_count": 16,
   "id": "c630f087",
   "metadata": {},
   "outputs": [
    {
     "name": "stdout",
     "output_type": "stream",
     "text": [
      "Optimizing for optDataset...\n"
     ]
    },
    {
     "name": "stderr",
     "output_type": "stream",
     "text": [
      "100%|█████████████████████████████████████████████████████████████████████████████| 1110/1110 [00:03<00:00, 291.55it/s]\n"
     ]
    }
   ],
   "source": [
    "from dataset import optDatasetConstrs\n",
    "dataset = optDatasetConstrs(optmodel, feats, costs=costs)"
   ]
  },
  {
   "cell_type": "code",
   "execution_count": 17,
   "id": "2089b084",
   "metadata": {},
   "outputs": [
    {
     "name": "stdout",
     "output_type": "stream",
     "text": [
      "Number of decision variables: 32\n",
      "Instance 0 Number of binding constrs: 32\n",
      "Instance 1 Number of binding constrs: 32\n",
      "Instance 2 Number of binding constrs: 32\n",
      "Instance 3 Number of binding constrs: 32\n",
      "Instance 4 Number of binding constrs: 32\n",
      "Instance 5 Number of binding constrs: 32\n",
      "Instance 6 Number of binding constrs: 32\n",
      "Instance 7 Number of binding constrs: 32\n",
      "Instance 8 Number of binding constrs: 32\n",
      "Instance 9 Number of binding constrs: 32\n"
     ]
    }
   ],
   "source": [
    "print(\"Number of decision variables:\", dataset.ctrs[0].shape[1])\n",
    "for i in range(num_data):\n",
    "    print(\"Instance\", i, \"Number of binding constrs:\", dataset.ctrs[i].shape[0])"
   ]
  },
  {
   "cell_type": "code",
   "execution_count": null,
   "id": "143ec8fa",
   "metadata": {},
   "outputs": [],
   "source": []
  }
 ],
 "metadata": {
  "kernelspec": {
   "display_name": "Python 3 (ipykernel)",
   "language": "python",
   "name": "python3"
  },
  "language_info": {
   "codemirror_mode": {
    "name": "ipython",
    "version": 3
   },
   "file_extension": ".py",
   "mimetype": "text/x-python",
   "name": "python",
   "nbconvert_exporter": "python",
   "pygments_lexer": "ipython3",
   "version": "3.9.18"
  }
 },
 "nbformat": 4,
 "nbformat_minor": 5
}
