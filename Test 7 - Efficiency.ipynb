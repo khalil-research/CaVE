{
 "cells": [
  {
   "cell_type": "code",
   "execution_count": 1,
   "id": "49b5424e",
   "metadata": {
    "colab": {
     "base_uri": "https://localhost:8080/"
    },
    "id": "49b5424e",
    "outputId": "7ccfabbc-196d-4963-d0af-901eff1e872b"
   },
   "outputs": [
    {
     "name": "stdout",
     "output_type": "stream",
     "text": [
      "Auto-Sklearn cannot be imported.\n"
     ]
    }
   ],
   "source": [
    "import numpy as np\n",
    "import torch\n",
    "import pyepo"
   ]
  },
  {
   "cell_type": "markdown",
   "id": "53e5be4e",
   "metadata": {
    "id": "53e5be4e"
   },
   "source": [
    "## Data Set and Optimization Solver"
   ]
  },
  {
   "cell_type": "code",
   "execution_count": 2,
   "id": "00e3bd4d",
   "metadata": {
    "id": "00e3bd4d"
   },
   "outputs": [],
   "source": [
    "# generate data\n",
    "num_node = 50 # node size\n",
    "num_data = 100 # number of training data\n",
    "num_feat = 10 # size of feature\n",
    "deg = 4 # polynomial degree\n",
    "e = 0.5 # noise width\n",
    "feats, costs = pyepo.data.tsp.genData(num_data, num_feat, num_node, deg, e, seed=42)"
   ]
  },
  {
   "cell_type": "code",
   "execution_count": 3,
   "id": "6073c3f4",
   "metadata": {
    "colab": {
     "base_uri": "https://localhost:8080/"
    },
    "id": "6073c3f4",
    "outputId": "e5734002-11c7-44d6-a6ba-006b39d0d4e5",
    "scrolled": false
   },
   "outputs": [
    {
     "name": "stdout",
     "output_type": "stream",
     "text": [
      "Set parameter Username\n",
      "Academic license - for non-commercial use only - expires 2024-01-01\n",
      "Obj: 81.7767\n",
      "0 -> 16 -> 37 -> 32 -> 34 -> 17 -> 40 -> 41 -> 12 -> 1 -> 9 -> 22 -> 23 -> 20 -> 26 -> 43 -> 19 -> 6 -> 14 -> 44 -> 24 -> 48 -> 29 -> 15 -> 10 -> 30 -> 47 -> 11 -> 27 -> 2 -> 36 -> 18 -> 7 -> 13 -> 8 -> 49 -> 33 -> 35 -> 4 -> 25 -> 46 -> 39 -> 45 -> 21 -> 42 -> 5 -> 3 -> 31 -> 28 -> 38 -> 0\n"
     ]
    }
   ],
   "source": [
    "from model import tspDFJModel\n",
    "# set solver\n",
    "optmodel = tspDFJModel(num_node)\n",
    "# test\n",
    "optmodel.setObj(costs[0])\n",
    "sol, obj = optmodel.solve()\n",
    "print(\"Obj: {}\".format(obj))\n",
    "tour = optmodel.getTour(sol)\n",
    "print(\" -> \".join(map(str, tour)))"
   ]
  },
  {
   "cell_type": "code",
   "execution_count": 4,
   "id": "1c7df499",
   "metadata": {},
   "outputs": [
    {
     "name": "stdout",
     "output_type": "stream",
     "text": [
      "Optimizing for optDataset...\n"
     ]
    },
    {
     "name": "stderr",
     "output_type": "stream",
     "text": [
      "100%|████████████████████████████████████████████████████████████████████████████████| 100/100 [00:19<00:00,  5.09it/s]\n"
     ]
    }
   ],
   "source": [
    "from dataset import optDatasetConstrs\n",
    "dataset_train = optDatasetConstrs(optmodel, feats, costs=costs) # with binding constr"
   ]
  },
  {
   "cell_type": "code",
   "execution_count": 5,
   "id": "77111dd8",
   "metadata": {
    "id": "77111dd8"
   },
   "outputs": [],
   "source": [
    "# get data loader\n",
    "from torch.utils.data import DataLoader\n",
    "from dataset import collate_fn\n",
    "batch_size = 32\n",
    "loader_train = DataLoader(dataset_train, batch_size=batch_size, collate_fn=collate_fn, shuffle=True)"
   ]
  },
  {
   "cell_type": "markdown",
   "id": "c21a2da3",
   "metadata": {
    "id": "c21a2da3"
   },
   "source": [
    "## Prediction Model"
   ]
  },
  {
   "cell_type": "code",
   "execution_count": 6,
   "id": "49603cb7",
   "metadata": {
    "id": "49603cb7"
   },
   "outputs": [],
   "source": [
    "import torch\n",
    "from torch import nn\n",
    "\n",
    "# build linear model\n",
    "class LinearRegression(nn.Module):\n",
    "\n",
    "    def __init__(self):\n",
    "        super(LinearRegression, self).__init__()\n",
    "        self.linear = nn.Linear(num_feat, num_node*(num_node-1)//2)\n",
    "\n",
    "    def forward(self, x):\n",
    "        out = self.linear(x)\n",
    "        return out"
   ]
  },
  {
   "cell_type": "markdown",
   "id": "f71fb9a6",
   "metadata": {
    "id": "f71fb9a6"
   },
   "source": [
    "## Train"
   ]
  },
  {
   "cell_type": "code",
   "execution_count": 7,
   "id": "35a524b5",
   "metadata": {},
   "outputs": [],
   "source": [
    "lr = 5e-2\n",
    "num_epochs = 1"
   ]
  },
  {
   "cell_type": "code",
   "execution_count": 8,
   "id": "c86e509e",
   "metadata": {},
   "outputs": [],
   "source": [
    "import time\n",
    "from tqdm import tqdm\n",
    "\n",
    "def pipeline(reg, forward_func, loss_func, lr, num_epochs, loader_train, seed=42):\n",
    "    # set random seed\n",
    "    np.random.seed(42)\n",
    "    torch.manual_seed(42)\n",
    "    # set optimizer\n",
    "    optimizer = torch.optim.Adam(reg.parameters(), lr=lr)\n",
    "    # running time\n",
    "    elapsed = 0\n",
    "    tbar = tqdm(range(num_epochs))\n",
    "    for epoch in tbar:\n",
    "        # training\n",
    "        time.sleep(1)\n",
    "        tick = time.time()\n",
    "        for data in loader_train:\n",
    "            # forward pass)\n",
    "            loss = forward_func(data, reg, loss_func)\n",
    "            # backward pass\n",
    "            optimizer.zero_grad()\n",
    "            loss.backward()\n",
    "            optimizer.step()\n",
    "            tbar.set_description(\"Loss: {:8.4f}\".format(loss.item()))\n",
    "        # record time\n",
    "        tock = time.time()\n",
    "        elapsed += tock - tick\n",
    "    time.sleep(1)\n",
    "    print(\"Evaluation:\")\n",
    "    print(\"Training Elapsed Time: {:.2f} Sec\".format(elapsed))\n",
    "\n",
    "def forwardCAVE(data, reg, loss_func):\n",
    "    # unzip data\n",
    "    x, _, _, t_ctr = data\n",
    "    # predict\n",
    "    cp = reg(x)\n",
    "    # loss\n",
    "    loss = loss_func(cp, t_ctr)\n",
    "    return loss"
   ]
  },
  {
   "cell_type": "markdown",
   "id": "73337dfe",
   "metadata": {},
   "source": [
    "### Standard"
   ]
  },
  {
   "cell_type": "code",
   "execution_count": 9,
   "id": "d32b900a",
   "metadata": {},
   "outputs": [],
   "source": [
    "# init model\n",
    "reg = LinearRegression()"
   ]
  },
  {
   "cell_type": "code",
   "execution_count": 10,
   "id": "ed87271d",
   "metadata": {},
   "outputs": [
    {
     "name": "stdout",
     "output_type": "stream",
     "text": [
      "Num of cores: 1\n"
     ]
    }
   ],
   "source": [
    "from func import exactConeAlignedCosine\n",
    "# init loss\n",
    "ca_cos = exactConeAlignedCosine(optmodel, warmstart=False, conecheck=False, processes=1)"
   ]
  },
  {
   "cell_type": "code",
   "execution_count": 11,
   "id": "a47b603b",
   "metadata": {},
   "outputs": [
    {
     "name": "stderr",
     "output_type": "stream",
     "text": [
      "Loss:  -0.9737: 100%|████████████████████████████████████████████████████████████████████| 1/1 [00:23<00:00, 23.20s/it]\n"
     ]
    },
    {
     "name": "stdout",
     "output_type": "stream",
     "text": [
      "Evaluation:\n",
      "Training Elapsed Time: 22.19 Sec\n"
     ]
    }
   ],
   "source": [
    "pipeline(reg, forwardCAVE, ca_cos, lr, num_epochs, loader_train)"
   ]
  },
  {
   "cell_type": "markdown",
   "id": "d73e88fa",
   "metadata": {},
   "source": [
    "### Multi-Core "
   ]
  },
  {
   "cell_type": "code",
   "execution_count": 12,
   "id": "5da6dbdb",
   "metadata": {},
   "outputs": [],
   "source": [
    "# init model\n",
    "reg = LinearRegression()"
   ]
  },
  {
   "cell_type": "code",
   "execution_count": 13,
   "id": "e0236317",
   "metadata": {},
   "outputs": [
    {
     "name": "stdout",
     "output_type": "stream",
     "text": [
      "Num of cores: 4\n"
     ]
    }
   ],
   "source": [
    "from func import exactConeAlignedCosine\n",
    "# init loss\n",
    "ca_cos = exactConeAlignedCosine(optmodel, warmstart=False, conecheck=False, processes=4)"
   ]
  },
  {
   "cell_type": "code",
   "execution_count": 14,
   "id": "972242e6",
   "metadata": {},
   "outputs": [
    {
     "name": "stderr",
     "output_type": "stream",
     "text": [
      "Loss:  -0.9717: 100%|████████████████████████████████████████████████████████████████████| 1/1 [00:17<00:00, 17.09s/it]\n"
     ]
    },
    {
     "name": "stdout",
     "output_type": "stream",
     "text": [
      "Evaluation:\n",
      "Training Elapsed Time: 16.08 Sec\n"
     ]
    }
   ],
   "source": [
    "pipeline(reg, forwardCAVE, ca_cos, lr, num_epochs, loader_train)"
   ]
  },
  {
   "cell_type": "markdown",
   "id": "0b4cad04",
   "metadata": {},
   "source": [
    "### Warm Starting "
   ]
  },
  {
   "cell_type": "code",
   "execution_count": 15,
   "id": "2920dc26",
   "metadata": {},
   "outputs": [],
   "source": [
    "# init model\n",
    "reg = LinearRegression()"
   ]
  },
  {
   "cell_type": "code",
   "execution_count": 16,
   "id": "baaf9fb3",
   "metadata": {},
   "outputs": [
    {
     "name": "stdout",
     "output_type": "stream",
     "text": [
      "Num of cores: 1\n"
     ]
    }
   ],
   "source": [
    "from func import exactConeAlignedCosine\n",
    "# init loss\n",
    "ca_cos = exactConeAlignedCosine(optmodel, warmstart=True, conecheck=False, processes=1)"
   ]
  },
  {
   "cell_type": "code",
   "execution_count": 17,
   "id": "95d87390",
   "metadata": {},
   "outputs": [
    {
     "name": "stderr",
     "output_type": "stream",
     "text": [
      "Loss:  -0.9717: 100%|████████████████████████████████████████████████████████████████████| 1/1 [00:22<00:00, 22.57s/it]\n"
     ]
    },
    {
     "name": "stdout",
     "output_type": "stream",
     "text": [
      "Evaluation:\n",
      "Training Elapsed Time: 21.56 Sec\n"
     ]
    }
   ],
   "source": [
    "pipeline(reg, forwardCAVE, ca_cos, lr, num_epochs, loader_train)"
   ]
  },
  {
   "cell_type": "markdown",
   "id": "73dc0b3a",
   "metadata": {},
   "source": [
    "### Cone Check "
   ]
  },
  {
   "cell_type": "code",
   "execution_count": 18,
   "id": "e90360b6",
   "metadata": {},
   "outputs": [],
   "source": [
    "# init model\n",
    "reg = LinearRegression()"
   ]
  },
  {
   "cell_type": "code",
   "execution_count": 19,
   "id": "d79815ac",
   "metadata": {},
   "outputs": [
    {
     "name": "stdout",
     "output_type": "stream",
     "text": [
      "Num of cores: 1\n"
     ]
    }
   ],
   "source": [
    "from func import exactConeAlignedCosine\n",
    "# init loss\n",
    "ca_cos = exactConeAlignedCosine(optmodel, warmstart=False, conecheck=True, processes=1)"
   ]
  },
  {
   "cell_type": "code",
   "execution_count": 20,
   "id": "8dbb7404",
   "metadata": {},
   "outputs": [
    {
     "name": "stderr",
     "output_type": "stream",
     "text": [
      "Loss:  -0.9717: 100%|████████████████████████████████████████████████████████████████████| 1/1 [00:23<00:00, 23.91s/it]\n"
     ]
    },
    {
     "name": "stdout",
     "output_type": "stream",
     "text": [
      "Evaluation:\n",
      "Training Elapsed Time: 22.90 Sec\n"
     ]
    }
   ],
   "source": [
    "pipeline(reg, forwardCAVE, ca_cos, lr, num_epochs, loader_train)"
   ]
  },
  {
   "cell_type": "code",
   "execution_count": null,
   "id": "a959bd8e",
   "metadata": {},
   "outputs": [],
   "source": []
  }
 ],
 "metadata": {
  "colab": {
   "provenance": []
  },
  "kernelspec": {
   "display_name": "Python 3 (ipykernel)",
   "language": "python",
   "name": "python3"
  },
  "language_info": {
   "codemirror_mode": {
    "name": "ipython",
    "version": 3
   },
   "file_extension": ".py",
   "mimetype": "text/x-python",
   "name": "python",
   "nbconvert_exporter": "python",
   "pygments_lexer": "ipython3",
   "version": "3.9.18"
  }
 },
 "nbformat": 4,
 "nbformat_minor": 5
}
