{
 "cells": [
  {
   "cell_type": "code",
   "execution_count": null,
   "id": "49b5424e",
   "metadata": {
    "colab": {
     "base_uri": "https://localhost:8080/"
    },
    "id": "49b5424e",
    "outputId": "7ccfabbc-196d-4963-d0af-901eff1e872b"
   },
   "outputs": [],
   "source": [
    "import numpy as np\n",
    "import torch\n",
    "import pyepo"
   ]
  },
  {
   "cell_type": "markdown",
   "id": "b9394215",
   "metadata": {},
   "source": [
    "### Number of Cores "
   ]
  },
  {
   "cell_type": "code",
   "execution_count": null,
   "id": "30c6795b",
   "metadata": {},
   "outputs": [],
   "source": [
    "# number of cores\n",
    "grids = [(5,5), (8,8)]#, (10,10), (12,12), (15,15), (18,18), (20,20)]"
   ]
  },
  {
   "cell_type": "markdown",
   "id": "afbe6347",
   "metadata": {},
   "source": [
    "### Data "
   ]
  },
  {
   "cell_type": "code",
   "execution_count": null,
   "id": "1f502521",
   "metadata": {},
   "outputs": [],
   "source": [
    "from dataset import optDatasetConstrs\n",
    "from torch.utils.data import DataLoader\n",
    "\n",
    "def getDataLoader(grid):\n",
    "    # generate data\n",
    "    num_data = 1000 # number of training data\n",
    "    num_feat = 5 # size of feature\n",
    "    deg = 4 # polynomial degree\n",
    "    e = 0.5 # noise width\n",
    "    feats, costs = pyepo.data.shortestpath.genData(num_data, num_feat, grid, deg, e, seed=42)\n",
    "    # create dataset\n",
    "    dataset = optDatasetConstrs(optmodel, feats, costs=costs)\n",
    "    # get data loader\n",
    "    batch_size = 32\n",
    "    dataloader = DataLoader(dataset, batch_size=batch_size, shuffle=True)\n",
    "    return dataloader"
   ]
  },
  {
   "cell_type": "markdown",
   "id": "6848662f",
   "metadata": {},
   "source": [
    "### Linear Regression "
   ]
  },
  {
   "cell_type": "code",
   "execution_count": null,
   "id": "c1c6c340",
   "metadata": {},
   "outputs": [],
   "source": [
    "import torch\n",
    "from torch import nn\n",
    "\n",
    "# build linear model\n",
    "class LinearRegression(nn.Module):\n",
    "\n",
    "    def __init__(self):\n",
    "        super(LinearRegression, self).__init__()\n",
    "        self.linear = nn.Linear(num_feat, (grid[0]-1)*grid[1]+(grid[1]-1)*grid[0])\n",
    "\n",
    "    def forward(self, x):\n",
    "        out = self.linear(x)\n",
    "        return out"
   ]
  },
  {
   "cell_type": "markdown",
   "id": "8d891104",
   "metadata": {},
   "source": [
    "### Plot"
   ]
  },
  {
   "cell_type": "code",
   "execution_count": null,
   "id": "5be4f8d7",
   "metadata": {},
   "outputs": [],
   "source": [
    "from matplotlib import pyplot as plt\n",
    "import tol_colors as tc\n",
    "\n",
    "def plot(grids, elapsed_grb, elapsed_clb, elapsed_nnls, title):\n",
    "    sizes = [g[0] for g in grids]\n",
    "    # color map\n",
    "    cset =  tc.tol_cset('light')\n",
    "    fig = plt.figure(figsize=(16,8))\n",
    "    plt.plot(sizes, elapsed_grb, marker=\"o\", linestyle=\"--\", markersize=10, lw=5, color=cset.orange, label=\"Gurobi\")\n",
    "    plt.plot(sizes, elapsed_clb, marker=\"o\", linestyle=\"--\", markersize=10, lw=5, color=cset.light_blue, label=\"Clarabel\")\n",
    "    plt.plot(sizes, elapsed_nnls, marker=\"o\", linestyle=\"--\", markersize=10, lw=5, color=cset.mint, label=\"NNLS\")\n",
    "    plt.xlabel(\"Size of Grid\", fontsize=36)\n",
    "    plt.ylabel(\"Runtime per Epoch (Sec)\", fontsize=36)\n",
    "    plt.xticks(ticks=[\"{}×{}\".format(g[0], g[1]) for g in grids], fontsize=22)\n",
    "    plt.yticks(fontsize=28)\n",
    "    plt.legend(fontsize=32)\n",
    "    plt.title(title, fontsize=36)\n",
    "    plt.show()"
   ]
  },
  {
   "cell_type": "markdown",
   "id": "b6d3fd00",
   "metadata": {},
   "source": [
    "### Training "
   ]
  },
  {
   "cell_type": "code",
   "execution_count": null,
   "id": "476e56ef",
   "metadata": {},
   "outputs": [],
   "source": [
    "import copy\n",
    "import time\n",
    "from tqdm import tqdm\n",
    "\n",
    "from pyepo.model.grb import shortestPathModel\n",
    "\n",
    "from func import exactConeAlignedCosine\n",
    "\n",
    "def pipeline():\n",
    "    elapsed_grb, elapsed_clb, elapsed_nnls = [], [], []\n",
    "    for grid in grids:\n",
    "        # set random seed\n",
    "        np.random.seed(42)\n",
    "        torch.manual_seed(42)\n",
    "        # set solver\n",
    "        optmodel = shortestPathModel(grid)\n",
    "        # init predictor\n",
    "        reg = LinearRegression(grid)\n",
    "        # get dataloader\n",
    "        dataloader = getDataLoader(grid)\n",
    "        # gurobi\n",
    "        time.sleep(1)\n",
    "        print(\"Gurobi:\")\n",
    "        elapsed = trainingProcess(reg, optmodel, \"gurobi\", dataloader)\n",
    "        elapsed_grb.append(elapsed)\n",
    "        # clarabel\n",
    "        time.sleep(1)\n",
    "        print(\"Clarabel:\")\n",
    "        elapsed = trainingProcess(reg, optmodel, \"clarabel\", dataloader)\n",
    "        elapsed_clb.append(elapsed)\n",
    "        # nnls\n",
    "        time.sleep(1)\n",
    "        print(\"NNLS:\")\n",
    "        elapsed = trainingProcess(reg, optmodel, \"nnls\", dataloader)\n",
    "        elapsed_nnls.append(elapsed)\n",
    "    return elapsed_grb, elapsed_clb, elapsed_nnls\n",
    "\n",
    "\n",
    "def trainingProcess(reg, optmodel, solver, dataloader):\n",
    "    # copy predictor\n",
    "    reg = copy.deepcopy(reg)\n",
    "    # init loss\n",
    "    ca_cos = exactConeAlignedCosine(optmodel, solver=solver)\n",
    "    # train\n",
    "    elapsed = train(reg, ca_cos, dataloader)\n",
    "    return elapsed\n",
    "\n",
    "        \n",
    "def train(reg, loss_func, dataloader):\n",
    "    # set optimizer\n",
    "    optimizer = torch.optim.Adam(reg.parameters(), lr=5e-2)\n",
    "    # training\n",
    "    tbar = tqdm(dataloader)\n",
    "    tick = time.time()\n",
    "    for data in tbar:\n",
    "        # forward pass\n",
    "        x, _, _, t_ctr = data\n",
    "        # predict\n",
    "        cp = reg(x)\n",
    "        # loss\n",
    "        loss = loss_func(cp, t_ctr)\n",
    "        # backward pass\n",
    "        optimizer.zero_grad()\n",
    "        loss.backward()\n",
    "        optimizer.step()\n",
    "        tbar.set_description(\"Loss: {:8.4f}\".format(loss.item()))\n",
    "    # record time\n",
    "    tock = time.time()\n",
    "    elapsed = tock - tick\n",
    "    return elapsed"
   ]
  },
  {
   "cell_type": "code",
   "execution_count": null,
   "id": "2677304c",
   "metadata": {},
   "outputs": [],
   "source": [
    "elapsed_grb, elapsed_clb, elapsed_nnls = pipeline(reg, optmodel, loader_train)"
   ]
  },
  {
   "cell_type": "code",
   "execution_count": null,
   "id": "de9e96cb",
   "metadata": {},
   "outputs": [],
   "source": [
    "plot(sizes, elapsed_grb, elapsed_clb, elapsed_nnls, \"Shortest Path\")"
   ]
  },
  {
   "cell_type": "code",
   "execution_count": null,
   "id": "c065502e",
   "metadata": {},
   "outputs": [],
   "source": []
  }
 ],
 "metadata": {
  "colab": {
   "provenance": []
  },
  "kernelspec": {
   "display_name": "Python 3 (ipykernel)",
   "language": "python",
   "name": "python3"
  },
  "language_info": {
   "codemirror_mode": {
    "name": "ipython",
    "version": 3
   },
   "file_extension": ".py",
   "mimetype": "text/x-python",
   "name": "python",
   "nbconvert_exporter": "python",
   "pygments_lexer": "ipython3",
   "version": "3.9.18"
  }
 },
 "nbformat": 4,
 "nbformat_minor": 5
}
