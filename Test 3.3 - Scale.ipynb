{
 "cells": [
  {
   "cell_type": "code",
   "execution_count": 1,
   "id": "49b5424e",
   "metadata": {
    "colab": {
     "base_uri": "https://localhost:8080/"
    },
    "id": "49b5424e",
    "outputId": "7ccfabbc-196d-4963-d0af-901eff1e872b"
   },
   "outputs": [
    {
     "name": "stdout",
     "output_type": "stream",
     "text": [
      "Auto-Sklearn cannot be imported.\n"
     ]
    }
   ],
   "source": [
    "import numpy as np\n",
    "import torch\n",
    "import pyepo"
   ]
  },
  {
   "cell_type": "markdown",
   "id": "b9394215",
   "metadata": {},
   "source": [
    "### Number of Cores "
   ]
  },
  {
   "cell_type": "code",
   "execution_count": 2,
   "id": "30c6795b",
   "metadata": {},
   "outputs": [],
   "source": [
    "# number of cores\n",
    "grids = [(4,4), (6,6), (8,8), (10,10), (12,12), (14,14), (16,16), (18,18), (20,20)]"
   ]
  },
  {
   "cell_type": "markdown",
   "id": "afbe6347",
   "metadata": {},
   "source": [
    "### Data "
   ]
  },
  {
   "cell_type": "code",
   "execution_count": 3,
   "id": "a7bc5eb9",
   "metadata": {},
   "outputs": [],
   "source": [
    "num_data = 1000 # number of training data\n",
    "num_feat = 5 # size of feature\n",
    "deg = 4 # polynomial degree\n",
    "e = 0.5 # noise width"
   ]
  },
  {
   "cell_type": "code",
   "execution_count": 4,
   "id": "1f502521",
   "metadata": {},
   "outputs": [],
   "source": [
    "from dataset import optDatasetConstrs\n",
    "from torch.utils.data import DataLoader\n",
    "\n",
    "def getDataLoader(optmodel):\n",
    "    # generate data\n",
    "    feats, costs = pyepo.data.shortestpath.genData(num_data, num_feat, optmodel.grid, deg, e, seed=42)\n",
    "    # create dataset\n",
    "    dataset = optDatasetConstrs(optmodel, feats, costs=costs)\n",
    "    # get data loader\n",
    "    batch_size = 32\n",
    "    dataloader = DataLoader(dataset, batch_size=batch_size, shuffle=True)\n",
    "    return dataloader"
   ]
  },
  {
   "cell_type": "markdown",
   "id": "6848662f",
   "metadata": {},
   "source": [
    "### Linear Regression "
   ]
  },
  {
   "cell_type": "code",
   "execution_count": 5,
   "id": "c1c6c340",
   "metadata": {},
   "outputs": [],
   "source": [
    "import torch\n",
    "from torch import nn\n",
    "\n",
    "# build linear model\n",
    "class LinearRegression(nn.Module):\n",
    "\n",
    "    def __init__(self, grid):\n",
    "        super(LinearRegression, self).__init__()\n",
    "        self.linear = nn.Linear(num_feat, (grid[0]-1)*grid[1]+(grid[1]-1)*grid[0])\n",
    "\n",
    "    def forward(self, x):\n",
    "        out = self.linear(x)\n",
    "        return out"
   ]
  },
  {
   "cell_type": "markdown",
   "id": "8d891104",
   "metadata": {},
   "source": [
    "### Plot"
   ]
  },
  {
   "cell_type": "code",
   "execution_count": 6,
   "id": "5be4f8d7",
   "metadata": {},
   "outputs": [],
   "source": [
    "from matplotlib import pyplot as plt\n",
    "import tol_colors as tc\n",
    "\n",
    "def plot(grids, elapsed_grb, elapsed_clb, elapsed_nnls, title):\n",
    "    sizes = [g[0] for g in grids]\n",
    "    # color map\n",
    "    cset =  tc.tol_cset('light')\n",
    "    fig = plt.figure(figsize=(16,8))\n",
    "    plt.plot(sizes, elapsed_grb, marker=\"o\", linestyle=\"--\", markersize=10, lw=5, color=cset.orange, label=\"Gurobi\")\n",
    "    plt.plot(sizes, elapsed_clb, marker=\"o\", linestyle=\"--\", markersize=10, lw=5, color=cset.light_blue, label=\"Clarabel\")\n",
    "    plt.plot(sizes, elapsed_nnls, marker=\"o\", linestyle=\"--\", markersize=10, lw=5, color=cset.mint, label=\"NNLS\")\n",
    "    plt.xlabel(\"Size of Grid\", fontsize=36)\n",
    "    plt.ylabel(\"Runtime per Epoch (Sec)\", fontsize=36)\n",
    "    plt.ylim(0, 200)\n",
    "    plt.xticks(ticks=sizes, labels=[\"{}×{}\".format(g[0], g[1]) for g in grids], fontsize=22)\n",
    "    plt.yticks(fontsize=28)\n",
    "    plt.legend(fontsize=32)\n",
    "    plt.title(title, fontsize=36)\n",
    "    plt.show()"
   ]
  },
  {
   "cell_type": "markdown",
   "id": "b6d3fd00",
   "metadata": {},
   "source": [
    "### Training "
   ]
  },
  {
   "cell_type": "code",
   "execution_count": 7,
   "id": "476e56ef",
   "metadata": {},
   "outputs": [
    {
     "name": "stdout",
     "output_type": "stream",
     "text": [
      "(CVXPY) Nov 23 06:33:44 PM: Encountered unexpected exception importing solver OSQP:\n",
      "ImportError('DLL load failed while importing qdldl: The specified module could not be found.')\n"
     ]
    }
   ],
   "source": [
    "import copy\n",
    "import time\n",
    "from tqdm import tqdm\n",
    "\n",
    "from pyepo.model.grb import shortestPathModel\n",
    "\n",
    "from func import exactConeAlignedCosine\n",
    "\n",
    "def pipeline():\n",
    "    elapsed_grb, elapsed_clb, elapsed_nnls = [], [], []\n",
    "    for grid in grids:\n",
    "        print(\"Grid Size: {}×{}\".format(grid[0], grid[1]))\n",
    "        # set random seed\n",
    "        np.random.seed(42)\n",
    "        torch.manual_seed(42)\n",
    "        # set solver\n",
    "        optmodel = shortestPathModel(grid)\n",
    "        # init predictor\n",
    "        reg = LinearRegression(grid)\n",
    "        # get dataloader\n",
    "        dataloader = getDataLoader(optmodel)\n",
    "        # gurobi\n",
    "        time.sleep(1)\n",
    "        print(\"Gurobi:\")\n",
    "        elapsed = trainingProcess(reg, optmodel, \"gurobi\", dataloader)\n",
    "        elapsed_grb.append(elapsed)\n",
    "        # clarabel\n",
    "        time.sleep(1)\n",
    "        print(\"Clarabel:\")\n",
    "        elapsed = trainingProcess(reg, optmodel, \"clarabel\", dataloader)\n",
    "        elapsed_clb.append(elapsed)\n",
    "        # nnls\n",
    "        time.sleep(1)\n",
    "        print(\"NNLS:\")\n",
    "        elapsed = trainingProcess(reg, optmodel, \"nnls\", dataloader)\n",
    "        elapsed_nnls.append(elapsed)\n",
    "        print()\n",
    "    return elapsed_grb, elapsed_clb, elapsed_nnls\n",
    "\n",
    "\n",
    "def trainingProcess(reg, optmodel, solver, dataloader):\n",
    "    # copy predictor\n",
    "    reg = copy.deepcopy(reg)\n",
    "    # init loss\n",
    "    ca_cos = exactConeAlignedCosine(optmodel, solver=solver)\n",
    "    # train\n",
    "    elapsed = train(reg, ca_cos, dataloader)\n",
    "    return elapsed\n",
    "\n",
    "        \n",
    "def train(reg, loss_func, dataloader):\n",
    "    # set optimizer\n",
    "    optimizer = torch.optim.Adam(reg.parameters(), lr=5e-2)\n",
    "    # training\n",
    "    tbar = tqdm(dataloader)\n",
    "    tick = time.time()\n",
    "    for data in tbar:\n",
    "        # forward pass\n",
    "        x, _, _, t_ctr = data\n",
    "        # predict\n",
    "        cp = reg(x)\n",
    "        # loss\n",
    "        loss = loss_func(cp, t_ctr)\n",
    "        # backward pass\n",
    "        optimizer.zero_grad()\n",
    "        loss.backward()\n",
    "        optimizer.step()\n",
    "        tbar.set_description(\"Loss: {:8.4f}\".format(loss.item()))\n",
    "    # record time\n",
    "    tock = time.time()\n",
    "    elapsed = tock - tick\n",
    "    return elapsed"
   ]
  },
  {
   "cell_type": "code",
   "execution_count": 8,
   "id": "2677304c",
   "metadata": {
    "scrolled": false
   },
   "outputs": [
    {
     "name": "stdout",
     "output_type": "stream",
     "text": [
      "Grid Size: 4×4\n",
      "Set parameter Username\n",
      "Academic license - for non-commercial use only - expires 2024-01-01\n",
      "Optimizing for optDataset...\n"
     ]
    },
    {
     "name": "stderr",
     "output_type": "stream",
     "text": [
      "100%|█████████████████████████████████████████████████████████████████████████████| 1000/1000 [00:01<00:00, 808.95it/s]\n"
     ]
    },
    {
     "name": "stdout",
     "output_type": "stream",
     "text": [
      "Gurobi:\n",
      "Num of cores: 1\n"
     ]
    },
    {
     "name": "stderr",
     "output_type": "stream",
     "text": [
      "Loss:  -0.9988: 100%|██████████████████████████████████████████████████████████████████| 32/32 [00:05<00:00,  5.56it/s]\n"
     ]
    },
    {
     "name": "stdout",
     "output_type": "stream",
     "text": [
      "Clarabel:\n",
      "Num of cores: 1\n"
     ]
    },
    {
     "name": "stderr",
     "output_type": "stream",
     "text": [
      "Loss:  -0.9979: 100%|██████████████████████████████████████████████████████████████████| 32/32 [00:05<00:00,  5.51it/s]\n"
     ]
    },
    {
     "name": "stdout",
     "output_type": "stream",
     "text": [
      "NNLS:\n",
      "Num of cores: 1\n"
     ]
    },
    {
     "name": "stderr",
     "output_type": "stream",
     "text": [
      "Loss:  -0.9986: 100%|█████████████████████████████████████████████████████████████████| 32/32 [00:00<00:00, 159.28it/s]\n"
     ]
    },
    {
     "name": "stdout",
     "output_type": "stream",
     "text": [
      "\n",
      "Grid Size: 6×6\n",
      "Optimizing for optDataset...\n"
     ]
    },
    {
     "name": "stderr",
     "output_type": "stream",
     "text": [
      "100%|█████████████████████████████████████████████████████████████████████████████| 1000/1000 [00:03<00:00, 281.66it/s]\n"
     ]
    },
    {
     "name": "stdout",
     "output_type": "stream",
     "text": [
      "Gurobi:\n",
      "Num of cores: 1\n"
     ]
    },
    {
     "name": "stderr",
     "output_type": "stream",
     "text": [
      "Loss:  -0.9982: 100%|██████████████████████████████████████████████████████████████████| 32/32 [00:06<00:00,  4.71it/s]\n"
     ]
    },
    {
     "name": "stdout",
     "output_type": "stream",
     "text": [
      "Clarabel:\n",
      "Num of cores: 1\n"
     ]
    },
    {
     "name": "stderr",
     "output_type": "stream",
     "text": [
      "Loss:  -0.9996: 100%|██████████████████████████████████████████████████████████████████| 32/32 [00:06<00:00,  4.90it/s]\n"
     ]
    },
    {
     "name": "stdout",
     "output_type": "stream",
     "text": [
      "NNLS:\n",
      "Num of cores: 1\n"
     ]
    },
    {
     "name": "stderr",
     "output_type": "stream",
     "text": [
      "Loss:  -0.9987: 100%|██████████████████████████████████████████████████████████████████| 32/32 [00:00<00:00, 43.19it/s]\n"
     ]
    },
    {
     "name": "stdout",
     "output_type": "stream",
     "text": [
      "\n",
      "Grid Size: 8×8\n",
      "Optimizing for optDataset...\n"
     ]
    },
    {
     "name": "stderr",
     "output_type": "stream",
     "text": [
      "100%|█████████████████████████████████████████████████████████████████████████████| 1000/1000 [00:08<00:00, 111.63it/s]\n"
     ]
    },
    {
     "name": "stdout",
     "output_type": "stream",
     "text": [
      "Gurobi:\n",
      "Num of cores: 1\n"
     ]
    },
    {
     "name": "stderr",
     "output_type": "stream",
     "text": [
      "Loss:  -0.9991: 100%|██████████████████████████████████████████████████████████████████| 32/32 [00:09<00:00,  3.33it/s]\n"
     ]
    },
    {
     "name": "stdout",
     "output_type": "stream",
     "text": [
      "Clarabel:\n",
      "Num of cores: 1\n"
     ]
    },
    {
     "name": "stderr",
     "output_type": "stream",
     "text": [
      "Loss:  -0.9996: 100%|██████████████████████████████████████████████████████████████████| 32/32 [00:07<00:00,  4.25it/s]\n"
     ]
    },
    {
     "name": "stdout",
     "output_type": "stream",
     "text": [
      "NNLS:\n",
      "Num of cores: 1\n"
     ]
    },
    {
     "name": "stderr",
     "output_type": "stream",
     "text": [
      "Loss:  -0.9989: 100%|██████████████████████████████████████████████████████████████████| 32/32 [00:03<00:00,  8.29it/s]\n"
     ]
    },
    {
     "name": "stdout",
     "output_type": "stream",
     "text": [
      "\n",
      "Grid Size: 10×10\n",
      "Optimizing for optDataset...\n"
     ]
    },
    {
     "name": "stderr",
     "output_type": "stream",
     "text": [
      "100%|██████████████████████████████████████████████████████████████████████████████| 1000/1000 [00:21<00:00, 46.39it/s]\n"
     ]
    },
    {
     "name": "stdout",
     "output_type": "stream",
     "text": [
      "Gurobi:\n",
      "Num of cores: 1\n"
     ]
    },
    {
     "name": "stderr",
     "output_type": "stream",
     "text": [
      "Loss:  -0.9996: 100%|██████████████████████████████████████████████████████████████████| 32/32 [00:14<00:00,  2.22it/s]\n"
     ]
    },
    {
     "name": "stdout",
     "output_type": "stream",
     "text": [
      "Clarabel:\n",
      "Num of cores: 1\n"
     ]
    },
    {
     "name": "stderr",
     "output_type": "stream",
     "text": [
      "Loss:  -0.9991: 100%|██████████████████████████████████████████████████████████████████| 32/32 [00:09<00:00,  3.41it/s]\n"
     ]
    },
    {
     "name": "stdout",
     "output_type": "stream",
     "text": [
      "NNLS:\n",
      "Num of cores: 1\n"
     ]
    },
    {
     "name": "stderr",
     "output_type": "stream",
     "text": [
      "Loss:  -0.9994: 100%|██████████████████████████████████████████████████████████████████| 32/32 [00:14<00:00,  2.25it/s]\n"
     ]
    },
    {
     "name": "stdout",
     "output_type": "stream",
     "text": [
      "\n",
      "Grid Size: 12×12\n",
      "Optimizing for optDataset...\n"
     ]
    },
    {
     "name": "stderr",
     "output_type": "stream",
     "text": [
      "100%|██████████████████████████████████████████████████████████████████████████████| 1000/1000 [00:35<00:00, 28.19it/s]\n"
     ]
    },
    {
     "name": "stdout",
     "output_type": "stream",
     "text": [
      "Gurobi:\n",
      "Num of cores: 1\n"
     ]
    },
    {
     "name": "stderr",
     "output_type": "stream",
     "text": [
      "Loss:  -0.9994: 100%|██████████████████████████████████████████████████████████████████| 32/32 [00:19<00:00,  1.68it/s]\n"
     ]
    },
    {
     "name": "stdout",
     "output_type": "stream",
     "text": [
      "Clarabel:\n",
      "Num of cores: 1\n"
     ]
    },
    {
     "name": "stderr",
     "output_type": "stream",
     "text": [
      "Loss:  -0.9995: 100%|██████████████████████████████████████████████████████████████████| 32/32 [00:12<00:00,  2.53it/s]\n"
     ]
    },
    {
     "name": "stdout",
     "output_type": "stream",
     "text": [
      "NNLS:\n",
      "Num of cores: 1\n"
     ]
    },
    {
     "name": "stderr",
     "output_type": "stream",
     "text": [
      "Loss:  -0.9996: 100%|██████████████████████████████████████████████████████████████████| 32/32 [00:45<00:00,  1.44s/it]\n"
     ]
    },
    {
     "name": "stdout",
     "output_type": "stream",
     "text": [
      "\n",
      "Grid Size: 14×14\n",
      "Optimizing for optDataset...\n"
     ]
    },
    {
     "name": "stderr",
     "output_type": "stream",
     "text": [
      "100%|██████████████████████████████████████████████████████████████████████████████| 1000/1000 [01:02<00:00, 16.07it/s]\n"
     ]
    },
    {
     "name": "stdout",
     "output_type": "stream",
     "text": [
      "Gurobi:\n",
      "Num of cores: 1\n"
     ]
    },
    {
     "name": "stderr",
     "output_type": "stream",
     "text": [
      "Loss:  -0.9996: 100%|██████████████████████████████████████████████████████████████████| 32/32 [00:29<00:00,  1.08it/s]\n"
     ]
    },
    {
     "name": "stdout",
     "output_type": "stream",
     "text": [
      "Clarabel:\n",
      "Num of cores: 1\n"
     ]
    },
    {
     "name": "stderr",
     "output_type": "stream",
     "text": [
      "Loss:  -0.9996: 100%|██████████████████████████████████████████████████████████████████| 32/32 [00:16<00:00,  1.96it/s]\n"
     ]
    },
    {
     "name": "stdout",
     "output_type": "stream",
     "text": [
      "NNLS:\n",
      "Num of cores: 1\n"
     ]
    },
    {
     "name": "stderr",
     "output_type": "stream",
     "text": [
      "Loss:  -0.9995: 100%|██████████████████████████████████████████████████████████████████| 32/32 [01:55<00:00,  3.62s/it]\n"
     ]
    },
    {
     "name": "stdout",
     "output_type": "stream",
     "text": [
      "\n",
      "Grid Size: 16×16\n",
      "Optimizing for optDataset...\n"
     ]
    },
    {
     "name": "stderr",
     "output_type": "stream",
     "text": [
      "100%|██████████████████████████████████████████████████████████████████████████████| 1000/1000 [01:46<00:00,  9.37it/s]\n"
     ]
    },
    {
     "name": "stdout",
     "output_type": "stream",
     "text": [
      "Gurobi:\n",
      "Num of cores: 1\n"
     ]
    },
    {
     "name": "stderr",
     "output_type": "stream",
     "text": [
      "Loss:  -0.9994: 100%|██████████████████████████████████████████████████████████████████| 32/32 [00:36<00:00,  1.14s/it]\n"
     ]
    },
    {
     "name": "stdout",
     "output_type": "stream",
     "text": [
      "Clarabel:\n",
      "Num of cores: 1\n"
     ]
    },
    {
     "name": "stderr",
     "output_type": "stream",
     "text": [
      "Loss:  -0.9995: 100%|██████████████████████████████████████████████████████████████████| 32/32 [00:20<00:00,  1.53it/s]\n"
     ]
    },
    {
     "name": "stdout",
     "output_type": "stream",
     "text": [
      "NNLS:\n",
      "Num of cores: 1\n"
     ]
    },
    {
     "name": "stderr",
     "output_type": "stream",
     "text": [
      "Loss:  -0.9997: 100%|██████████████████████████████████████████████████████████████████| 32/32 [04:26<00:00,  8.34s/it]\n"
     ]
    },
    {
     "name": "stdout",
     "output_type": "stream",
     "text": [
      "\n",
      "Grid Size: 18×18\n",
      "Optimizing for optDataset...\n"
     ]
    },
    {
     "name": "stderr",
     "output_type": "stream",
     "text": [
      "100%|██████████████████████████████████████████████████████████████████████████████| 1000/1000 [02:59<00:00,  5.58it/s]\n"
     ]
    },
    {
     "name": "stdout",
     "output_type": "stream",
     "text": [
      "Gurobi:\n",
      "Num of cores: 1\n"
     ]
    },
    {
     "name": "stderr",
     "output_type": "stream",
     "text": [
      "Loss:  -0.9997: 100%|██████████████████████████████████████████████████████████████████| 32/32 [00:50<00:00,  1.57s/it]\n"
     ]
    },
    {
     "name": "stdout",
     "output_type": "stream",
     "text": [
      "Clarabel:\n",
      "Num of cores: 1\n"
     ]
    },
    {
     "name": "stderr",
     "output_type": "stream",
     "text": [
      "Loss:  -0.9995: 100%|██████████████████████████████████████████████████████████████████| 32/32 [00:28<00:00,  1.12it/s]\n"
     ]
    },
    {
     "name": "stdout",
     "output_type": "stream",
     "text": [
      "NNLS:\n",
      "Num of cores: 1\n"
     ]
    },
    {
     "name": "stderr",
     "output_type": "stream",
     "text": [
      "Loss:  -0.9993: 100%|██████████████████████████████████████████████████████████████████| 32/32 [09:12<00:00, 17.28s/it]\n"
     ]
    },
    {
     "name": "stdout",
     "output_type": "stream",
     "text": [
      "\n",
      "Grid Size: 20×20\n",
      "Optimizing for optDataset...\n"
     ]
    },
    {
     "name": "stderr",
     "output_type": "stream",
     "text": [
      "100%|██████████████████████████████████████████████████████████████████████████████| 1000/1000 [04:28<00:00,  3.72it/s]\n"
     ]
    },
    {
     "name": "stdout",
     "output_type": "stream",
     "text": [
      "Gurobi:\n",
      "Num of cores: 1\n"
     ]
    },
    {
     "name": "stderr",
     "output_type": "stream",
     "text": [
      "Loss:  -0.9997: 100%|██████████████████████████████████████████████████████████████████| 32/32 [01:11<00:00,  2.22s/it]\n"
     ]
    },
    {
     "name": "stdout",
     "output_type": "stream",
     "text": [
      "Clarabel:\n",
      "Num of cores: 1\n"
     ]
    },
    {
     "name": "stderr",
     "output_type": "stream",
     "text": [
      "Loss:  -0.9996: 100%|██████████████████████████████████████████████████████████████████| 32/32 [00:38<00:00,  1.20s/it]\n"
     ]
    },
    {
     "name": "stdout",
     "output_type": "stream",
     "text": [
      "NNLS:\n",
      "Num of cores: 1\n"
     ]
    },
    {
     "name": "stderr",
     "output_type": "stream",
     "text": [
      "Loss:  -0.9998: 100%|██████████████████████████████████████████████████████████████████| 32/32 [18:12<00:00, 34.15s/it]\n"
     ]
    },
    {
     "name": "stdout",
     "output_type": "stream",
     "text": [
      "\n"
     ]
    }
   ],
   "source": [
    "elapsed_grb, elapsed_clb, elapsed_nnls = pipeline()"
   ]
  },
  {
   "cell_type": "code",
   "execution_count": 9,
   "id": "de9e96cb",
   "metadata": {},
   "outputs": [
    {
     "data": {
      "image/png": "[encoded data removed]",
      "text/plain": [
       "<Figure size 1600x800 with 1 Axes>"
      ]
     },
     "metadata": {},
     "output_type": "display_data"
    }
   ],
   "source": [
    "plot(grids, elapsed_grb, elapsed_clb, elapsed_nnls, \"Shortest Path\")"
   ]
  },
  {
   "cell_type": "code",
   "execution_count": null,
   "id": "ca90c6b7",
   "metadata": {},
   "outputs": [],
   "source": []
  }
 ],
 "metadata": {
  "colab": {
   "provenance": []
  },
  "kernelspec": {
   "display_name": "Python 3 (ipykernel)",
   "language": "python",
   "name": "python3"
  },
  "language_info": {
   "codemirror_mode": {
    "name": "ipython",
    "version": 3
   },
   "file_extension": ".py",
   "mimetype": "text/x-python",
   "name": "python",
   "nbconvert_exporter": "python",
   "pygments_lexer": "ipython3",
   "version": "3.9.18"
  }
 },
 "nbformat": 4,
 "nbformat_minor": 5
}
