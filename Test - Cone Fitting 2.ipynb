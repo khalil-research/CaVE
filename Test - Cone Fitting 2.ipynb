{
 "cells": [
  {
   "cell_type": "code",
   "execution_count": 1,
   "id": "49b5424e",
   "metadata": {
    "colab": {
     "base_uri": "https://localhost:8080/"
    },
    "id": "49b5424e",
    "outputId": "7ccfabbc-196d-4963-d0af-901eff1e872b"
   },
   "outputs": [
    {
     "name": "stdout",
     "output_type": "stream",
     "text": [
      "Auto-Sklearn cannot be imported.\n"
     ]
    },
    {
     "data": {
      "text/plain": [
       "<torch._C.Generator at 0x7f35440aae70>"
      ]
     },
     "execution_count": 1,
     "metadata": {},
     "output_type": "execute_result"
    }
   ],
   "source": [
    "import numpy as np\n",
    "import torch\n",
    "import pyepo\n",
    "\n",
    "# random seed\n",
    "np.random.seed(42)\n",
    "torch.manual_seed(42)"
   ]
  },
  {
   "cell_type": "markdown",
   "id": "53e5be4e",
   "metadata": {
    "id": "53e5be4e"
   },
   "source": [
    "## Data Set and Optimization Solver"
   ]
  },
  {
   "cell_type": "code",
   "execution_count": 2,
   "id": "00e3bd4d",
   "metadata": {
    "id": "00e3bd4d"
   },
   "outputs": [],
   "source": [
    "# generate data\n",
    "grid = (5,5) # grid size\n",
    "num_data = 100 # number of training data\n",
    "num_feat = 5 # size of feature\n",
    "deg = 4 # polynomial degree\n",
    "e = 0.5 # noise width\n",
    "feats, costs = pyepo.data.shortestpath.genData(num_data+1000, num_feat, grid, deg, e, seed=42)"
   ]
  },
  {
   "cell_type": "code",
   "execution_count": 3,
   "id": "6073c3f4",
   "metadata": {
    "colab": {
     "base_uri": "https://localhost:8080/"
    },
    "id": "6073c3f4",
    "outputId": "e5734002-11c7-44d6-a6ba-006b39d0d4e5"
   },
   "outputs": [
    {
     "name": "stdout",
     "output_type": "stream",
     "text": [
      "Restricted license - for non-production use only - expires 2024-10-28\n",
      "Obj: 4.154238214520472\n",
      "(0, 5)\n",
      "(5, 6)\n",
      "(6, 11)\n",
      "(11, 12)\n",
      "(12, 17)\n",
      "(17, 18)\n",
      "(18, 19)\n",
      "(19, 24)\n"
     ]
    }
   ],
   "source": [
    "from pyepo.model.grb import shortestPathModel\n",
    "# set solver\n",
    "optmodel = shortestPathModel(grid)\n",
    "# test\n",
    "optmodel.setObj(costs[0])\n",
    "sol, obj = optmodel.solve()\n",
    "print(\"Obj: {}\".format(obj))\n",
    "for i, e in enumerate(optmodel.arcs):\n",
    "    if sol[i] > 1e-3:\n",
    "        print(e)"
   ]
  },
  {
   "cell_type": "code",
   "execution_count": 4,
   "id": "976de0c5",
   "metadata": {},
   "outputs": [],
   "source": [
    "# split data\n",
    "from sklearn.model_selection import train_test_split\n",
    "x_train, x_test, c_train, c_test = train_test_split(feats, costs, test_size=1000, random_state=42)"
   ]
  },
  {
   "cell_type": "code",
   "execution_count": 5,
   "id": "ac1e64dd",
   "metadata": {
    "colab": {
     "base_uri": "https://localhost:8080/"
    },
    "id": "ac1e64dd",
    "outputId": "cfa534b0-e50f-4e05-ac72-374fe07eccf6"
   },
   "outputs": [
    {
     "name": "stdout",
     "output_type": "stream",
     "text": [
      "Optimizing for optDataset...\n"
     ]
    },
    {
     "name": "stderr",
     "output_type": "stream",
     "text": [
      "100%|████████████████████████████████████████████████████████████████████████████████| 100/100 [00:00<00:00, 667.31it/s]\n"
     ]
    },
    {
     "name": "stdout",
     "output_type": "stream",
     "text": [
      "Optimizing for optDataset...\n"
     ]
    },
    {
     "name": "stderr",
     "output_type": "stream",
     "text": [
      "100%|█████████████████████████████████████████████████████████████████████████████| 1000/1000 [00:00<00:00, 1268.57it/s]\n"
     ]
    }
   ],
   "source": [
    "from dataset import optDatasetConstrs\n",
    "# get training and test data set\n",
    "dataset_train_cost = optDatasetConstrs(optmodel, x_train, costs=c_train) # with binding constr\n",
    "dataset_test = pyepo.data.dataset.optDataset(optmodel, x_test, costs=c_test) # without binding constr"
   ]
  },
  {
   "cell_type": "code",
   "execution_count": 6,
   "id": "1cfd1c9b",
   "metadata": {},
   "outputs": [
    {
     "name": "stdout",
     "output_type": "stream",
     "text": [
      "Obtaining constraints for optDataset...\n"
     ]
    },
    {
     "name": "stderr",
     "output_type": "stream",
     "text": [
      "100%|███████████████████████████████████████████████████████████████████████████████| 100/100 [00:00<00:00, 1053.13it/s]\n"
     ]
    }
   ],
   "source": [
    "# get training and test data set without costs\n",
    "dataset_train = optDatasetConstrs(optmodel, x_train, sols=dataset_train_cost.sols) # with binding constr"
   ]
  },
  {
   "cell_type": "code",
   "execution_count": 7,
   "id": "77111dd8",
   "metadata": {
    "id": "77111dd8"
   },
   "outputs": [],
   "source": [
    "# get data loader\n",
    "from torch.utils.data import DataLoader\n",
    "batch_size = 32\n",
    "loader_train = DataLoader(dataset_train, batch_size=batch_size, shuffle=True)\n",
    "loader_train_cost = DataLoader(dataset_train_cost, batch_size=batch_size, shuffle=True)\n",
    "loader_test = DataLoader(dataset_test, batch_size=batch_size, shuffle=False)"
   ]
  },
  {
   "cell_type": "markdown",
   "id": "c21a2da3",
   "metadata": {
    "id": "c21a2da3"
   },
   "source": [
    "## Prediction Model"
   ]
  },
  {
   "cell_type": "code",
   "execution_count": 8,
   "id": "49603cb7",
   "metadata": {
    "id": "49603cb7"
   },
   "outputs": [],
   "source": [
    "import torch\n",
    "from torch import nn\n",
    "\n",
    "# build linear model\n",
    "class LinearRegression(nn.Module):\n",
    "\n",
    "    def __init__(self):\n",
    "        super(LinearRegression, self).__init__()\n",
    "        self.linear = nn.Linear(num_feat, (grid[0]-1)*grid[1]+(grid[1]-1)*grid[0])\n",
    "\n",
    "    def forward(self, x):\n",
    "        out = self.linear(x)\n",
    "        return out"
   ]
  },
  {
   "cell_type": "markdown",
   "id": "7dadd8c3",
   "metadata": {},
   "source": [
    "## Plot "
   ]
  },
  {
   "cell_type": "code",
   "execution_count": 9,
   "id": "6359eb70",
   "metadata": {},
   "outputs": [],
   "source": [
    "from matplotlib import pyplot as plt\n",
    "def plot(loss_log, regret_log, num_epochs, log_step):\n",
    "    # draw loss plot for training\n",
    "    plt.figure(figsize=(16, 8))\n",
    "    plt.plot(loss_log, color=\"c\", lw=2)\n",
    "    plt.xticks(fontsize=28)\n",
    "    plt.yticks(fontsize=28)\n",
    "    plt.xlabel(\"Iters\", fontsize=36)\n",
    "    plt.ylabel(\"Loss\", fontsize=36)\n",
    "    plt.title(\"Learning Curve on Training Set\", fontsize=36)\n",
    "    plt.show()\n",
    "    # draw regret plot for test\n",
    "    # draw plot\n",
    "    fig = plt.figure(figsize=(16, 8))\n",
    "    plt.plot(range(0, num_epochs+1, log_step), regret_log, color=\"royalblue\", ls=\"--\", alpha=0.7, lw=5, label=\"Regret\")\n",
    "    plt.xticks(range(0, num_epochs+1, log_step), fontsize=28)\n",
    "    plt.yticks(fontsize=28)\n",
    "    plt.xlabel(\"Epoch\", fontsize=36)\n",
    "    plt.ylabel(\"Regret\", fontsize=36)\n",
    "    plt.title(\"Learning Curve on Test Set\", fontsize=36)\n",
    "    plt.show()"
   ]
  },
  {
   "cell_type": "markdown",
   "id": "f71fb9a6",
   "metadata": {
    "id": "f71fb9a6"
   },
   "source": [
    "## Train"
   ]
  },
  {
   "cell_type": "code",
   "execution_count": 10,
   "id": "c86e509e",
   "metadata": {},
   "outputs": [],
   "source": [
    "import time\n",
    "def train(reg, loss_func, lr, num_epochs, log_step):\n",
    "    # set optimizer\n",
    "    optimizer = torch.optim.Adam(reg.parameters(), lr=lr)\n",
    "    # init log\n",
    "    loss_log, regret_log = [], [pyepo.metric.regret(reg, optmodel, loader_test)]\n",
    "    # running time\n",
    "    elapsed = 0\n",
    "    for epoch in range(num_epochs):\n",
    "        tick = time.time()\n",
    "        for data in loader_train:\n",
    "            x, w, t_ctr = data\n",
    "            # forward pass\n",
    "            cp = reg(x)\n",
    "            loss = loss_func(cp, t_ctr)\n",
    "            # backward pass\n",
    "            optimizer.zero_grad()\n",
    "            loss.backward()\n",
    "            optimizer.step()\n",
    "            loss_log.append(loss.item())\n",
    "        # record time\n",
    "        tock = time.time()\n",
    "        elapsed += tock - tick\n",
    "        if (epoch+1) % log_step == 1:\n",
    "            # regret\n",
    "            regret = pyepo.metric.regret(reg, optmodel, loader_test)\n",
    "            regret_log.append(regret)\n",
    "            print(\"Epoch {:3}, Loss: {:8.4f}, Regret: {:7.4f}%\".format(epoch, loss.item(), regret*100))\n",
    "    print(\"Elapsed Time: {:.2f} Sec\".format(elapsed))\n",
    "    return loss_log, regret_log"
   ]
  },
  {
   "cell_type": "markdown",
   "id": "32879daf",
   "metadata": {},
   "source": [
    "### 2-Stage "
   ]
  },
  {
   "cell_type": "code",
   "execution_count": 11,
   "id": "f8f8e535",
   "metadata": {},
   "outputs": [],
   "source": [
    "# init model\n",
    "reg = LinearRegression()"
   ]
  },
  {
   "cell_type": "code",
   "execution_count": 12,
   "id": "0931cb8c",
   "metadata": {},
   "outputs": [],
   "source": [
    "from torch import nn\n",
    "# init loss\n",
    "mse = nn.MSELoss()"
   ]
  },
  {
   "cell_type": "code",
   "execution_count": null,
   "id": "f36831a5",
   "metadata": {},
   "outputs": [
    {
     "name": "stdout",
     "output_type": "stream",
     "text": [
      "Epoch   0, Loss:   0.9662, Regret: 58.2695%\n",
      "Epoch  20, Loss:   1.3164, Regret: 31.1433%\n",
      "Epoch  40, Loss:   0.1405, Regret: 14.2855%\n",
      "Epoch  60, Loss:   0.1178, Regret: 10.6102%\n",
      "Epoch  80, Loss:   0.2041, Regret:  9.0000%\n"
     ]
    }
   ],
   "source": [
    "lr = 5e-3\n",
    "num_epochs = 200\n",
    "log_step = 20\n",
    "# set optimizer\n",
    "optimizer = torch.optim.Adam(reg.parameters(), lr=lr)\n",
    "# init log\n",
    "loss_log, regret_log = [], [pyepo.metric.regret(reg, optmodel, loader_test)]\n",
    "# running time\n",
    "elapsed = 0\n",
    "for epoch in range(num_epochs):\n",
    "    tick = time.time()\n",
    "    for data in loader_train_cost:\n",
    "        x, c, _, _ = data\n",
    "        # forward pass\n",
    "        cp = reg(x)\n",
    "        loss = mse(cp, c)\n",
    "        # backward pass\n",
    "        optimizer.zero_grad()\n",
    "        loss.backward()\n",
    "        optimizer.step()\n",
    "        loss_log.append(loss.item())\n",
    "    # record time\n",
    "    tock = time.time()\n",
    "    elapsed += tock - tick\n",
    "    if (epoch+1) % log_step == 1:\n",
    "        # regret\n",
    "        regret = pyepo.metric.regret(reg, optmodel, loader_test)\n",
    "        regret_log.append(regret)\n",
    "        print(\"Epoch {:3}, Loss: {:8.4f}, Regret: {:7.4f}%\".format(epoch, loss.item(), regret*100))\n",
    "print(\"Elapsed Time: {:.2f} Sec\".format(elapsed))"
   ]
  },
  {
   "cell_type": "code",
   "execution_count": null,
   "id": "e6a0b547",
   "metadata": {},
   "outputs": [],
   "source": [
    "plot(loss_log, regret_log, num_epochs, log_step)"
   ]
  },
  {
   "cell_type": "markdown",
   "id": "9363243b",
   "metadata": {},
   "source": [
    "### Exact Method "
   ]
  },
  {
   "cell_type": "code",
   "execution_count": null,
   "id": "8dd6a2e2",
   "metadata": {
    "id": "8dd6a2e2"
   },
   "outputs": [],
   "source": [
    "# init model\n",
    "reg = LinearRegression()"
   ]
  },
  {
   "cell_type": "code",
   "execution_count": null,
   "id": "67660513",
   "metadata": {
    "id": "67660513"
   },
   "outputs": [],
   "source": [
    "from func import exactConeAlignedCosine\n",
    "# init loss\n",
    "ca_cos = exactConeAlignedCosine(optmodel)"
   ]
  },
  {
   "cell_type": "code",
   "execution_count": null,
   "id": "8c332205",
   "metadata": {
    "colab": {
     "base_uri": "https://localhost:8080/"
    },
    "id": "8c332205",
    "outputId": "b01697bd-80f7-4f58-eb97-35b5276c0ff1",
    "scrolled": false
   },
   "outputs": [],
   "source": [
    "lr = 5e-3\n",
    "num_epochs = 200\n",
    "log_step = 20\n",
    "loss_log, regret_log = train(reg, ca_cos, lr, num_epochs, log_step)"
   ]
  },
  {
   "cell_type": "code",
   "execution_count": null,
   "id": "dc6ca51c",
   "metadata": {
    "colab": {
     "base_uri": "https://localhost:8080/",
     "height": 648
    },
    "id": "dc6ca51c",
    "outputId": "cb858940-6b51-485d-a90f-a04a9d7a94e5"
   },
   "outputs": [],
   "source": [
    "plot(loss_log, regret_log, num_epochs, log_step)"
   ]
  },
  {
   "cell_type": "markdown",
   "id": "2e24ccef",
   "metadata": {},
   "source": [
    "###  Base Vector Method"
   ]
  },
  {
   "cell_type": "code",
   "execution_count": null,
   "id": "94018084",
   "metadata": {},
   "outputs": [],
   "source": [
    "# init model\n",
    "reg = LinearRegression()"
   ]
  },
  {
   "cell_type": "code",
   "execution_count": null,
   "id": "9074efac",
   "metadata": {},
   "outputs": [],
   "source": [
    "from func import baseVectConeAlignedCosine\n",
    "# init loss\n",
    "ca_cos = baseVectConeAlignedCosine(optmodel)"
   ]
  },
  {
   "cell_type": "code",
   "execution_count": null,
   "id": "f42f4b7d",
   "metadata": {},
   "outputs": [],
   "source": [
    "lr = 5e-3\n",
    "num_epochs = 200\n",
    "log_step = 20\n",
    "loss_log, regret_log = train(reg, ca_cos, lr, num_epochs, log_step)"
   ]
  },
  {
   "cell_type": "code",
   "execution_count": null,
   "id": "67bfc176",
   "metadata": {},
   "outputs": [],
   "source": [
    "plot(loss_log, regret_log, num_epochs, log_step)"
   ]
  },
  {
   "cell_type": "markdown",
   "id": "3c5c0f29",
   "metadata": {
    "id": "adb666a9"
   },
   "source": [
    "### Sampling Method"
   ]
  },
  {
   "cell_type": "code",
   "execution_count": null,
   "id": "c803a8c5",
   "metadata": {},
   "outputs": [],
   "source": [
    "# init model\n",
    "reg = LinearRegression()"
   ]
  },
  {
   "cell_type": "code",
   "execution_count": null,
   "id": "cf6f4b50",
   "metadata": {},
   "outputs": [],
   "source": [
    "from func import samplingConeAlignedCosine\n",
    "# init loss\n",
    "ca_cos = samplingConeAlignedCosine(optmodel, n_samples=100)"
   ]
  },
  {
   "cell_type": "code",
   "execution_count": null,
   "id": "e1d12efd",
   "metadata": {},
   "outputs": [],
   "source": [
    "lr = 5e-3\n",
    "num_epochs = 200\n",
    "log_step = 20\n",
    "loss_log, regret_log = train(reg, ca_cos, lr, num_epochs, log_step)"
   ]
  },
  {
   "cell_type": "code",
   "execution_count": null,
   "id": "620fc442",
   "metadata": {},
   "outputs": [],
   "source": [
    "plot(loss_log, regret_log, num_epochs, log_step)"
   ]
  },
  {
   "cell_type": "markdown",
   "id": "26f5d9ae",
   "metadata": {},
   "source": [
    "### PFYL "
   ]
  },
  {
   "cell_type": "code",
   "execution_count": null,
   "id": "8b835f8b",
   "metadata": {},
   "outputs": [],
   "source": [
    "# init model\n",
    "reg = LinearRegression()"
   ]
  },
  {
   "cell_type": "code",
   "execution_count": null,
   "id": "cf9056a4",
   "metadata": {},
   "outputs": [],
   "source": [
    "from pyepo.func import perturbedFenchelYoung\n",
    "# init pfyl loss\n",
    "pfy = perturbedFenchelYoung(optmodel, n_samples=3, sigma=1.0)"
   ]
  },
  {
   "cell_type": "code",
   "execution_count": null,
   "id": "b590622a",
   "metadata": {},
   "outputs": [],
   "source": [
    "lr = 5e-3\n",
    "num_epochs = 200\n",
    "log_step = 20\n",
    "# set optimizer\n",
    "optimizer = torch.optim.Adam(reg.parameters(), lr=lr)\n",
    "# init log\n",
    "loss_log, regret_log = [], [pyepo.metric.regret(reg, optmodel, loader_test)]\n",
    "# running time\n",
    "elapsed = 0\n",
    "for epoch in range(num_epochs):\n",
    "    tick = time.time()\n",
    "    for data in loader_train:\n",
    "        x, w, t_ctr = data\n",
    "        # forward pass\n",
    "        cp = reg(x)\n",
    "        loss = pfy(cp, w)\n",
    "        # backward pass\n",
    "        optimizer.zero_grad()\n",
    "        loss.backward()\n",
    "        optimizer.step()\n",
    "        loss_log.append(loss.item())\n",
    "    # record time\n",
    "    tock = time.time()\n",
    "    elapsed += tock - tick\n",
    "    if (epoch+1) % log_step == 1:\n",
    "        # regret\n",
    "        regret = pyepo.metric.regret(reg, optmodel, loader_test)\n",
    "        regret_log.append(regret)\n",
    "        print(\"Epoch {:3}, Loss: {:8.4f}, Regret: {:7.4f}%\".format(epoch, loss.item(), regret*100))\n",
    "print(\"Elapsed Time: {:.2f} Sec\".format(elapsed))"
   ]
  },
  {
   "cell_type": "code",
   "execution_count": null,
   "id": "785bde6b",
   "metadata": {},
   "outputs": [],
   "source": [
    "plot(loss_log, regret_log, num_epochs, log_step)"
   ]
  },
  {
   "cell_type": "code",
   "execution_count": null,
   "id": "06d2b604",
   "metadata": {},
   "outputs": [],
   "source": []
  }
 ],
 "metadata": {
  "colab": {
   "provenance": []
  },
  "kernelspec": {
   "display_name": "Python 3 (ipykernel)",
   "language": "python",
   "name": "python3"
  },
  "language_info": {
   "codemirror_mode": {
    "name": "ipython",
    "version": 3
   },
   "file_extension": ".py",
   "mimetype": "text/x-python",
   "name": "python",
   "nbconvert_exporter": "python",
   "pygments_lexer": "ipython3",
   "version": "3.11.5"
  }
 },
 "nbformat": 4,
 "nbformat_minor": 5
}
