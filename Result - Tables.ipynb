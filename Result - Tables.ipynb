{
 "cells": [
  {
   "cell_type": "code",
   "execution_count": 1,
   "id": "de2fc48a",
   "metadata": {},
   "outputs": [],
   "source": [
    "import os\n",
    "import pandas as pd\n",
    "\n",
    "def getTable(prob_name, poly_deg):\n",
    "    # methods\n",
    "    methods = [\"2s\", \"cave\", \"cave+\", \"caveh\", \"spo+\", \"pfyl\", \"nce\"]\n",
    "    # relaxation\n",
    "    if prob_name[:3] == \"tsp\":\n",
    "        methods = [\"2s\", \"cave\", \"cave+\", \"caveh\", \"spo+\", \"spo+_rel\", \"pfyl\", \"pfyl_rel\", \"nce\"]\n",
    "    # init df\n",
    "    summary_df = pd.DataFrame(columns=[\"Method\", \"Avg Train Time\", \"Avg Test Time\", \"Avg Test Regret\"])\n",
    "    for method in methods:\n",
    "        # get path\n",
    "        res_dir = \"./res/{}/n1000deg{}\".format(prob_name, poly_deg)\n",
    "        res_path = res_dir + \"/{}.csv\".format(method)\n",
    "        # check if file exists\n",
    "        if not os.path.exists(res_path):\n",
    "            continue\n",
    "        else:\n",
    "            # load csv\n",
    "            df = pd.read_csv(res_path)\n",
    "            # get average\n",
    "            train_elapsed_avg = df[\"Train Elapsed\"].mean()\n",
    "            test_elapsed_avg = df[\"Test Elapsed\"].mean()\n",
    "            test_regret_avg = df[\"Test Regret\"].mean()\n",
    "            row = {\"Method\": [method], \n",
    "                   \"Avg Train Time\": [train_elapsed_avg], \n",
    "                   \"Avg Test Time\": [test_elapsed_avg], \n",
    "                   \"Avg Test Regret\": [test_regret_avg]}\n",
    "            # check if has node counts\n",
    "            if \"Test Nodes Count\" in df.columns:\n",
    "                test_nodes_count_avg = df[\"Test Nodes Count\"].mean()\n",
    "                row[\"Test B&B Nodes Count\"] = test_nodes_count_avg\n",
    "        # add to df\n",
    "        summary_df = pd.concat([summary_df, pd.DataFrame(row)], ignore_index=True)\n",
    "    # save table\n",
    "    summary_df.to_csv(\"./res/{}_deg{}.csv\".format(prob_name, poly_deg))\n",
    "    return summary_df"
   ]
  },
  {
   "cell_type": "markdown",
   "id": "b01550ef",
   "metadata": {},
   "source": [
    "## SP5 "
   ]
  },
  {
   "cell_type": "markdown",
   "id": "8d01c9ff",
   "metadata": {},
   "source": [
    "### Poly-Degree 4 "
   ]
  },
  {
   "cell_type": "code",
   "execution_count": 2,
   "id": "9c708247",
   "metadata": {},
   "outputs": [
    {
     "name": "stdout",
     "output_type": "stream",
     "text": [
      "  Method  Avg Train Time  Avg Test Time  Avg Test Regret\n",
      "0     2s        1.349937       1.827429         0.088226\n",
      "1   cave        4.692441       1.923372         0.107331\n",
      "2  cave+        3.965728       1.313422         0.083929\n",
      "3  caveh        1.777093       1.348400         0.083511\n",
      "4   spo+       14.161684       1.550452         0.077942\n",
      "5   pfyl       13.648094       1.487887         0.076756\n",
      "6    nce        3.232829       1.520696         0.113413\n"
     ]
    },
    {
     "name": "stderr",
     "output_type": "stream",
     "text": [
      "C:\\Users\\USER\\AppData\\Local\\Temp\\ipykernel_1576\\3170792153.py:35: FutureWarning: The behavior of DataFrame concatenation with empty or all-NA entries is deprecated. In a future version, this will no longer exclude empty or all-NA columns when determining the result dtypes. To retain the old behavior, exclude the relevant entries before the concat operation.\n",
      "  summary_df = pd.concat([summary_df, pd.DataFrame(row)], ignore_index=True)\n"
     ]
    }
   ],
   "source": [
    "df = getTable(prob_name=\"sp5\", poly_deg=4)\n",
    "print(df)"
   ]
  },
  {
   "cell_type": "markdown",
   "id": "fa240bd9",
   "metadata": {},
   "source": [
    "### Poly-Degree 6"
   ]
  },
  {
   "cell_type": "code",
   "execution_count": 3,
   "id": "dcb8b249",
   "metadata": {},
   "outputs": [
    {
     "name": "stdout",
     "output_type": "stream",
     "text": [
      "  Method  Avg Train Time  Avg Test Time  Avg Test Regret\n",
      "0     2s        1.341291       2.003677         0.125818\n",
      "1   cave        4.593991       1.934952         0.113018\n",
      "2  cave+        4.741449       1.835985         0.088902\n",
      "3  caveh        2.121561       1.507180         0.088370\n",
      "4   spo+       14.006428       1.462159         0.077245\n",
      "5   pfyl       11.991235       1.267238         0.078584\n",
      "6    nce        2.874843       1.409632         0.137844\n"
     ]
    },
    {
     "name": "stderr",
     "output_type": "stream",
     "text": [
      "C:\\Users\\USER\\AppData\\Local\\Temp\\ipykernel_1576\\3170792153.py:35: FutureWarning: The behavior of DataFrame concatenation with empty or all-NA entries is deprecated. In a future version, this will no longer exclude empty or all-NA columns when determining the result dtypes. To retain the old behavior, exclude the relevant entries before the concat operation.\n",
      "  summary_df = pd.concat([summary_df, pd.DataFrame(row)], ignore_index=True)\n"
     ]
    }
   ],
   "source": [
    "df = getTable(prob_name=\"sp5\", poly_deg=6)\n",
    "print(df)"
   ]
  },
  {
   "cell_type": "markdown",
   "id": "644a0f9c",
   "metadata": {},
   "source": [
    "## TSP20 "
   ]
  },
  {
   "cell_type": "markdown",
   "id": "1349a928",
   "metadata": {},
   "source": [
    "### Poly-Degree 4 "
   ]
  },
  {
   "cell_type": "code",
   "execution_count": 4,
   "id": "ba2d164e",
   "metadata": {},
   "outputs": [
    {
     "name": "stdout",
     "output_type": "stream",
     "text": [
      "     Method  Avg Train Time  Avg Test Time  Avg Test Regret  \\\n",
      "0        2s        1.633121      19.274187         0.121242   \n",
      "1      cave      124.377319      19.009663         0.073497   \n",
      "2     cave+      102.567480      18.986046         0.061976   \n",
      "3     caveh       31.978454      18.471683         0.076889   \n",
      "4      spo+      184.880874      17.772092         0.059474   \n",
      "5  spo+_rel       50.379667      18.276479         0.077492   \n",
      "6      pfyl      206.027696      21.251204         0.065610   \n",
      "7  pfyl_rel       54.908346      18.847155         0.091514   \n",
      "8       nce       29.446966      23.395634         0.122067   \n",
      "\n",
      "   Test B&B Nodes Count  \n",
      "0                1.0023  \n",
      "1                1.0035  \n",
      "2                1.0043  \n",
      "3                1.0023  \n",
      "4                1.0034  \n",
      "5                1.0036  \n",
      "6                1.0019  \n",
      "7                1.0046  \n",
      "8                   NaN  \n"
     ]
    },
    {
     "name": "stderr",
     "output_type": "stream",
     "text": [
      "C:\\Users\\USER\\AppData\\Local\\Temp\\ipykernel_1576\\3170792153.py:35: FutureWarning: The behavior of DataFrame concatenation with empty or all-NA entries is deprecated. In a future version, this will no longer exclude empty or all-NA columns when determining the result dtypes. To retain the old behavior, exclude the relevant entries before the concat operation.\n",
      "  summary_df = pd.concat([summary_df, pd.DataFrame(row)], ignore_index=True)\n"
     ]
    }
   ],
   "source": [
    "df = getTable(prob_name=\"tsp20\", poly_deg=4)\n",
    "print(df)"
   ]
  },
  {
   "cell_type": "markdown",
   "id": "4f4b528a",
   "metadata": {},
   "source": [
    "### Poly-Degree 6 "
   ]
  },
  {
   "cell_type": "code",
   "execution_count": 5,
   "id": "20bf0541",
   "metadata": {},
   "outputs": [
    {
     "name": "stdout",
     "output_type": "stream",
     "text": [
      "     Method  Avg Train Time  Avg Test Time  Avg Test Regret\n",
      "0        2s        1.551186      21.416272         0.213159\n",
      "1      cave      129.049996      19.657774         0.080146\n",
      "2     cave+      103.424056      17.944775         0.069663\n",
      "3     caveh       28.028190      17.443195         0.095202\n",
      "4      spo+      172.789248      17.033214         0.074777\n",
      "5  spo+_rel       73.793690      20.642114         0.098397\n",
      "6      pfyl      165.692098      16.444853         0.074138\n",
      "7  pfyl_rel       69.755914      20.272153         0.112767\n",
      "8       nce       25.475975      20.572473         0.148534\n"
     ]
    },
    {
     "name": "stderr",
     "output_type": "stream",
     "text": [
      "C:\\Users\\USER\\AppData\\Local\\Temp\\ipykernel_1576\\3170792153.py:35: FutureWarning: The behavior of DataFrame concatenation with empty or all-NA entries is deprecated. In a future version, this will no longer exclude empty or all-NA columns when determining the result dtypes. To retain the old behavior, exclude the relevant entries before the concat operation.\n",
      "  summary_df = pd.concat([summary_df, pd.DataFrame(row)], ignore_index=True)\n"
     ]
    }
   ],
   "source": [
    "df = getTable(prob_name=\"tsp20\", poly_deg=6)\n",
    "print(df)"
   ]
  },
  {
   "cell_type": "markdown",
   "id": "86596b15",
   "metadata": {},
   "source": [
    "### TSP50"
   ]
  },
  {
   "cell_type": "markdown",
   "id": "6147e321",
   "metadata": {},
   "source": [
    "### Poly-Degree 4 "
   ]
  },
  {
   "cell_type": "code",
   "execution_count": 6,
   "id": "e7bbd0c8",
   "metadata": {},
   "outputs": [
    {
     "name": "stdout",
     "output_type": "stream",
     "text": [
      "     Method  Avg Train Time  Avg Test Time  Avg Test Regret  \\\n",
      "0        2s        2.451050     143.184839         0.281623   \n",
      "1      cave      633.553259     133.321368         0.151938   \n",
      "2     cave+      542.960698     153.154278         0.076861   \n",
      "3     caveh      230.735066     147.686421         0.095906   \n",
      "4      spo+     1367.263736     140.508467         0.075555   \n",
      "5  spo+_rel      530.633725     144.980337         0.101717   \n",
      "6      pfyl     1341.805079     142.199556         0.080311   \n",
      "7  pfyl_rel      528.503908     141.075484         0.111117   \n",
      "8       nce      148.421043     125.890821         0.143145   \n",
      "\n",
      "   Test B&B Nodes Count  \n",
      "0                1.4851  \n",
      "1                1.6351  \n",
      "2                1.8019  \n",
      "3                1.7724  \n",
      "4                1.6227  \n",
      "5                1.5970  \n",
      "6                1.7904  \n",
      "7                1.7044  \n",
      "8                   NaN  \n"
     ]
    },
    {
     "name": "stderr",
     "output_type": "stream",
     "text": [
      "C:\\Users\\USER\\AppData\\Local\\Temp\\ipykernel_1576\\3170792153.py:35: FutureWarning: The behavior of DataFrame concatenation with empty or all-NA entries is deprecated. In a future version, this will no longer exclude empty or all-NA columns when determining the result dtypes. To retain the old behavior, exclude the relevant entries before the concat operation.\n",
      "  summary_df = pd.concat([summary_df, pd.DataFrame(row)], ignore_index=True)\n"
     ]
    }
   ],
   "source": [
    "df = getTable(prob_name=\"tsp50\", poly_deg=4)\n",
    "print(df)"
   ]
  },
  {
   "cell_type": "markdown",
   "id": "422d62f4",
   "metadata": {},
   "source": [
    "### Poly-Degree 6 "
   ]
  },
  {
   "cell_type": "code",
   "execution_count": 7,
   "id": "ef5d98f2",
   "metadata": {},
   "outputs": [
    {
     "name": "stdout",
     "output_type": "stream",
     "text": [
      "     Method  Avg Train Time  Avg Test Time  Avg Test Regret\n",
      "0        2s        1.935790     121.080077         0.526054\n",
      "1      cave      641.501033     146.992426         0.232458\n",
      "2     cave+      492.900954     137.901805         0.085653\n",
      "3     caveh      205.742823     139.532501         0.112797\n",
      "4      spo+     1688.034911     171.385659         0.102644\n",
      "5  spo+_rel      521.950446     132.109991         0.131414\n",
      "6      pfyl     1359.437695     146.026979         0.089797\n",
      "7  pfyl_rel      529.395947     164.507256         0.133825\n",
      "8       nce      150.754774     131.697720         5.741905\n"
     ]
    },
    {
     "name": "stderr",
     "output_type": "stream",
     "text": [
      "C:\\Users\\USER\\AppData\\Local\\Temp\\ipykernel_1576\\3170792153.py:35: FutureWarning: The behavior of DataFrame concatenation with empty or all-NA entries is deprecated. In a future version, this will no longer exclude empty or all-NA columns when determining the result dtypes. To retain the old behavior, exclude the relevant entries before the concat operation.\n",
      "  summary_df = pd.concat([summary_df, pd.DataFrame(row)], ignore_index=True)\n"
     ]
    }
   ],
   "source": [
    "df = getTable(prob_name=\"tsp50\", poly_deg=6)\n",
    "print(df)"
   ]
  },
  {
   "cell_type": "markdown",
   "id": "7e008165",
   "metadata": {},
   "source": [
    "## VRP20 "
   ]
  },
  {
   "cell_type": "markdown",
   "id": "e27a1caa",
   "metadata": {},
   "source": [
    "### Poly-Degree 4 "
   ]
  },
  {
   "cell_type": "code",
   "execution_count": 8,
   "id": "e5f3e196",
   "metadata": {},
   "outputs": [
    {
     "name": "stdout",
     "output_type": "stream",
     "text": [
      "  Method  Avg Train Time  Avg Test Time  Avg Test Regret  Test B&B Nodes Count\n",
      "0     2s        1.758584     858.035827         0.103628           1036.481667\n",
      "1   cave      189.954093     725.041162         0.091661           1234.557000\n",
      "2  cave+      147.202945     260.204038         0.073468             68.204750\n",
      "3  caveh       46.323125     571.156437         0.079805            903.155000\n",
      "4   spo+     4665.730233     956.819202         0.058741           1451.312500\n",
      "5   pfyl     4705.947805     571.118657         0.070849            156.365000\n",
      "6    nce      472.576415     301.355040         1.007834                   NaN\n"
     ]
    },
    {
     "name": "stderr",
     "output_type": "stream",
     "text": [
      "C:\\Users\\USER\\AppData\\Local\\Temp\\ipykernel_1576\\3170792153.py:35: FutureWarning: The behavior of DataFrame concatenation with empty or all-NA entries is deprecated. In a future version, this will no longer exclude empty or all-NA columns when determining the result dtypes. To retain the old behavior, exclude the relevant entries before the concat operation.\n",
      "  summary_df = pd.concat([summary_df, pd.DataFrame(row)], ignore_index=True)\n"
     ]
    }
   ],
   "source": [
    "df = getTable(prob_name=\"vrp20\", poly_deg=4)\n",
    "print(df)"
   ]
  },
  {
   "cell_type": "markdown",
   "id": "4ee949a0",
   "metadata": {},
   "source": [
    "### Poly-Degree 6 "
   ]
  },
  {
   "cell_type": "code",
   "execution_count": 9,
   "id": "53479eae",
   "metadata": {},
   "outputs": [
    {
     "name": "stderr",
     "output_type": "stream",
     "text": [
      "C:\\Users\\USER\\AppData\\Local\\Temp\\ipykernel_1576\\3170792153.py:35: FutureWarning: The behavior of DataFrame concatenation with empty or all-NA entries is deprecated. In a future version, this will no longer exclude empty or all-NA columns when determining the result dtypes. To retain the old behavior, exclude the relevant entries before the concat operation.\n",
      "  summary_df = pd.concat([summary_df, pd.DataFrame(row)], ignore_index=True)\n"
     ]
    },
    {
     "name": "stdout",
     "output_type": "stream",
     "text": [
      "  Method  Avg Train Time  Avg Test Time  Avg Test Regret\n",
      "0     2s        1.916762     692.813412         0.196664\n",
      "1   cave      196.980622     929.132678         0.092420\n",
      "2  cave+      172.779900     744.929753         0.075653\n",
      "3  caveh       50.636508     595.582903         0.096687\n",
      "4   spo+     4029.395747     632.186021         0.082709\n",
      "5   pfyl     4991.406112     618.242036         0.088581\n"
     ]
    }
   ],
   "source": [
    "df = getTable(prob_name=\"vrp20\", poly_deg=6)\n",
    "print(df)"
   ]
  },
  {
   "cell_type": "code",
   "execution_count": null,
   "id": "b8656293",
   "metadata": {},
   "outputs": [],
   "source": []
  }
 ],
 "metadata": {
  "kernelspec": {
   "display_name": "Python 3 (ipykernel)",
   "language": "python",
   "name": "python3"
  },
  "language_info": {
   "codemirror_mode": {
    "name": "ipython",
    "version": 3
   },
   "file_extension": ".py",
   "mimetype": "text/x-python",
   "name": "python",
   "nbconvert_exporter": "python",
   "pygments_lexer": "ipython3",
   "version": "3.9.18"
  }
 },
 "nbformat": 4,
 "nbformat_minor": 5
}
