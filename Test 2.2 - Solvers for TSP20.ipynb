{
 "cells": [
  {
   "cell_type": "code",
   "execution_count": 1,
   "id": "49b5424e",
   "metadata": {
    "colab": {
     "base_uri": "https://localhost:8080/"
    },
    "id": "49b5424e",
    "outputId": "7ccfabbc-196d-4963-d0af-901eff1e872b"
   },
   "outputs": [
    {
     "name": "stdout",
     "output_type": "stream",
     "text": [
      "Auto-Sklearn cannot be imported.\n"
     ]
    }
   ],
   "source": [
    "import numpy as np\n",
    "import torch\n",
    "import pyepo"
   ]
  },
  {
   "cell_type": "code",
   "execution_count": 2,
   "id": "84efe8d7",
   "metadata": {},
   "outputs": [
    {
     "name": "stdout",
     "output_type": "stream",
     "text": [
      "(CVXPY) Nov 21 03:27:55 PM: Encountered unexpected exception importing solver OSQP:\n",
      "ImportError('DLL load failed while importing qdldl: The specified module could not be found.')\n",
      "(CVXPY) Nov 21 03:27:55 PM: Encountered unexpected exception importing solver OSQP:\n",
      "ImportError('DLL load failed while importing qdldl: The specified module could not be found.')\n"
     ]
    },
    {
     "data": {
      "text/plain": [
       "['CLARABEL', 'COPT', 'ECOS', 'ECOS_BB', 'GUROBI', 'MOSEK', 'SCIPY', 'SCS']"
      ]
     },
     "execution_count": 2,
     "metadata": {},
     "output_type": "execute_result"
    }
   ],
   "source": [
    "import cvxpy as cvx\n",
    "cvx.installed_solvers()"
   ]
  },
  {
   "cell_type": "markdown",
   "id": "53e5be4e",
   "metadata": {
    "id": "53e5be4e"
   },
   "source": [
    "## Data Set and Optimization Solver"
   ]
  },
  {
   "cell_type": "code",
   "execution_count": 3,
   "id": "00e3bd4d",
   "metadata": {
    "id": "00e3bd4d"
   },
   "outputs": [],
   "source": [
    "# generate data\n",
    "num_node = 20 # node size\n",
    "num_data = 1000 # number of training data\n",
    "num_feat = 10 # size of feature\n",
    "deg = 4 # polynomial degree\n",
    "e = 0.5 # noise width\n",
    "feats, costs = pyepo.data.tsp.genData(num_data+1000, num_feat, num_node, deg, e, seed=42)"
   ]
  },
  {
   "cell_type": "code",
   "execution_count": 4,
   "id": "6073c3f4",
   "metadata": {
    "colab": {
     "base_uri": "https://localhost:8080/"
    },
    "id": "6073c3f4",
    "outputId": "e5734002-11c7-44d6-a6ba-006b39d0d4e5"
   },
   "outputs": [
    {
     "name": "stdout",
     "output_type": "stream",
     "text": [
      "Set parameter Username\n",
      "Academic license - for non-commercial use only - expires 2024-01-01\n",
      "Obj: 57.6036\n",
      "0 -> 5 -> 8 -> 10 -> 4 -> 12 -> 1 -> 17 -> 3 -> 16 -> 9 -> 18 -> 7 -> 2 -> 11 -> 13 -> 19 -> 6 -> 14 -> 15 -> 0\n"
     ]
    }
   ],
   "source": [
    "from model import tspDFJModel\n",
    "# set solver\n",
    "optmodel = tspDFJModel(num_node)\n",
    "# test\n",
    "optmodel.setObj(costs[0])\n",
    "sol, obj = optmodel.solve()\n",
    "print(\"Obj: {}\".format(obj))\n",
    "tour = optmodel.getTour(sol)\n",
    "print(\" -> \".join(map(str, tour)))"
   ]
  },
  {
   "cell_type": "code",
   "execution_count": 5,
   "id": "976de0c5",
   "metadata": {},
   "outputs": [],
   "source": [
    "# split data\n",
    "from sklearn.model_selection import train_test_split\n",
    "x_train, x_test, c_train, c_test = train_test_split(feats, costs, test_size=1000, random_state=42)"
   ]
  },
  {
   "cell_type": "code",
   "execution_count": 6,
   "id": "ac1e64dd",
   "metadata": {
    "colab": {
     "base_uri": "https://localhost:8080/"
    },
    "id": "ac1e64dd",
    "outputId": "cfa534b0-e50f-4e05-ac72-374fe07eccf6"
   },
   "outputs": [
    {
     "name": "stdout",
     "output_type": "stream",
     "text": [
      "Optimizing for optDataset...\n"
     ]
    },
    {
     "name": "stderr",
     "output_type": "stream",
     "text": [
      "100%|██████████████████████████████████████████████████████████████████████████████| 1000/1000 [00:20<00:00, 48.83it/s]\n"
     ]
    },
    {
     "name": "stdout",
     "output_type": "stream",
     "text": [
      "Optimizing for optDataset...\n"
     ]
    },
    {
     "name": "stderr",
     "output_type": "stream",
     "text": [
      "100%|█████████████████████████████████████████████████████████████████████████████| 1000/1000 [00:09<00:00, 105.67it/s]\n"
     ]
    }
   ],
   "source": [
    "from dataset import optDatasetConstrs\n",
    "# get training and test data set\n",
    "dataset_train = optDatasetConstrs(optmodel, x_train, costs=c_train) # with binding constr\n",
    "dataset_test = pyepo.data.dataset.optDataset(optmodel, x_test, costs=c_test) # without binding constr"
   ]
  },
  {
   "cell_type": "code",
   "execution_count": 7,
   "id": "1cfd1c9b",
   "metadata": {},
   "outputs": [
    {
     "name": "stdout",
     "output_type": "stream",
     "text": [
      "Obtaining constraints for optDataset...\n"
     ]
    },
    {
     "name": "stderr",
     "output_type": "stream",
     "text": [
      "100%|██████████████████████████████████████████████████████████████████████████████| 1000/1000 [00:11<00:00, 89.66it/s]\n"
     ]
    }
   ],
   "source": [
    "# get training and test data set without costs\n",
    "dataset_train = optDatasetConstrs(optmodel, x_train, sols=dataset_train.sols) # with binding constr"
   ]
  },
  {
   "cell_type": "code",
   "execution_count": 8,
   "id": "77111dd8",
   "metadata": {
    "id": "77111dd8"
   },
   "outputs": [],
   "source": [
    "# get data loader\n",
    "from torch.utils.data import DataLoader\n",
    "batch_size = 32\n",
    "loader_train = DataLoader(dataset_train, batch_size=batch_size, shuffle=True)\n",
    "loader_test = DataLoader(dataset_test, batch_size=batch_size, shuffle=False)"
   ]
  },
  {
   "cell_type": "markdown",
   "id": "c21a2da3",
   "metadata": {
    "id": "c21a2da3"
   },
   "source": [
    "## Prediction Model"
   ]
  },
  {
   "cell_type": "code",
   "execution_count": 9,
   "id": "49603cb7",
   "metadata": {
    "id": "49603cb7"
   },
   "outputs": [],
   "source": [
    "import torch\n",
    "from torch import nn\n",
    "\n",
    "# build linear model\n",
    "class LinearRegression(nn.Module):\n",
    "\n",
    "    def __init__(self):\n",
    "        super(LinearRegression, self).__init__()\n",
    "        self.linear = nn.Linear(num_feat, num_node*(num_node-1)//2)\n",
    "\n",
    "    def forward(self, x):\n",
    "        out = self.linear(x)\n",
    "        return out"
   ]
  },
  {
   "cell_type": "markdown",
   "id": "f71fb9a6",
   "metadata": {
    "id": "f71fb9a6"
   },
   "source": [
    "## Train"
   ]
  },
  {
   "cell_type": "code",
   "execution_count": 10,
   "id": "ccdffa18",
   "metadata": {},
   "outputs": [],
   "source": [
    "lr = 5e-3\n",
    "num_epochs = 1"
   ]
  },
  {
   "cell_type": "code",
   "execution_count": 11,
   "id": "f54ba370",
   "metadata": {},
   "outputs": [],
   "source": [
    "import time\n",
    "from tqdm import tqdm\n",
    "\n",
    "def train(reg, ca_cos, lr, num_epochs):\n",
    "    # set optimizer\n",
    "    optimizer = torch.optim.Adam(reg.parameters(), lr=lr)\n",
    "    # running time\n",
    "    elapsed = 0\n",
    "    for epoch in range(num_epochs):\n",
    "        tick = time.time()\n",
    "        tbar = tqdm(loader_train)\n",
    "        for data in tbar:\n",
    "            x, w, t_ctr = data\n",
    "            # forward pass\n",
    "            cp = reg(x)\n",
    "            loss = ca_cos(cp, t_ctr)\n",
    "            # set log\n",
    "            tbar.set_description(\"Loss: {:8.4f}\".format(loss.item()))\n",
    "            # backward pass\n",
    "            optimizer.zero_grad()\n",
    "            loss.backward()\n",
    "            optimizer.step()\n",
    "        # record time\n",
    "        tock = time.time()\n",
    "        elapsed += tock - tick\n",
    "    # regret\n",
    "    regret = pyepo.metric.regret(reg, optmodel, loader_test)\n",
    "    print(\"Regret: {:7.4f}%\".format(regret*100))\n",
    "    # elapsed\n",
    "    print(\"Elapsed Time: {:.2f} Sec\".format(elapsed))"
   ]
  },
  {
   "cell_type": "markdown",
   "id": "9363243b",
   "metadata": {},
   "source": [
    "### Gurobi Method "
   ]
  },
  {
   "cell_type": "code",
   "execution_count": 12,
   "id": "e584e079",
   "metadata": {},
   "outputs": [
    {
     "data": {
      "text/plain": [
       "<torch._C.Generator at 0x23d29a042f0>"
      ]
     },
     "execution_count": 12,
     "metadata": {},
     "output_type": "execute_result"
    }
   ],
   "source": [
    "# random seed\n",
    "np.random.seed(42)\n",
    "torch.manual_seed(42)"
   ]
  },
  {
   "cell_type": "code",
   "execution_count": 13,
   "id": "4b39f4a4",
   "metadata": {},
   "outputs": [],
   "source": [
    "import gurobipy as gp\n",
    "from gurobipy import GRB\n",
    "\n",
    "from func import exactConeAlignedCosine\n",
    "\n",
    "class coneAlignedCosine(exactConeAlignedCosine):\n",
    "    def _solveQP(self, cp, ctr, warmstart, conecheck):\n",
    "        # ceate a model\n",
    "        m = gp.Model(\"projection\")\n",
    "        # turn off output\n",
    "        m.Params.outputFlag = 0\n",
    "        # focus on numeric problem\n",
    "        m.Params.NumericFocus = 3\n",
    "        # varibles\n",
    "        λ = m.addMVar(len(ctr), name=\"λ\")\n",
    "        # objective function\n",
    "        obj = (cp - λ @ ctr) @ (cp - λ @ ctr)\n",
    "        m.setObjective(obj, GRB.MINIMIZE)\n",
    "        # solve\n",
    "        m.optimize()\n",
    "        # get solutions\n",
    "        proj = λ.X @ ctr\n",
    "        # normalize\n",
    "        proj = torch.FloatTensor(proj / np.linalg.norm(proj))\n",
    "        return proj"
   ]
  },
  {
   "cell_type": "code",
   "execution_count": 14,
   "id": "8dd6a2e2",
   "metadata": {
    "id": "8dd6a2e2"
   },
   "outputs": [],
   "source": [
    "# init model\n",
    "reg = LinearRegression()"
   ]
  },
  {
   "cell_type": "code",
   "execution_count": 15,
   "id": "67660513",
   "metadata": {
    "id": "67660513"
   },
   "outputs": [
    {
     "name": "stdout",
     "output_type": "stream",
     "text": [
      "Num of cores: 1\n"
     ]
    }
   ],
   "source": [
    "# init loss\n",
    "ca_cos = coneAlignedCosine(optmodel)"
   ]
  },
  {
   "cell_type": "code",
   "execution_count": 16,
   "id": "8c332205",
   "metadata": {
    "colab": {
     "base_uri": "https://localhost:8080/"
    },
    "id": "8c332205",
    "outputId": "b01697bd-80f7-4f58-eb97-35b5276c0ff1",
    "scrolled": true
   },
   "outputs": [
    {
     "name": "stderr",
     "output_type": "stream",
     "text": [
      "Loss:  -0.9531: 100%|██████████████████████████████████████████████████████████████████| 32/32 [00:16<00:00,  1.98it/s]\n"
     ]
    },
    {
     "name": "stdout",
     "output_type": "stream",
     "text": [
      "Regret: 138.3727%\n",
      "Elapsed Time: 16.15 Sec\n"
     ]
    }
   ],
   "source": [
    "train(reg, ca_cos, lr, num_epochs)"
   ]
  },
  {
   "cell_type": "markdown",
   "id": "57cda42c",
   "metadata": {},
   "source": [
    "### Gurobi with Warm-Starting "
   ]
  },
  {
   "cell_type": "code",
   "execution_count": 17,
   "id": "2d940bae",
   "metadata": {},
   "outputs": [
    {
     "data": {
      "text/plain": [
       "<torch._C.Generator at 0x23d29a042f0>"
      ]
     },
     "execution_count": 17,
     "metadata": {},
     "output_type": "execute_result"
    }
   ],
   "source": [
    "# random seed\n",
    "np.random.seed(42)\n",
    "torch.manual_seed(42)"
   ]
  },
  {
   "cell_type": "code",
   "execution_count": 18,
   "id": "4a74d7b0",
   "metadata": {},
   "outputs": [],
   "source": [
    "import gurobipy as gp\n",
    "from gurobipy import GRB\n",
    "\n",
    "from func import exactConeAlignedCosine\n",
    "\n",
    "class coneAlignedCosine(exactConeAlignedCosine):\n",
    "    def _solveQP(self, cp, ctr, warmstart, conecheck):\n",
    "        # ceate a model\n",
    "        m = gp.Model(\"projection\")\n",
    "        # turn off output\n",
    "        m.Params.outputFlag = 0\n",
    "        # focus on numeric problem\n",
    "        m.Params.NumericFocus = 3\n",
    "        # varibles\n",
    "        λ = m.addMVar(len(ctr), name=\"λ\")\n",
    "        # warm-start\n",
    "        init_λ = np.zeros(len(ctr))\n",
    "        sign = ctr[-len(cp):].sum(axis=0)\n",
    "        init_λ[-len(cp):] = np.abs(cp) * (np.sign(cp) == np.sign(sign)) # hyperqudrants\n",
    "        λ.Start = init_λ\n",
    "        # objective function\n",
    "        obj = (cp - λ @ ctr) @ (cp - λ @ ctr)\n",
    "        m.setObjective(obj, GRB.MINIMIZE)\n",
    "        # solve\n",
    "        m.optimize()\n",
    "        # get solutions\n",
    "        proj = λ.X @ ctr\n",
    "        # normalize\n",
    "        proj = torch.FloatTensor(proj / np.linalg.norm(proj))\n",
    "        return proj"
   ]
  },
  {
   "cell_type": "code",
   "execution_count": 19,
   "id": "ee4976ce",
   "metadata": {},
   "outputs": [],
   "source": [
    "# init model\n",
    "reg = LinearRegression()"
   ]
  },
  {
   "cell_type": "code",
   "execution_count": 20,
   "id": "4d1c9a8d",
   "metadata": {},
   "outputs": [
    {
     "name": "stdout",
     "output_type": "stream",
     "text": [
      "Num of cores: 1\n"
     ]
    }
   ],
   "source": [
    "# init loss\n",
    "ca_cos = coneAlignedCosine(optmodel)"
   ]
  },
  {
   "cell_type": "code",
   "execution_count": 21,
   "id": "71eab5d1",
   "metadata": {},
   "outputs": [
    {
     "name": "stderr",
     "output_type": "stream",
     "text": [
      "Loss:  -0.9531: 100%|██████████████████████████████████████████████████████████████████| 32/32 [00:17<00:00,  1.82it/s]\n"
     ]
    },
    {
     "name": "stdout",
     "output_type": "stream",
     "text": [
      "Regret: 138.3727%\n",
      "Elapsed Time: 17.59 Sec\n"
     ]
    }
   ],
   "source": [
    "train(reg, ca_cos, lr, num_epochs)"
   ]
  },
  {
   "cell_type": "markdown",
   "id": "68b856df",
   "metadata": {},
   "source": [
    "## Gurobi with CVXPY"
   ]
  },
  {
   "cell_type": "code",
   "execution_count": 22,
   "id": "790ababa",
   "metadata": {},
   "outputs": [
    {
     "data": {
      "text/plain": [
       "<torch._C.Generator at 0x23d29a042f0>"
      ]
     },
     "execution_count": 22,
     "metadata": {},
     "output_type": "execute_result"
    }
   ],
   "source": [
    "# random seed\n",
    "np.random.seed(42)\n",
    "torch.manual_seed(42)"
   ]
  },
  {
   "cell_type": "code",
   "execution_count": 23,
   "id": "aa18edce",
   "metadata": {},
   "outputs": [],
   "source": [
    "import cvxpy as cvx\n",
    "\n",
    "from func import exactConeAlignedCosine\n",
    "\n",
    "class coneAlignedCosine(exactConeAlignedCosine):\n",
    "    def _solveQP(self, cp, ctr, warmstart, conecheck):\n",
    "        # varibles\n",
    "        λ = cvx.Variable(len(ctr), name=\"λ\", nonneg=True)\n",
    "        # onjective function\n",
    "        objective = cvx.Minimize(cvx.sum_squares(cp - λ @ ctr))\n",
    "        # ceate a model\n",
    "        problem = cvx.Problem(objective)\n",
    "        # solve and focus on numeric problem\n",
    "        problem.solve(solver=cvx.GUROBI, solver_opts={\"NumericFocus\": 3})\n",
    "        # get solutions\n",
    "        proj = λ.value @ ctr\n",
    "        # normalize\n",
    "        proj = proj / np.linalg.norm(proj)\n",
    "        return torch.FloatTensor(proj)"
   ]
  },
  {
   "cell_type": "code",
   "execution_count": 24,
   "id": "2e649843",
   "metadata": {},
   "outputs": [],
   "source": [
    "# init model\n",
    "reg = LinearRegression()"
   ]
  },
  {
   "cell_type": "code",
   "execution_count": 25,
   "id": "acb19250",
   "metadata": {},
   "outputs": [
    {
     "name": "stdout",
     "output_type": "stream",
     "text": [
      "Num of cores: 1\n"
     ]
    }
   ],
   "source": [
    "# init loss\n",
    "ca_cos = coneAlignedCosine(optmodel)"
   ]
  },
  {
   "cell_type": "code",
   "execution_count": 26,
   "id": "4c7c98b7",
   "metadata": {},
   "outputs": [
    {
     "name": "stderr",
     "output_type": "stream",
     "text": [
      "Loss:  -0.9531: 100%|██████████████████████████████████████████████████████████████████| 32/32 [00:27<00:00,  1.18it/s]\n"
     ]
    },
    {
     "name": "stdout",
     "output_type": "stream",
     "text": [
      "Regret: 138.3727%\n",
      "Elapsed Time: 27.14 Sec\n"
     ]
    }
   ],
   "source": [
    "train(reg, ca_cos, lr, num_epochs)"
   ]
  },
  {
   "cell_type": "markdown",
   "id": "d0fac41b",
   "metadata": {},
   "source": [
    "## COPT "
   ]
  },
  {
   "cell_type": "code",
   "execution_count": 27,
   "id": "b0ad966e",
   "metadata": {},
   "outputs": [
    {
     "data": {
      "text/plain": [
       "<torch._C.Generator at 0x23d29a042f0>"
      ]
     },
     "execution_count": 27,
     "metadata": {},
     "output_type": "execute_result"
    }
   ],
   "source": [
    "# random seed\n",
    "np.random.seed(42)\n",
    "torch.manual_seed(42)"
   ]
  },
  {
   "cell_type": "code",
   "execution_count": 28,
   "id": "c6e955ca",
   "metadata": {},
   "outputs": [],
   "source": [
    "import os\n",
    "import sys\n",
    "from contextlib import contextmanager\n",
    "\n",
    "@contextmanager\n",
    "def suppress_stdout():\n",
    "    with open(os.devnull, 'w') as devnull:\n",
    "        old_stdout = sys.stdout\n",
    "        sys.stdout = devnull\n",
    "        try:\n",
    "            yield\n",
    "        finally:\n",
    "            sys.stdout = old_stdout"
   ]
  },
  {
   "cell_type": "code",
   "execution_count": 29,
   "id": "e6913a7d",
   "metadata": {},
   "outputs": [],
   "source": [
    "from coptpy import Envr, EnvrConfig\n",
    "from coptpy import COPT\n",
    "\n",
    "from func import exactConeAlignedCosine\n",
    "\n",
    "class coneAlignedCosine(exactConeAlignedCosine):\n",
    "    def _solveQP(self, cp, ctr, warmstart, conecheck):\n",
    "        with suppress_stdout():\n",
    "            # no banner\n",
    "            envconfig = EnvrConfig()\n",
    "            envconfig.set(\"nobanner\", \"1\")\n",
    "            # ceate a model\n",
    "            m = Envr(envconfig).createModel(\"projection\")\n",
    "            # turn off output\n",
    "            m.setParam(\"Logging\", 0)\n",
    "            # focus on numeric problem\n",
    "            m.setParam(\"NumericFocus\", 3)\n",
    "            # varibles\n",
    "            λ = m.addMVar(len(ctr), nameprefix=\"λ\")\n",
    "            # onjective function\n",
    "            obj = (cp - λ @ ctr) @ (cp - λ @ ctr)\n",
    "            m.setObjective(obj, COPT.MINIMIZE)\n",
    "            # solve\n",
    "            m.solve()\n",
    "        # get solutions\n",
    "        proj = λ.X @ ctr\n",
    "        # normalize\n",
    "        proj = proj / np.linalg.norm(proj)\n",
    "        return torch.FloatTensor(proj)"
   ]
  },
  {
   "cell_type": "code",
   "execution_count": 30,
   "id": "b839e755",
   "metadata": {},
   "outputs": [],
   "source": [
    "# init model\n",
    "reg = LinearRegression()"
   ]
  },
  {
   "cell_type": "code",
   "execution_count": 31,
   "id": "145f2f35",
   "metadata": {},
   "outputs": [
    {
     "name": "stdout",
     "output_type": "stream",
     "text": [
      "Num of cores: 1\n"
     ]
    }
   ],
   "source": [
    "# init loss\n",
    "ca_cos = coneAlignedCosine(optmodel)"
   ]
  },
  {
   "cell_type": "code",
   "execution_count": 32,
   "id": "b58bd1d4",
   "metadata": {},
   "outputs": [
    {
     "name": "stderr",
     "output_type": "stream",
     "text": [
      "Loss:  -0.9531: 100%|██████████████████████████████████████████████████████████████████| 32/32 [02:37<00:00,  4.91s/it]\n"
     ]
    },
    {
     "name": "stdout",
     "output_type": "stream",
     "text": [
      "Regret: 138.3727%\n",
      "Elapsed Time: 157.05 Sec\n"
     ]
    }
   ],
   "source": [
    "train(reg, ca_cos, lr, num_epochs)"
   ]
  },
  {
   "cell_type": "markdown",
   "id": "c50822ba",
   "metadata": {},
   "source": [
    "##  COPT with CVXPY"
   ]
  },
  {
   "cell_type": "code",
   "execution_count": 33,
   "id": "3a33cdc1",
   "metadata": {},
   "outputs": [
    {
     "data": {
      "text/plain": [
       "<torch._C.Generator at 0x23d29a042f0>"
      ]
     },
     "execution_count": 33,
     "metadata": {},
     "output_type": "execute_result"
    }
   ],
   "source": [
    "# random seed\n",
    "np.random.seed(42)\n",
    "torch.manual_seed(42)"
   ]
  },
  {
   "cell_type": "code",
   "execution_count": 34,
   "id": "5545f622",
   "metadata": {},
   "outputs": [],
   "source": [
    "import cvxpy as cvx\n",
    "\n",
    "class coneAlignedCosine(exactConeAlignedCosine):\n",
    "    def _solveQP(self, cp, ctr, warmstart, conecheck):\n",
    "        with suppress_stdout():\n",
    "            # varibles\n",
    "            λ = cvx.Variable(len(ctr), name=\"λ\", nonneg=True)\n",
    "            # onjective function\n",
    "            objective = cvx.Minimize(cvx.sum_squares(cp - λ @ ctr))\n",
    "            # ceate a model\n",
    "            problem = cvx.Problem(objective)\n",
    "            # solve and focus on numeric problem\n",
    "            problem.solve(solver=cvx.COPT, NumericFocus=3)\n",
    "        # get solutions\n",
    "        proj = λ.value @ ctr\n",
    "        # normalize\n",
    "        proj = proj / np.linalg.norm(proj)\n",
    "        return torch.FloatTensor(proj)"
   ]
  },
  {
   "cell_type": "code",
   "execution_count": 35,
   "id": "559d1693",
   "metadata": {},
   "outputs": [],
   "source": [
    "# init model\n",
    "reg = LinearRegression()"
   ]
  },
  {
   "cell_type": "code",
   "execution_count": 36,
   "id": "9651e67f",
   "metadata": {},
   "outputs": [
    {
     "name": "stdout",
     "output_type": "stream",
     "text": [
      "Num of cores: 1\n"
     ]
    }
   ],
   "source": [
    "# init loss\n",
    "ca_cos = coneAlignedCosine(optmodel)"
   ]
  },
  {
   "cell_type": "code",
   "execution_count": 37,
   "id": "1ebb8956",
   "metadata": {},
   "outputs": [
    {
     "name": "stderr",
     "output_type": "stream",
     "text": [
      "Loss:  -0.9531: 100%|██████████████████████████████████████████████████████████████████| 32/32 [00:20<00:00,  1.53it/s]\n"
     ]
    },
    {
     "name": "stdout",
     "output_type": "stream",
     "text": [
      "Regret: 138.3727%\n",
      "Elapsed Time: 20.99 Sec\n"
     ]
    }
   ],
   "source": [
    "train(reg, ca_cos, lr, num_epochs)"
   ]
  },
  {
   "cell_type": "markdown",
   "id": "72f47cbd",
   "metadata": {},
   "source": [
    "## Mosek with CVXPY "
   ]
  },
  {
   "cell_type": "code",
   "execution_count": 38,
   "id": "04c4e518",
   "metadata": {},
   "outputs": [
    {
     "data": {
      "text/plain": [
       "<torch._C.Generator at 0x23d29a042f0>"
      ]
     },
     "execution_count": 38,
     "metadata": {},
     "output_type": "execute_result"
    }
   ],
   "source": [
    "# random seed\n",
    "np.random.seed(42)\n",
    "torch.manual_seed(42)"
   ]
  },
  {
   "cell_type": "code",
   "execution_count": 39,
   "id": "5dee8a06",
   "metadata": {},
   "outputs": [],
   "source": [
    "import cvxpy as cvx\n",
    "\n",
    "from func import exactConeAlignedCosine\n",
    "\n",
    "class coneAlignedCosine(exactConeAlignedCosine):\n",
    "    def _solveQP(self, cp, ctr, warmstart, conecheck):\n",
    "        # varibles\n",
    "        λ = cvx.Variable(len(ctr), name=\"λ\", nonneg=True)\n",
    "        # onjective function\n",
    "        objective = cvx.Minimize(cvx.sum_squares(cp - λ @ ctr))\n",
    "        # ceate a model\n",
    "        problem = cvx.Problem(objective)\n",
    "        # solve and focus on numeric problem\n",
    "        problem.solve(solver=cvx.MOSEK)\n",
    "        # get solutions\n",
    "        proj = λ.value @ ctr\n",
    "        # normalize\n",
    "        proj = proj / np.linalg.norm(proj)\n",
    "        return torch.FloatTensor(proj)"
   ]
  },
  {
   "cell_type": "code",
   "execution_count": 40,
   "id": "427fc883",
   "metadata": {},
   "outputs": [],
   "source": [
    "# init model\n",
    "reg = LinearRegression()"
   ]
  },
  {
   "cell_type": "code",
   "execution_count": 41,
   "id": "1f8f40cd",
   "metadata": {},
   "outputs": [
    {
     "name": "stdout",
     "output_type": "stream",
     "text": [
      "Num of cores: 1\n"
     ]
    }
   ],
   "source": [
    "# init loss\n",
    "ca_cos = coneAlignedCosine(optmodel)"
   ]
  },
  {
   "cell_type": "code",
   "execution_count": 42,
   "id": "eb8c53bd",
   "metadata": {},
   "outputs": [
    {
     "name": "stderr",
     "output_type": "stream",
     "text": [
      "Loss:  -0.9531: 100%|██████████████████████████████████████████████████████████████████| 32/32 [00:18<00:00,  1.75it/s]\n"
     ]
    },
    {
     "name": "stdout",
     "output_type": "stream",
     "text": [
      "Regret: 138.3727%\n",
      "Elapsed Time: 18.24 Sec\n"
     ]
    }
   ],
   "source": [
    "train(reg, ca_cos, lr, num_epochs)"
   ]
  },
  {
   "cell_type": "markdown",
   "id": "a358d183",
   "metadata": {},
   "source": [
    "##  Clarabel"
   ]
  },
  {
   "cell_type": "code",
   "execution_count": 43,
   "id": "01effdfb",
   "metadata": {},
   "outputs": [
    {
     "data": {
      "text/plain": [
       "<torch._C.Generator at 0x23d29a042f0>"
      ]
     },
     "execution_count": 43,
     "metadata": {},
     "output_type": "execute_result"
    }
   ],
   "source": [
    "# random seed\n",
    "np.random.seed(42)\n",
    "torch.manual_seed(42)"
   ]
  },
  {
   "cell_type": "code",
   "execution_count": 44,
   "id": "b09a2e0e",
   "metadata": {},
   "outputs": [],
   "source": [
    "import clarabel as cl\n",
    "\n",
    "from func import exactConeAlignedCosine\n",
    "\n",
    "class ConeAlignedCosine(exactConeAlignedCosine):\n",
    "    def _solveQP(self, cp, ctr, warmstart, conecheck):\n",
    "        # number of variable\n",
    "        num_λ = ctr.shape[1]\n",
    "        # quadratic term\n",
    "        Q = ctr @ ctr.T\n",
    "        # linear term\n",
    "        p = - 2 * cp.T @ ctr\n",
    "        # constraints λ >= 0\n",
    "        A = - np.eye(num_λ)\n",
    "        b = np.zeros(num_λ)\n",
    "        # cone\n",
    "        cones = [cl.NonnegativeConeT(num_λ)]\n",
    "        # settings\n",
    "        settings = cl.DefaultSettings()\n",
    "        settings.verbose = False\n",
    "        # QP model\n",
    "        model = cl.DefaultSolver(Q, p, A, b, cones, settings)\n",
    "        # solve\n",
    "        result = model.solve()\n",
    "        # get the solution\n",
    "        proj = result.x[:num_p]\n",
    "        # normalize\n",
    "        proj = proj / np.linalg.norm(proj)\n",
    "        return torch.FloatTensor(proj)"
   ]
  },
  {
   "cell_type": "code",
   "execution_count": 45,
   "id": "d4405e7e",
   "metadata": {},
   "outputs": [],
   "source": [
    "# init model\n",
    "reg = LinearRegression()"
   ]
  },
  {
   "cell_type": "code",
   "execution_count": 46,
   "id": "21ee110c",
   "metadata": {},
   "outputs": [
    {
     "name": "stdout",
     "output_type": "stream",
     "text": [
      "Num of cores: 1\n"
     ]
    }
   ],
   "source": [
    "# init loss\n",
    "ca_cos = coneAlignedCosine(optmodel)"
   ]
  },
  {
   "cell_type": "code",
   "execution_count": 47,
   "id": "65882fd1",
   "metadata": {},
   "outputs": [
    {
     "name": "stderr",
     "output_type": "stream",
     "text": [
      "Loss:  -0.9531: 100%|██████████████████████████████████████████████████████████████████| 32/32 [00:16<00:00,  1.96it/s]\n"
     ]
    },
    {
     "name": "stdout",
     "output_type": "stream",
     "text": [
      "Regret: 138.3727%\n",
      "Elapsed Time: 16.33 Sec\n"
     ]
    }
   ],
   "source": [
    "train(reg, ca_cos, lr, num_epochs)"
   ]
  },
  {
   "cell_type": "markdown",
   "id": "cc7e4e9a",
   "metadata": {},
   "source": [
    "## Clarabel with CVXPY"
   ]
  },
  {
   "cell_type": "code",
   "execution_count": 48,
   "id": "2072c170",
   "metadata": {},
   "outputs": [
    {
     "data": {
      "text/plain": [
       "<torch._C.Generator at 0x23d29a042f0>"
      ]
     },
     "execution_count": 48,
     "metadata": {},
     "output_type": "execute_result"
    }
   ],
   "source": [
    "# random seed\n",
    "np.random.seed(42)\n",
    "torch.manual_seed(42)"
   ]
  },
  {
   "cell_type": "code",
   "execution_count": 49,
   "id": "d437a9cb",
   "metadata": {},
   "outputs": [],
   "source": [
    "import cvxpy as cvx\n",
    "\n",
    "from func import exactConeAlignedCosine\n",
    "\n",
    "class coneAlignedCosine(exactConeAlignedCosine):\n",
    "    def _solveQP(self, cp, ctr, warmstart, conecheck):\n",
    "        # varibles\n",
    "        λ = cvx.Variable(len(ctr), name=\"λ\", nonneg=True)\n",
    "        # onjective function\n",
    "        objective = cvx.Minimize(cvx.sum_squares(cp - λ @ ctr))\n",
    "        # ceate a model\n",
    "        problem = cvx.Problem(objective)\n",
    "        # solve and focus on numeric problem\n",
    "        problem.solve(solver=cvx.CLARABEL)\n",
    "        # get solutions\n",
    "        proj = λ.value @ ctr\n",
    "        # normalize\n",
    "        proj = proj / np.linalg.norm(proj)\n",
    "        return torch.FloatTensor(proj)"
   ]
  },
  {
   "cell_type": "code",
   "execution_count": 50,
   "id": "4f46fcef",
   "metadata": {},
   "outputs": [],
   "source": [
    "# init model\n",
    "reg = LinearRegression()"
   ]
  },
  {
   "cell_type": "code",
   "execution_count": 51,
   "id": "038ef9d2",
   "metadata": {},
   "outputs": [
    {
     "name": "stdout",
     "output_type": "stream",
     "text": [
      "Num of cores: 1\n"
     ]
    }
   ],
   "source": [
    "# init loss\n",
    "ca_cos = coneAlignedCosine(optmodel)"
   ]
  },
  {
   "cell_type": "code",
   "execution_count": 52,
   "id": "22167ae9",
   "metadata": {},
   "outputs": [
    {
     "name": "stderr",
     "output_type": "stream",
     "text": [
      "Loss:  -0.9531: 100%|██████████████████████████████████████████████████████████████████| 32/32 [00:10<00:00,  3.07it/s]\n"
     ]
    },
    {
     "name": "stdout",
     "output_type": "stream",
     "text": [
      "Regret: 138.3727%\n",
      "Elapsed Time: 10.42 Sec\n"
     ]
    }
   ],
   "source": [
    "train(reg, ca_cos, lr, num_epochs)"
   ]
  },
  {
   "cell_type": "markdown",
   "id": "30d7bdc1",
   "metadata": {},
   "source": [
    "### Non-Negative Least Squares"
   ]
  },
  {
   "cell_type": "code",
   "execution_count": 53,
   "id": "628f554d",
   "metadata": {},
   "outputs": [
    {
     "data": {
      "text/plain": [
       "<torch._C.Generator at 0x23d29a042f0>"
      ]
     },
     "execution_count": 53,
     "metadata": {},
     "output_type": "execute_result"
    }
   ],
   "source": [
    "# random seed\n",
    "np.random.seed(42)\n",
    "torch.manual_seed(42)"
   ]
  },
  {
   "cell_type": "code",
   "execution_count": 54,
   "id": "60ffe08d",
   "metadata": {},
   "outputs": [],
   "source": [
    "from scipy.optimize import nnls\n",
    "\n",
    "from func import exactConeAlignedCosine\n",
    "\n",
    "class coneAlignedCosine(exactConeAlignedCosine):\n",
    "    def _solveQP(self, cp, ctr, warmstart, conecheck):\n",
    "        # solve the linear equations\n",
    "        λ, _ = nnls(ctr.T, cp)\n",
    "        # get projection\n",
    "        proj = λ @ ctr\n",
    "        # normalize\n",
    "        proj = proj / np.linalg.norm(proj)\n",
    "        return torch.FloatTensor(proj)"
   ]
  },
  {
   "cell_type": "code",
   "execution_count": 55,
   "id": "50163912",
   "metadata": {},
   "outputs": [],
   "source": [
    "# init model\n",
    "reg = LinearRegression()"
   ]
  },
  {
   "cell_type": "code",
   "execution_count": 56,
   "id": "ced08397",
   "metadata": {},
   "outputs": [
    {
     "name": "stdout",
     "output_type": "stream",
     "text": [
      "Num of cores: 1\n"
     ]
    }
   ],
   "source": [
    "# init loss\n",
    "ca_cos = coneAlignedCosine(optmodel)"
   ]
  },
  {
   "cell_type": "code",
   "execution_count": 57,
   "id": "06a85c2b",
   "metadata": {},
   "outputs": [
    {
     "name": "stderr",
     "output_type": "stream",
     "text": [
      "Loss:  -0.9531: 100%|██████████████████████████████████████████████████████████████████| 32/32 [00:11<00:00,  2.89it/s]\n"
     ]
    },
    {
     "name": "stdout",
     "output_type": "stream",
     "text": [
      "Regret: 138.3727%\n",
      "Elapsed Time: 11.06 Sec\n"
     ]
    }
   ],
   "source": [
    "train(reg, ca_cos, lr, num_epochs)"
   ]
  },
  {
   "cell_type": "code",
   "execution_count": null,
   "id": "b7925c10",
   "metadata": {},
   "outputs": [],
   "source": []
  }
 ],
 "metadata": {
  "colab": {
   "provenance": []
  },
  "kernelspec": {
   "display_name": "Python 3 (ipykernel)",
   "language": "python",
   "name": "python3"
  },
  "language_info": {
   "codemirror_mode": {
    "name": "ipython",
    "version": 3
   },
   "file_extension": ".py",
   "mimetype": "text/x-python",
   "name": "python",
   "nbconvert_exporter": "python",
   "pygments_lexer": "ipython3",
   "version": "3.11.5"
  }
 },
 "nbformat": 4,
 "nbformat_minor": 5
}
