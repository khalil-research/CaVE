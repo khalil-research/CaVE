{
 "cells": [
  {
   "cell_type": "code",
   "execution_count": 1,
   "id": "e5e3e4e3",
   "metadata": {},
   "outputs": [
    {
     "name": "stdout",
     "output_type": "stream",
     "text": [
      "Auto-Sklearn cannot be imported.\n"
     ]
    },
    {
     "data": {
      "text/plain": [
       "<torch._C.Generator at 0x1ba01a05e30>"
      ]
     },
     "execution_count": 1,
     "metadata": {},
     "output_type": "execute_result"
    }
   ],
   "source": [
    "import numpy as np\n",
    "import torch\n",
    "import pyepo\n",
    "\n",
    "# random seed\n",
    "np.random.seed(42)\n",
    "torch.manual_seed(42)"
   ]
  },
  {
   "cell_type": "markdown",
   "id": "567b8178",
   "metadata": {},
   "source": [
    "### Shortest Path "
   ]
  },
  {
   "cell_type": "code",
   "execution_count": 2,
   "id": "72c9c34c",
   "metadata": {},
   "outputs": [],
   "source": [
    "# generate data\n",
    "grid = (5,5) # grid size\n",
    "num_data = 10 # number of training data\n",
    "num_feat = 5 # size of feature\n",
    "deg = 4 # polynomial degree\n",
    "feats, costs = pyepo.data.shortestpath.genData(num_data, num_feat, grid, deg, seed=42)"
   ]
  },
  {
   "cell_type": "code",
   "execution_count": 3,
   "id": "bf356a09",
   "metadata": {},
   "outputs": [
    {
     "name": "stdout",
     "output_type": "stream",
     "text": [
      "Set parameter Username\n",
      "Academic license - for non-commercial use only - expires 2024-01-01\n"
     ]
    }
   ],
   "source": [
    "from pyepo.model.grb import shortestPathModel\n",
    "# set solver\n",
    "optmodel = shortestPathModel(grid)"
   ]
  },
  {
   "cell_type": "code",
   "execution_count": 4,
   "id": "33ebe7ca",
   "metadata": {},
   "outputs": [
    {
     "name": "stdout",
     "output_type": "stream",
     "text": [
      "Optimizing for optDataset...\n"
     ]
    },
    {
     "name": "stderr",
     "output_type": "stream",
     "text": [
      "100%|███████████████████████████████████████████████████████████████████████████████| 100/100 [00:00<00:00, 470.32it/s]\n"
     ]
    }
   ],
   "source": [
    "from dataset import optDatasetConstrs\n",
    "dataset = optDatasetConstrs(optmodel, feats, costs=costs)"
   ]
  },
  {
   "cell_type": "code",
   "execution_count": 5,
   "id": "334f9573",
   "metadata": {},
   "outputs": [
    {
     "name": "stdout",
     "output_type": "stream",
     "text": [
      "Number of binding constrs: 90\n",
      "Number of decision variables: 40\n"
     ]
    }
   ],
   "source": [
    "print(\"Number of decision variables:\", dataset.ctrs[0].shape[1])\n",
    "print(\"Number of binding constrs:\", dataset.ctrs[0].shape[0])"
   ]
  },
  {
   "cell_type": "markdown",
   "id": "d82f22b4",
   "metadata": {},
   "source": [
    "### TSP "
   ]
  },
  {
   "cell_type": "code",
   "execution_count": 6,
   "id": "d2f09925",
   "metadata": {},
   "outputs": [],
   "source": [
    "# generate data\n",
    "num_node = 20 # node size\n",
    "num_data = 10 # number of training data\n",
    "num_feat = 10 # size of feature\n",
    "deg = 4 # polynomial degree\n",
    "feats, costs = pyepo.data.tsp.genData(num_data, num_feat, num_node, deg, seed=42)"
   ]
  },
  {
   "cell_type": "code",
   "execution_count": 7,
   "id": "6dad5af9",
   "metadata": {},
   "outputs": [],
   "source": [
    "from model import tspDFJModel\n",
    "# set solver\n",
    "optmodel = tspDFJModel(num_node)"
   ]
  },
  {
   "cell_type": "code",
   "execution_count": 8,
   "id": "205c2710",
   "metadata": {},
   "outputs": [
    {
     "name": "stdout",
     "output_type": "stream",
     "text": [
      "Optimizing for optDataset...\n"
     ]
    },
    {
     "name": "stderr",
     "output_type": "stream",
     "text": [
      "100%|████████████████████████████████████████████████████████████████████████████████| 100/100 [00:01<00:00, 53.20it/s]\n"
     ]
    }
   ],
   "source": [
    "from dataset import optDatasetConstrs\n",
    "dataset = optDatasetConstrs(optmodel, feats, costs=costs)"
   ]
  },
  {
   "cell_type": "code",
   "execution_count": 9,
   "id": "72107375",
   "metadata": {},
   "outputs": [
    {
     "name": "stdout",
     "output_type": "stream",
     "text": [
      "Number of binding constrs: 230\n",
      "Number of decision variables: 190\n"
     ]
    }
   ],
   "source": [
    "print(\"Number of decision variables:\", dataset.ctrs[0].shape[1])\n",
    "for i in range(num_data):\n",
    "    print(\"Number of binding constrs:\", dataset.ctrs[0].shape[0])"
   ]
  },
  {
   "cell_type": "markdown",
   "id": "48450c60",
   "metadata": {},
   "source": [
    "### Large TSP"
   ]
  },
  {
   "cell_type": "code",
   "execution_count": 10,
   "id": "e2957765",
   "metadata": {},
   "outputs": [],
   "source": [
    "# generate data\n",
    "num_node = 50 # node size\n",
    "num_data = 10 # number of training data\n",
    "num_feat = 10 # size of feature\n",
    "deg = 4 # polynomial degree\n",
    "feats, costs = pyepo.data.tsp.genData(num_data, num_feat, num_node, deg, seed=42)"
   ]
  },
  {
   "cell_type": "code",
   "execution_count": 11,
   "id": "920e4e46",
   "metadata": {},
   "outputs": [],
   "source": [
    "from model import tspDFJModel\n",
    "# set solver\n",
    "optmodel = tspDFJModel(num_node)"
   ]
  },
  {
   "cell_type": "code",
   "execution_count": 12,
   "id": "bc63d553",
   "metadata": {},
   "outputs": [
    {
     "name": "stdout",
     "output_type": "stream",
     "text": [
      "Optimizing for optDataset...\n"
     ]
    },
    {
     "name": "stderr",
     "output_type": "stream",
     "text": [
      "100%|██████████████████████████████████████████████████████████████████████████████████| 10/10 [00:02<00:00,  4.86it/s]\n"
     ]
    }
   ],
   "source": [
    "from dataset import optDatasetConstrs\n",
    "dataset = optDatasetConstrs(optmodel, feats, costs=costs)"
   ]
  },
  {
   "cell_type": "code",
   "execution_count": 14,
   "id": "453bb405",
   "metadata": {},
   "outputs": [
    {
     "name": "stdout",
     "output_type": "stream",
     "text": [
      "Number of decision variables: 1225\n",
      "Number of binding constrs: 1329\n",
      "Number of binding constrs: 1326\n",
      "Number of binding constrs: 1330\n",
      "Number of binding constrs: 1327\n",
      "Number of binding constrs: 1332\n",
      "Number of binding constrs: 1325\n",
      "Number of binding constrs: 1326\n",
      "Number of binding constrs: 1325\n",
      "Number of binding constrs: 1327\n",
      "Number of binding constrs: 1328\n"
     ]
    }
   ],
   "source": [
    "print(\"Number of decision variables:\", dataset.ctrs[0].shape[1])\n",
    "for i in range(num_data):\n",
    "    print(\"Number of binding constrs:\", dataset.ctrs[i].shape[0])"
   ]
  },
  {
   "cell_type": "code",
   "execution_count": null,
   "id": "ef10a6e7",
   "metadata": {},
   "outputs": [],
   "source": []
  }
 ],
 "metadata": {
  "kernelspec": {
   "display_name": "Python 3 (ipykernel)",
   "language": "python",
   "name": "python3"
  },
  "language_info": {
   "codemirror_mode": {
    "name": "ipython",
    "version": 3
   },
   "file_extension": ".py",
   "mimetype": "text/x-python",
   "name": "python",
   "nbconvert_exporter": "python",
   "pygments_lexer": "ipython3",
   "version": "3.9.18"
  }
 },
 "nbformat": 4,
 "nbformat_minor": 5
}
