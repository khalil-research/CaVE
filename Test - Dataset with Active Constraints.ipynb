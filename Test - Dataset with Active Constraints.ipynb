{
 "cells": [
  {
   "cell_type": "code",
   "execution_count": 1,
   "id": "7d1a2877",
   "metadata": {},
   "outputs": [
    {
     "name": "stdout",
     "output_type": "stream",
     "text": [
      "Auto-Sklearn cannot be imported.\n"
     ]
    }
   ],
   "source": [
    "import time\n",
    "\n",
    "import numpy as np\n",
    "import torch\n",
    "from torch.utils.data import Dataset\n",
    "from tqdm import tqdm\n",
    "\n",
    "from pyepo.model.opt import optModel\n",
    "\n",
    "\n",
    "class optDatasetConstrs(Dataset):\n",
    "    \"\"\"\n",
    "    This class is Torch Dataset for optimization problems with active constraints.\n",
    "\n",
    "    Attributes:\n",
    "        model (optModel): Optimization models\n",
    "        feats (np.ndarray): Data features\n",
    "        costs (np.ndarray): Cost vectors\n",
    "        sols (np.ndarray): Optimal solutions\n",
    "        objs (np.ndarray): Optimal objective values\n",
    "    \"\"\"\n",
    "\n",
    "    def __init__(self, model, feats, costs):\n",
    "        \"\"\"\n",
    "        A method to create a optDataset from optModel\n",
    "\n",
    "        Args:\n",
    "            model (optModel): an instance of optModel\n",
    "            feats (np.ndarray): data features\n",
    "            costs (np.ndarray): costs of objective function\n",
    "        \"\"\"\n",
    "        if not isinstance(model, optModel):\n",
    "            raise TypeError(\"arg model is not an optModel\")\n",
    "        self.model = model\n",
    "        # data\n",
    "        self.feats = feats\n",
    "        self.costs = costs\n",
    "        # find optimal solutions\n",
    "        self.sols, self.objs = self._getSols()\n",
    "\n",
    "    def _getSols(self):\n",
    "        \"\"\"\n",
    "        A method to get optimal solutions for all cost vectors\n",
    "        \"\"\"\n",
    "        sols = []\n",
    "        objs = []\n",
    "        print(\"Optimizing for optDataset...\")\n",
    "        time.sleep(1)\n",
    "        for c in tqdm(self.costs):\n",
    "            try:\n",
    "                sol, obj = self._solve(c)\n",
    "                constrs = self._getActiveConstrs()\n",
    "            except:\n",
    "                raise ValueError(\n",
    "                    \"For optModel, the method 'solve' should return solution vector and objective value.\"\n",
    "                )\n",
    "            sols.append(sol)\n",
    "            objs.append([obj])\n",
    "        return np.array(sols), np.array(objs)\n",
    "\n",
    "    def _solve(self, cost):\n",
    "        \"\"\"\n",
    "        A method to solve optimization problem to get an optimal solution with given cost\n",
    "\n",
    "        Args:\n",
    "            cost (np.ndarray): cost of objective function\n",
    "\n",
    "        Returns:\n",
    "            tuple: optimal solution (np.ndarray) and objective value (float)\n",
    "        \"\"\"\n",
    "        self.model.setObj(cost)\n",
    "        sol, obj = self.model.solve()\n",
    "        return sol, obj\n",
    "    \n",
    "    def _getActiveConstrs(self):\n",
    "        \"\"\"\n",
    "        A method to get active constraints with current optimal solution\n",
    "\n",
    "        Returns:\n",
    "            np.ndarray: normal vector of constraints\n",
    "        \"\"\"\n",
    "        for constr in self.model._model.getConstrs():\n",
    "            if abs(constr.Slack) < 1e-5:\n",
    "                print(constr.ConstrName, \"is active.\")\n",
    "                print(self.model._model.getRow(constr))\n",
    "\n",
    "    def __len__(self):\n",
    "        \"\"\"\n",
    "        A method to get data size\n",
    "\n",
    "        Returns:\n",
    "            int: the number of optimization problems\n",
    "        \"\"\"\n",
    "        return len(self.costs)\n",
    "\n",
    "    def __getitem__(self, index):\n",
    "        \"\"\"\n",
    "        A method to retrieve data\n",
    "\n",
    "        Args:\n",
    "            index (int): data index\n",
    "\n",
    "        Returns:\n",
    "            tuple: data features (torch.tensor), costs (torch.tensor), optimal solutions (torch.tensor) and objective values (torch.tensor)\n",
    "        \"\"\"\n",
    "        return (\n",
    "            torch.FloatTensor(self.feats[index]),\n",
    "            torch.FloatTensor(self.costs[index]),\n",
    "            torch.FloatTensor(self.sols[index]),\n",
    "            torch.FloatTensor(self.objs[index]),\n",
    "        )"
   ]
  },
  {
   "cell_type": "markdown",
   "id": "f2dc8477",
   "metadata": {},
   "source": [
    "## Data Set and Optimization Solver "
   ]
  },
  {
   "cell_type": "code",
   "execution_count": 2,
   "id": "f3aae7cb",
   "metadata": {},
   "outputs": [],
   "source": [
    "import pyepo"
   ]
  },
  {
   "cell_type": "code",
   "execution_count": 3,
   "id": "48c1f284",
   "metadata": {},
   "outputs": [],
   "source": [
    "# generate data\n",
    "grid = (2,2) # grid size\n",
    "num_data = 1000 # number of training data\n",
    "num_feat = 5 # size of feature\n",
    "deg = 4 # polynomial degree\n",
    "e = 0.5 # noise width\n",
    "feats, costs = pyepo.data.shortestpath.genData(num_data+1000, num_feat, grid, deg, e, seed=42)"
   ]
  },
  {
   "cell_type": "code",
   "execution_count": 4,
   "id": "78af0ce6",
   "metadata": {},
   "outputs": [
    {
     "name": "stdout",
     "output_type": "stream",
     "text": [
      "Set parameter Username\n",
      "Academic license - for non-commercial use only - expires 2024-01-01\n",
      "Obj: 0.5009689961416153\n",
      "(0, 2)\n",
      "(2, 3)\n"
     ]
    }
   ],
   "source": [
    "from pyepo.model.grb import shortestPathModel\n",
    "# set solver\n",
    "optmodel = shortestPathModel(grid)\n",
    "# test\n",
    "optmodel.setObj(costs[0])\n",
    "sol, obj = optmodel.solve()\n",
    "print(\"Obj: {}\".format(obj))\n",
    "for i, e in enumerate(optmodel.arcs):\n",
    "    if sol[i] > 1e-3:\n",
    "        print(e)"
   ]
  },
  {
   "cell_type": "code",
   "execution_count": 5,
   "id": "d20f2e86",
   "metadata": {},
   "outputs": [
    {
     "name": "stdout",
     "output_type": "stream",
     "text": [
      "Optimizing for optDataset...\n"
     ]
    },
    {
     "name": "stderr",
     "output_type": "stream",
     "text": [
      "100%|████████████████████████████████████████████████████████████████████████████████| 10/10 [00:00<00:00, 2851.52it/s]"
     ]
    },
    {
     "name": "stdout",
     "output_type": "stream",
     "text": [
      "R0 is active.\n",
      "-1.0 x[0,1] + -1.0 x[0,2]\n",
      "R1 is active.\n",
      "x[0,1] + -1.0 x[1,3]\n",
      "R2 is active.\n",
      "x[0,2] + -1.0 x[2,3]\n",
      "R3 is active.\n",
      "x[1,3] + x[2,3]\n",
      "R0 is active.\n",
      "-1.0 x[0,1] + -1.0 x[0,2]\n",
      "R1 is active.\n",
      "x[0,1] + -1.0 x[1,3]\n",
      "R2 is active.\n",
      "x[0,2] + -1.0 x[2,3]\n",
      "R3 is active.\n",
      "x[1,3] + x[2,3]\n",
      "R0 is active.\n",
      "-1.0 x[0,1] + -1.0 x[0,2]\n",
      "R1 is active.\n",
      "x[0,1] + -1.0 x[1,3]\n",
      "R2 is active.\n",
      "x[0,2] + -1.0 x[2,3]\n",
      "R3 is active.\n",
      "x[1,3] + x[2,3]\n",
      "R0 is active.\n",
      "-1.0 x[0,1] + -1.0 x[0,2]\n",
      "R1 is active.\n",
      "x[0,1] + -1.0 x[1,3]\n",
      "R2 is active.\n",
      "x[0,2] + -1.0 x[2,3]\n",
      "R3 is active.\n",
      "x[1,3] + x[2,3]\n",
      "R0 is active.\n",
      "-1.0 x[0,1] + -1.0 x[0,2]\n",
      "R1 is active.\n",
      "x[0,1] + -1.0 x[1,3]\n",
      "R2 is active.\n",
      "x[0,2] + -1.0 x[2,3]\n",
      "R3 is active.\n",
      "x[1,3] + x[2,3]\n",
      "R0 is active.\n",
      "-1.0 x[0,1] + -1.0 x[0,2]\n",
      "R1 is active.\n",
      "x[0,1] + -1.0 x[1,3]\n",
      "R2 is active.\n",
      "x[0,2] + -1.0 x[2,3]\n",
      "R3 is active.\n",
      "x[1,3] + x[2,3]\n",
      "R0 is active.\n",
      "-1.0 x[0,1] + -1.0 x[0,2]\n",
      "R1 is active.\n",
      "x[0,1] + -1.0 x[1,3]\n",
      "R2 is active.\n",
      "x[0,2] + -1.0 x[2,3]\n",
      "R3 is active.\n",
      "x[1,3] + x[2,3]\n",
      "R0 is active.\n",
      "-1.0 x[0,1] + -1.0 x[0,2]\n",
      "R1 is active.\n",
      "x[0,1] + -1.0 x[1,3]\n",
      "R2 is active.\n",
      "x[0,2] + -1.0 x[2,3]\n",
      "R3 is active.\n",
      "x[1,3] + x[2,3]\n",
      "R0 is active.\n",
      "-1.0 x[0,1] + -1.0 x[0,2]\n",
      "R1 is active.\n",
      "x[0,1] + -1.0 x[1,3]\n",
      "R2 is active.\n",
      "x[0,2] + -1.0 x[2,3]\n",
      "R3 is active.\n",
      "x[1,3] + x[2,3]\n",
      "R0 is active.\n",
      "-1.0 x[0,1] + -1.0 x[0,2]\n",
      "R1 is active.\n",
      "x[0,1] + -1.0 x[1,3]\n",
      "R2 is active.\n",
      "x[0,2] + -1.0 x[2,3]\n",
      "R3 is active.\n",
      "x[1,3] + x[2,3]\n"
     ]
    },
    {
     "name": "stderr",
     "output_type": "stream",
     "text": [
      "\n"
     ]
    }
   ],
   "source": [
    "# split data\n",
    "from sklearn.model_selection import train_test_split\n",
    "x_train, x_test, c_train, c_test = train_test_split(feats, costs, test_size=1000, random_state=42)\n",
    "# get training and test data set\n",
    "dataset_train = optDatasetConstrs(optmodel, x_train[:10], c_train[:10])"
   ]
  },
  {
   "cell_type": "code",
   "execution_count": null,
   "id": "2c5ebd8a",
   "metadata": {},
   "outputs": [],
   "source": []
  }
 ],
 "metadata": {
  "kernelspec": {
   "display_name": "Python 3 (ipykernel)",
   "language": "python",
   "name": "python3"
  },
  "language_info": {
   "codemirror_mode": {
    "name": "ipython",
    "version": 3
   },
   "file_extension": ".py",
   "mimetype": "text/x-python",
   "name": "python",
   "nbconvert_exporter": "python",
   "pygments_lexer": "ipython3",
   "version": "3.9.15"
  }
 },
 "nbformat": 4,
 "nbformat_minor": 5
}
